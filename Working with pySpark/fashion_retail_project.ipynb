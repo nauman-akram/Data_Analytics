{
  "nbformat": 4,
  "nbformat_minor": 0,
  "metadata": {
    "colab": {
      "provenance": [],
      "include_colab_link": true
    },
    "kernelspec": {
      "name": "python3",
      "display_name": "Python 3"
    },
    "language_info": {
      "name": "python"
    }
  },
  "cells": [
    {
      "cell_type": "markdown",
      "metadata": {
        "id": "view-in-github",
        "colab_type": "text"
      },
      "source": [
        "<a href=\"https://colab.research.google.com/github/nauman-akram/Data_Analytics/blob/master/Working%20with%20pySpark/fashion_retail_project.ipynb\" target=\"_parent\"><img src=\"https://colab.research.google.com/assets/colab-badge.svg\" alt=\"Open In Colab\"/></a>"
      ]
    },
    {
      "cell_type": "markdown",
      "source": [
        "*connection guide taken from ref:* [github link](https://github.com/gahogg/YouTube-I-mostly-use-colab-now-/blob/master/PySpark_DataFrame_SQL_Basics.ipynb)\n"
      ],
      "metadata": {
        "id": "QZiiTnUYVl-h"
      }
    },
    {
      "cell_type": "code",
      "execution_count": null,
      "metadata": {
        "id": "gsoTZXoVVNo1"
      },
      "outputs": [],
      "source": [
        "\n",
        "!apt-get install openjdk-8-jdk-headless -qq > /dev/null\n",
        "!wget -q http://archive.apache.org/dist/spark/spark-3.1.1/spark-3.1.1-bin-hadoop3.2.tgz\n",
        "!tar xf spark-3.1.1-bin-hadoop3.2.tgz\n",
        "!pip install -q findspark"
      ]
    },
    {
      "cell_type": "markdown",
      "source": [],
      "metadata": {
        "id": "goTU8-MnxXLZ"
      }
    },
    {
      "cell_type": "code",
      "source": [
        "\n",
        "import os\n",
        "os.environ[\"JAVA_HOME\"] = \"/usr/lib/jvm/java-8-openjdk-amd64\"\n",
        "os.environ[\"SPARK_HOME\"] = \"/content/spark-3.1.1-bin-hadoop3.2\""
      ],
      "metadata": {
        "id": "falDpPuxVVji"
      },
      "execution_count": null,
      "outputs": []
    },
    {
      "cell_type": "code",
      "source": [
        "\n",
        "import findspark\n",
        "findspark.init()\n",
        "from pyspark.sql import SparkSession\n",
        "spark = SparkSession.builder.master(\"local[*]\").getOrCreate()\n",
        "spark.conf.set(\"spark.sql.repl.eagerEval.enabled\", True) # Property used to format output tables better\n",
        "spark"
      ],
      "metadata": {
        "id": "YjRRZeXyVYD9",
        "colab": {
          "base_uri": "https://localhost:8080/",
          "height": 222
        },
        "outputId": "a1499c84-8964-46e7-8567-445dabc37161"
      },
      "execution_count": null,
      "outputs": [
        {
          "output_type": "execute_result",
          "data": {
            "text/plain": [
              "<pyspark.sql.session.SparkSession at 0x7f75445cadc0>"
            ],
            "text/html": [
              "\n",
              "            <div>\n",
              "                <p><b>SparkSession - in-memory</b></p>\n",
              "                \n",
              "        <div>\n",
              "            <p><b>SparkContext</b></p>\n",
              "\n",
              "            <p><a href=\"http://94717af0fdb6:4040\">Spark UI</a></p>\n",
              "\n",
              "            <dl>\n",
              "              <dt>Version</dt>\n",
              "                <dd><code>v3.1.1</code></dd>\n",
              "              <dt>Master</dt>\n",
              "                <dd><code>local[*]</code></dd>\n",
              "              <dt>AppName</dt>\n",
              "                <dd><code>pyspark-shell</code></dd>\n",
              "            </dl>\n",
              "        </div>\n",
              "        \n",
              "            </div>\n",
              "        "
            ]
          },
          "metadata": {},
          "execution_count": 3
        }
      ]
    },
    {
      "cell_type": "code",
      "source": [
        "spark = SparkSession.builder \\\n",
        "    .appName('pyspark-shell') \\\n",
        "    .master('local[*]') \\\n",
        "    .config(\"spark.jars.packages\", \"org.mongodb.spark:mongo-spark-connector_2.12-3.0.2\") \\\n",
        "    .config(\"spark.mongodb.input.uri\", 'mongodb+srv://your-collection-string') \\\n",
        "    .config(\"spark.mongodb.output.uri\", 'mongodb+srv://your-collection-string') \\\n",
        "    .getOrCreate()\n",
        "\n"
      ],
      "metadata": {
        "id": "wRRs0v_CVasm"
      },
      "execution_count": null,
      "outputs": []
    },
    {
      "cell_type": "markdown",
      "source": [
        "Connecting mongoDB through python"
      ],
      "metadata": {
        "id": "QXuq8Lucdj_V"
      }
    },
    {
      "cell_type": "code",
      "source": [
        "import pymongo\n",
        "\n",
        "myclient = pymongo.MongoClient(\"mongodb+srv://your-collection-string/test\")\n",
        "mydb = myclient[\"bigdata\"]\n",
        "mycol = mydb[\"brand_details\"]"
      ],
      "metadata": {
        "id": "KsVdAlSEVk_T"
      },
      "execution_count": null,
      "outputs": []
    },
    {
      "cell_type": "code",
      "source": [
        "import pandas as pd\n",
        "import pprint\n",
        "from bson.son import SON"
      ],
      "metadata": {
        "id": "MtYBwhXgpAUZ"
      },
      "execution_count": null,
      "outputs": []
    },
    {
      "cell_type": "code",
      "source": [
        "brand_details = pd.DataFrame(list(mycol.find()))"
      ],
      "metadata": {
        "id": "j6G0sarkovQz"
      },
      "execution_count": null,
      "outputs": []
    },
    {
      "cell_type": "markdown",
      "source": [
        "Analysis with mongoDB queries \n"
      ],
      "metadata": {
        "id": "abuHd9hyOBdT"
      }
    },
    {
      "cell_type": "code",
      "source": [
        "#show some of data\n",
        "i=0\n",
        "for x in mycol.find():\n",
        "    i += 1\n",
        "    if i<=3:\n",
        "        pprint.pprint( x)\n",
        "    else:\n",
        "        break"
      ],
      "metadata": {
        "id": "bZXDFPRIN_iU",
        "colab": {
          "base_uri": "https://localhost:8080/"
        },
        "outputId": "255a5fba-e2b7-443e-abd2-5c8d6f3c36ea"
      },
      "execution_count": null,
      "outputs": [
        {
          "output_type": "stream",
          "name": "stdout",
          "text": [
            "{'_id': ObjectId('63b4195c4ad68288f7b87e56'),\n",
            " 'brand_id': 32,\n",
            " 'brand_name': 'Adiva'}\n",
            "{'_id': ObjectId('63b4195c4ad68288f7b87e3a'),\n",
            " 'brand_id': 4,\n",
            " 'brand_name': '250 Designs'}\n",
            "{'_id': ObjectId('63b4195c4ad68288f7b87e7c'),\n",
            " 'brand_id': 70,\n",
            " 'brand_name': 'Angel & Rocket'}\n"
          ]
        }
      ]
    },
    {
      "cell_type": "markdown",
      "source": [
        "there is brand_id, and brand_name associated with the it\n"
      ],
      "metadata": {
        "id": "USCSuAvDgRwz"
      }
    },
    {
      "cell_type": "code",
      "source": [
        "brand_details.head(3)"
      ],
      "metadata": {
        "id": "yiNg2Z6dN_lI",
        "colab": {
          "base_uri": "https://localhost:8080/",
          "height": 143
        },
        "outputId": "2e861801-db96-462c-9d99-48d3dbf7c135"
      },
      "execution_count": null,
      "outputs": [
        {
          "output_type": "execute_result",
          "data": {
            "text/plain": [
              "                        _id  brand_id      brand_name\n",
              "0  63b4195c4ad68288f7b87e56        32           Adiva\n",
              "1  63b4195c4ad68288f7b87e3a         4     250 Designs\n",
              "2  63b4195c4ad68288f7b87e7c        70  Angel & Rocket"
            ],
            "text/html": [
              "\n",
              "  <div id=\"df-8abb7fec-2a91-4a27-a9d4-f5e4111fb3da\">\n",
              "    <div class=\"colab-df-container\">\n",
              "      <div>\n",
              "<style scoped>\n",
              "    .dataframe tbody tr th:only-of-type {\n",
              "        vertical-align: middle;\n",
              "    }\n",
              "\n",
              "    .dataframe tbody tr th {\n",
              "        vertical-align: top;\n",
              "    }\n",
              "\n",
              "    .dataframe thead th {\n",
              "        text-align: right;\n",
              "    }\n",
              "</style>\n",
              "<table border=\"1\" class=\"dataframe\">\n",
              "  <thead>\n",
              "    <tr style=\"text-align: right;\">\n",
              "      <th></th>\n",
              "      <th>_id</th>\n",
              "      <th>brand_id</th>\n",
              "      <th>brand_name</th>\n",
              "    </tr>\n",
              "  </thead>\n",
              "  <tbody>\n",
              "    <tr>\n",
              "      <th>0</th>\n",
              "      <td>63b4195c4ad68288f7b87e56</td>\n",
              "      <td>32</td>\n",
              "      <td>Adiva</td>\n",
              "    </tr>\n",
              "    <tr>\n",
              "      <th>1</th>\n",
              "      <td>63b4195c4ad68288f7b87e3a</td>\n",
              "      <td>4</td>\n",
              "      <td>250 Designs</td>\n",
              "    </tr>\n",
              "    <tr>\n",
              "      <th>2</th>\n",
              "      <td>63b4195c4ad68288f7b87e7c</td>\n",
              "      <td>70</td>\n",
              "      <td>Angel &amp; Rocket</td>\n",
              "    </tr>\n",
              "  </tbody>\n",
              "</table>\n",
              "</div>\n",
              "      <button class=\"colab-df-convert\" onclick=\"convertToInteractive('df-8abb7fec-2a91-4a27-a9d4-f5e4111fb3da')\"\n",
              "              title=\"Convert this dataframe to an interactive table.\"\n",
              "              style=\"display:none;\">\n",
              "        \n",
              "  <svg xmlns=\"http://www.w3.org/2000/svg\" height=\"24px\"viewBox=\"0 0 24 24\"\n",
              "       width=\"24px\">\n",
              "    <path d=\"M0 0h24v24H0V0z\" fill=\"none\"/>\n",
              "    <path d=\"M18.56 5.44l.94 2.06.94-2.06 2.06-.94-2.06-.94-.94-2.06-.94 2.06-2.06.94zm-11 1L8.5 8.5l.94-2.06 2.06-.94-2.06-.94L8.5 2.5l-.94 2.06-2.06.94zm10 10l.94 2.06.94-2.06 2.06-.94-2.06-.94-.94-2.06-.94 2.06-2.06.94z\"/><path d=\"M17.41 7.96l-1.37-1.37c-.4-.4-.92-.59-1.43-.59-.52 0-1.04.2-1.43.59L10.3 9.45l-7.72 7.72c-.78.78-.78 2.05 0 2.83L4 21.41c.39.39.9.59 1.41.59.51 0 1.02-.2 1.41-.59l7.78-7.78 2.81-2.81c.8-.78.8-2.07 0-2.86zM5.41 20L4 18.59l7.72-7.72 1.47 1.35L5.41 20z\"/>\n",
              "  </svg>\n",
              "      </button>\n",
              "      \n",
              "  <style>\n",
              "    .colab-df-container {\n",
              "      display:flex;\n",
              "      flex-wrap:wrap;\n",
              "      gap: 12px;\n",
              "    }\n",
              "\n",
              "    .colab-df-convert {\n",
              "      background-color: #E8F0FE;\n",
              "      border: none;\n",
              "      border-radius: 50%;\n",
              "      cursor: pointer;\n",
              "      display: none;\n",
              "      fill: #1967D2;\n",
              "      height: 32px;\n",
              "      padding: 0 0 0 0;\n",
              "      width: 32px;\n",
              "    }\n",
              "\n",
              "    .colab-df-convert:hover {\n",
              "      background-color: #E2EBFA;\n",
              "      box-shadow: 0px 1px 2px rgba(60, 64, 67, 0.3), 0px 1px 3px 1px rgba(60, 64, 67, 0.15);\n",
              "      fill: #174EA6;\n",
              "    }\n",
              "\n",
              "    [theme=dark] .colab-df-convert {\n",
              "      background-color: #3B4455;\n",
              "      fill: #D2E3FC;\n",
              "    }\n",
              "\n",
              "    [theme=dark] .colab-df-convert:hover {\n",
              "      background-color: #434B5C;\n",
              "      box-shadow: 0px 1px 3px 1px rgba(0, 0, 0, 0.15);\n",
              "      filter: drop-shadow(0px 1px 2px rgba(0, 0, 0, 0.3));\n",
              "      fill: #FFFFFF;\n",
              "    }\n",
              "  </style>\n",
              "\n",
              "      <script>\n",
              "        const buttonEl =\n",
              "          document.querySelector('#df-8abb7fec-2a91-4a27-a9d4-f5e4111fb3da button.colab-df-convert');\n",
              "        buttonEl.style.display =\n",
              "          google.colab.kernel.accessAllowed ? 'block' : 'none';\n",
              "\n",
              "        async function convertToInteractive(key) {\n",
              "          const element = document.querySelector('#df-8abb7fec-2a91-4a27-a9d4-f5e4111fb3da');\n",
              "          const dataTable =\n",
              "            await google.colab.kernel.invokeFunction('convertToInteractive',\n",
              "                                                     [key], {});\n",
              "          if (!dataTable) return;\n",
              "\n",
              "          const docLinkHtml = 'Like what you see? Visit the ' +\n",
              "            '<a target=\"_blank\" href=https://colab.research.google.com/notebooks/data_table.ipynb>data table notebook</a>'\n",
              "            + ' to learn more about interactive tables.';\n",
              "          element.innerHTML = '';\n",
              "          dataTable['output_type'] = 'display_data';\n",
              "          await google.colab.output.renderOutput(dataTable, element);\n",
              "          const docLink = document.createElement('div');\n",
              "          docLink.innerHTML = docLinkHtml;\n",
              "          element.appendChild(docLink);\n",
              "        }\n",
              "      </script>\n",
              "    </div>\n",
              "  </div>\n",
              "  "
            ]
          },
          "metadata": {},
          "execution_count": 12
        }
      ]
    },
    {
      "cell_type": "code",
      "source": [
        "print('total no of brands in dataset:', mycol.estimated_document_count())"
      ],
      "metadata": {
        "id": "tHClA0_1N_n6",
        "colab": {
          "base_uri": "https://localhost:8080/"
        },
        "outputId": "ecc7e9bf-b454-48d0-bcb5-9f8a3724f742"
      },
      "execution_count": null,
      "outputs": [
        {
          "output_type": "stream",
          "name": "stdout",
          "text": [
            "total no of brands in dataset: 1020\n"
          ]
        }
      ]
    },
    {
      "cell_type": "code",
      "source": [],
      "metadata": {
        "id": "RUivfTpaowl1"
      },
      "execution_count": null,
      "outputs": []
    },
    {
      "cell_type": "code",
      "source": [
        "fashion_col = mydb[\"fashion\"]"
      ],
      "metadata": {
        "id": "t9ZoEd67pDcH"
      },
      "execution_count": null,
      "outputs": []
    },
    {
      "cell_type": "markdown",
      "source": [
        "Analysis with mongoDB queries \n"
      ],
      "metadata": {
        "id": "qkrrIi3qOGKD"
      }
    },
    {
      "cell_type": "code",
      "source": [
        "#show some of data from fashion collection\n",
        "i=0\n",
        "for x in fashion_col.find():\n",
        "    i += 1\n",
        "    if i<=3:\n",
        "        pprint.pprint( x)\n",
        "    else:\n",
        "        break"
      ],
      "metadata": {
        "id": "0BgcJMtJN6w4",
        "colab": {
          "base_uri": "https://localhost:8080/"
        },
        "outputId": "e84ac9ed-0d91-4c0b-91d6-8fa2f1437f27"
      },
      "execution_count": null,
      "outputs": [
        {
          "output_type": "stream",
          "name": "stdout",
          "text": [
            "{'_id': ObjectId('63b1961df26165df1760b2f9'),\n",
            " 'avg_rating': 4.548826646,\n",
            " 'brand': 'Dupatta Bazaar',\n",
            " 'colour': 'White',\n",
            " 'description': 'White embroidered&nbsp;dupattaChiffon<br>Hand-wash '\n",
            "                'coldLength: 2.5 metres Width: 1 metre',\n",
            " 'name': 'Dupatta Bazaar White Embroidered Chiffon Dupatta',\n",
            " 'p_attributes': \"{'Occasion': 'Daily', 'Pattern': 'Embroidered', 'Print or \"\n",
            "                 \"Pattern Type': 'Floral'}\",\n",
            " 'p_id': 1518329,\n",
            " 'price': 899,\n",
            " 'ratingCount': 1321}\n",
            "{'_id': ObjectId('63b1961df26165df1760b30e'),\n",
            " 'avg_rating': 4.652173913,\n",
            " 'brand': 'WEAVERS VILLA',\n",
            " 'colour': 'Pink',\n",
            " 'description': 'Pink and mustard yellow floral embroidered shawl, has solid '\n",
            "                'border with tasselsWool and acrylic blend<br>Dry CleanLength: '\n",
            "                '2 m<br>Width: 75 cm',\n",
            " 'name': 'WEAVERS VILLA Women Pink & Mustard Yellow Floral Embroidered Shawl',\n",
            " 'p_attributes': \"{'Border': 'Solid', 'Fabric': 'Wool', 'Fabric 2': 'Acrylic', \"\n",
            "                 \"'Fabric Purity': 'Blended', 'Fusion Wear': 'No', 'Occasion': \"\n",
            "                 \"'Daily', 'Ornamentation': 'Other', 'Pattern': 'Embroidered', \"\n",
            "                 \"'Pattern Size': 'Medium', 'Print or Pattern Type': 'Floral'}\",\n",
            " 'p_id': 12159424,\n",
            " 'price': 1399,\n",
            " 'ratingCount': 23}\n",
            "{'_id': ObjectId('63b1961df26165df1760b305'),\n",
            " 'avg_rating': 3.912,\n",
            " 'brand': 'Tokyo Talkies',\n",
            " 'colour': 'Maroon',\n",
            " 'description': '<p>Maroon solid regular-fit single-breasted formal blazer, '\n",
            "                'has notched lapel collar, long sleeves, 2 pockets, single '\n",
            "                'button closure and straight hem</p><p>Regular fit<br>The '\n",
            "                \"model (height 5'8'') is wearing a size S</p><p>70%Polyester \"\n",
            "                '30%Viscose<br>Machine Wash</p>',\n",
            " 'name': 'Tokyo Talkies Women Maroon Solid Single-Breasted Formal Blazer',\n",
            " 'p_attributes': \"{'Body Shape ID': '443,324,333,424', 'Body or Garment Size': \"\n",
            "                 \"'Garment Measurements in', 'Closure': 'Button', 'Collar': \"\n",
            "                 \"'Notched Lapel', 'Fabric': 'Polyviscose', 'Fabric Type': \"\n",
            "                 \"'NA', 'Fit': 'Regular Fit', 'Front Styling': \"\n",
            "                 \"'Single-Breasted', 'Length': 'Regular', 'Lining Fabric': \"\n",
            "                 \"'Unlined', 'Occasion': 'Casual', 'Pattern': 'Solid', 'Sleeve \"\n",
            "                 \"Length': 'Long Sleeves', 'Sustainable': 'Regular', 'Wash \"\n",
            "                 \"Care': 'Machine Wash'}\",\n",
            " 'p_id': 16827132,\n",
            " 'price': 1399,\n",
            " 'ratingCount': 125}\n"
          ]
        }
      ]
    },
    {
      "cell_type": "code",
      "source": [
        "#total\n",
        "print('total no of documents(rows) for fashion dataset:', fashion_col.estimated_document_count())"
      ],
      "metadata": {
        "id": "LM0F96xzN6zs",
        "colab": {
          "base_uri": "https://localhost:8080/"
        },
        "outputId": "bf124a3b-3653-4640-bcdc-367efa1b3c77"
      },
      "execution_count": null,
      "outputs": [
        {
          "output_type": "stream",
          "name": "stdout",
          "text": [
            "total no of documents(rows) for fashion dataset: 14329\n"
          ]
        }
      ]
    },
    {
      "cell_type": "code",
      "source": [
        "#size in terms of memory in KBs and MBs\n",
        "\n",
        "print('Size in KBs:', mydb.command(\"collstats\",\"fashion\")[\"storageSize\"]/1024.0 )\n",
        "print('Size in MBs:', (mydb.command(\"collstats\",\"fashion\")[\"storageSize\"]/(1024.0*1024.0)))\n"
      ],
      "metadata": {
        "id": "ANcmjtxxhZw3",
        "colab": {
          "base_uri": "https://localhost:8080/"
        },
        "outputId": "7deacc8f-e0f9-47d2-edda-1b88c9898a20"
      },
      "execution_count": null,
      "outputs": [
        {
          "output_type": "stream",
          "name": "stdout",
          "text": [
            "Size in KBs: 5788.0\n",
            "Size in MBs: 5.65234375\n"
          ]
        }
      ]
    },
    {
      "cell_type": "code",
      "source": [
        "#Unique \n",
        "\n",
        "print('total unique brands in dataset:', len(fashion_col.distinct('brand')))"
      ],
      "metadata": {
        "id": "JdG-lRjlgviK",
        "colab": {
          "base_uri": "https://localhost:8080/"
        },
        "outputId": "312c203e-3760-49b2-ba75-815fe7ca14a0"
      },
      "execution_count": null,
      "outputs": [
        {
          "output_type": "stream",
          "name": "stdout",
          "text": [
            "total unique brands in dataset: 1020\n"
          ]
        }
      ]
    },
    {
      "cell_type": "markdown",
      "source": [],
      "metadata": {
        "id": "FseCtVi-j__I"
      }
    },
    {
      "cell_type": "markdown",
      "source": [
        "Which are same as we got from brand_details total collection\n"
      ],
      "metadata": {
        "id": "_MXwlFjpj5D1"
      }
    },
    {
      "cell_type": "code",
      "source": [
        "#top five brands with their no. of occurance\n",
        "\n",
        "query = fashion_col.aggregate([\n",
        "    { \"$group\":{\"_id\": \"$brand\", \"count\":{\"$sum\":1}}  },\n",
        "    {  \"$sort\": {\"count\":-1}   },\n",
        "    {   \"$limit\" : 5} \n",
        "    ])\n",
        "\n",
        "for i in query:\n",
        "    pprint.pprint(i)"
      ],
      "metadata": {
        "id": "2WYxElf0j4Qv",
        "colab": {
          "base_uri": "https://localhost:8080/"
        },
        "outputId": "ebf9a344-0331-43eb-998f-45cac2188acf"
      },
      "execution_count": null,
      "outputs": [
        {
          "output_type": "stream",
          "name": "stdout",
          "text": [
            "{'_id': 'Roadster', 'count': 346}\n",
            "{'_id': 'Tokyo Talkies', 'count': 287}\n",
            "{'_id': 'MANGO', 'count': 264}\n",
            "{'_id': 'SASSAFRAS', 'count': 246}\n",
            "{'_id': 'Clora Creation', 'count': 236}\n"
          ]
        }
      ]
    },
    {
      "cell_type": "code",
      "source": [
        "#Least five brands with their no. of occurance\n",
        "\n",
        "query = fashion_col.aggregate([\n",
        "    { \"$group\":{\"_id\": \"$brand\", \"count\":{\"$sum\":1}}  },\n",
        "    {  \"$sort\": {\"count\":1}   },\n",
        "    {   \"$limit\" : 5} \n",
        "    ])\n",
        "\n",
        "for i in query:\n",
        "    pprint.pprint(i)"
      ],
      "metadata": {
        "id": "MzJEpv8nkOXf",
        "colab": {
          "base_uri": "https://localhost:8080/"
        },
        "outputId": "b10d6089-0956-4fd7-934c-02f0dcedfe74"
      },
      "execution_count": null,
      "outputs": [
        {
          "output_type": "stream",
          "name": "stdout",
          "text": [
            "{'_id': 'Lovista', 'count': 1}\n",
            "{'_id': 'Mine4Nine', 'count': 1}\n",
            "{'_id': 'RENTIYO', 'count': 1}\n",
            "{'_id': 'Nauti Nati', 'count': 1}\n",
            "{'_id': 'NAVIYATA', 'count': 1}\n"
          ]
        }
      ]
    },
    {
      "cell_type": "code",
      "source": [
        "#all the brands with 1 occurance in data set\n",
        "\n",
        "query2 = fashion_col.aggregate([\n",
        "    { \"$group\":{\"_id\": \"$brand\", \"count\":{\"$sum\":1}}  },\n",
        "    {  \"$sort\": {\"count\":1}   },\n",
        "    ])\n",
        "\n",
        "single_occ_brands = [dict[\"_id\"] for dict in query2 if dict[\"count\"] == 1]\n",
        "print (\"total brands appearing one time\", len(single_occ_brands))\n",
        "pprint.pprint( single_occ_brands)\n",
        "\n"
      ],
      "metadata": {
        "id": "vgFKFqkSkOaH",
        "colab": {
          "base_uri": "https://localhost:8080/"
        },
        "outputId": "bf7de514-d871-45b0-e3a6-ac0b50d5e407"
      },
      "execution_count": null,
      "outputs": [
        {
          "output_type": "stream",
          "name": "stdout",
          "text": [
            "total brands appearing one time 211\n",
            "['Mine4Nine',\n",
            " 'NAVIYATA',\n",
            " 'Lovista',\n",
            " 'Nauti Nati',\n",
            " 'RENTIYO',\n",
            " 'One of a Kind',\n",
            " 'BURGER BAE',\n",
            " 'CUSHYBEE',\n",
            " 'Pistaa',\n",
            " 'Cub McPaws',\n",
            " 'SuperBottoms',\n",
            " 'shiloh',\n",
            " 'Indi INSIDE',\n",
            " 'ZIKARAA',\n",
            " 'SAAKAA',\n",
            " 'Swasti',\n",
            " 'Dexter by Kook N Keech',\n",
            " 'NOT YET by us',\n",
            " 'PrettyPlus by Desinoor.com',\n",
            " 'Nivah Fashion',\n",
            " 'Kanvin',\n",
            " 'tantkatha',\n",
            " 'JUNEBERRY',\n",
            " 'IUGA',\n",
            " 'Reebok Classic',\n",
            " 'am ma',\n",
            " 'taffykids',\n",
            " 'Fashion FRICKS',\n",
            " 'Virah Fashion',\n",
            " 'London Rag',\n",
            " 'Juniper Plus',\n",
            " 'Chipbeys',\n",
            " 'Dollar Missy',\n",
            " 'MISSY',\n",
            " 'Knitstudio',\n",
            " 'Havida Sarees',\n",
            " 'One Friday',\n",
            " 'Tuna London',\n",
            " 'WILORI',\n",
            " 'HSR',\n",
            " 'FabFairy',\n",
            " 'Flenzy',\n",
            " 'SAPTRANGI',\n",
            " 'An Episode',\n",
            " 'gvs shoppe',\n",
            " 'JBN Creation',\n",
            " 'Angel & Rocket',\n",
            " 'FRENCH FLEXIOUS',\n",
            " 'VERO MODA CURVE',\n",
            " 'Fabcartz',\n",
            " 'KBZ',\n",
            " 'Ashtag',\n",
            " 'KANNAHI',\n",
            " 'BonOrganik',\n",
            " 'ANAISA',\n",
            " 'Remanika',\n",
            " 'Frempy',\n",
            " 'One Femme',\n",
            " 'Juniors by Lifestyle',\n",
            " 'WEAVETECH IMPEX',\n",
            " 'ADBUCKS',\n",
            " 'Shree',\n",
            " 'Crozo By Cantabil',\n",
            " \"Cloth's Villa\",\n",
            " 'Plutus',\n",
            " 'UrGear',\n",
            " 'Me Craft',\n",
            " 'Jashvi Creation',\n",
            " 'MIRAVAN',\n",
            " 'Civil',\n",
            " 'Modriba',\n",
            " 'Mystere Paris',\n",
            " 'Seerat',\n",
            " 'DesiNoor.com',\n",
            " 'FITLEASURE',\n",
            " 'Reebok',\n",
            " 'LIL PITAARA',\n",
            " 'Indiankala4u',\n",
            " 'AV2',\n",
            " 'Kryptic',\n",
            " 'Envy Me by FASHOR',\n",
            " 'KLAS NOBL',\n",
            " 'FLAWLESS',\n",
            " 'SiaVira',\n",
            " 'Triveni',\n",
            " 'Nakshi',\n",
            " 'Nun',\n",
            " 'Bani Women',\n",
            " 'Allen Solly Tribe',\n",
            " 'Park Avenue',\n",
            " 'Rudra Bazaar',\n",
            " 'Kasak',\n",
            " 'trueBrowns',\n",
            " 'THREAD MUSTER',\n",
            " 'AKISO',\n",
            " 'Pantaloons Junior',\n",
            " 'Swishchick',\n",
            " 'FIDOZA',\n",
            " 'Zeyo',\n",
            " 'QUARANTINE',\n",
            " 'Campana',\n",
            " 'RARE ROOTS',\n",
            " 'A Little Fable',\n",
            " 'Silvertraq',\n",
            " 'SEEQ',\n",
            " 'CACA CINA',\n",
            " 'BlissClub',\n",
            " 'PIROH',\n",
            " 'F Loop',\n",
            " 'Tweedle',\n",
            " 'Taneira',\n",
            " 'F.R.I.E.N.D.S By Sztori',\n",
            " 'Noi',\n",
            " 'Kook N Keech Looney Tunes',\n",
            " 'LY2',\n",
            " 'Raano',\n",
            " 'zebu',\n",
            " 'Mango Kids',\n",
            " 'Pisara',\n",
            " 'Miss Poem',\n",
            " 'Alena',\n",
            " 'CLUB A9',\n",
            " 'THE NKS PLUS',\n",
            " 'VredeVogel',\n",
            " 'Quechua By Decathlon',\n",
            " 'GoSriKi',\n",
            " 'Rivana',\n",
            " 'JAVTA',\n",
            " 'Fashion Booms',\n",
            " 'ADIDAS Originals',\n",
            " 'AMIRAS INDIAN ETHNIC WEAR',\n",
            " 'Fab Dadu',\n",
            " 'skyria',\n",
            " 'Nick&Jess',\n",
            " 'zink Z',\n",
            " 'BAHUJI',\n",
            " 'KOVET',\n",
            " 'Anahi',\n",
            " 'Head',\n",
            " 'MANZON',\n",
            " 'Twisha',\n",
            " 'Forevermore',\n",
            " 'Domyos By Decathlon',\n",
            " 'Roly Poly',\n",
            " 'Baby Moo',\n",
            " 'Fab Viva',\n",
            " 'NYNSH- PlusS Kids',\n",
            " 'ONEWAY',\n",
            " 'Bitz',\n",
            " 'DECKEDUP',\n",
            " 'Thread & Button',\n",
            " 'Sasimo',\n",
            " 'Tiny Girl',\n",
            " 'Color Trends',\n",
            " 'effy',\n",
            " 'U.S. Polo Assn. Kids',\n",
            " 'Silk Bazar',\n",
            " 'KEX',\n",
            " 'LADUSAA',\n",
            " 'Fabclub',\n",
            " 'ARMISTO',\n",
            " 'LIVE OK',\n",
            " 'GLAM ROOTS',\n",
            " 'Grubstaker',\n",
            " 'MISHRI COLLECTION',\n",
            " 'FRANCLO',\n",
            " 'Reich Color',\n",
            " 'LEWAWAA',\n",
            " 'pspeaches',\n",
            " 'UNDER ARMOUR',\n",
            " 'SHANVIKA',\n",
            " 'Natilene',\n",
            " 'Golden Kite',\n",
            " 'NIZA',\n",
            " 'JAINISH',\n",
            " 'toothless',\n",
            " 'Aasiya',\n",
            " 'MS RETAIL',\n",
            " 'RGHT',\n",
            " 'Panash Trends',\n",
            " 'Silai Bunai',\n",
            " 'SURACHITA',\n",
            " 'Teakwood Leathers',\n",
            " 'VEIRDO',\n",
            " 'ADEESHA',\n",
            " 'Being Human',\n",
            " 'IDK',\n",
            " 'YOYO Fashion',\n",
            " 'SARIYA',\n",
            " 'Aditi Wasan',\n",
            " 'AADVIKA',\n",
            " 'Vami',\n",
            " 'American Crew',\n",
            " 'Indian Dobby',\n",
            " 'anokherang',\n",
            " 'Trendmalls',\n",
            " 'Senyora',\n",
            " 'EDRIO',\n",
            " 'Ziva Fashion',\n",
            " 'SCOUP',\n",
            " 'Tiara',\n",
            " 'ATHLISIS',\n",
            " 'Clovia',\n",
            " '9teenAGAIN',\n",
            " 'KEIKO',\n",
            " 'NAYRAH',\n",
            " 'Invincible',\n",
            " 'Minions by Kook N Keech',\n",
            " 'mothercare',\n",
            " 'YCANF',\n",
            " 'Sudarshan Silks']\n"
          ]
        }
      ]
    },
    {
      "cell_type": "code",
      "source": [
        "query_agg = fashion_col.aggregate([{\n",
        "  \"$group\": {\n",
        "    \"_id\": \"$brand\",\n",
        "    \"count\": {\n",
        "      \"$sum\": 1\n",
        "    }\n",
        "  }\n",
        "},{\n",
        "  \"$match\": {\n",
        "    \"$expr\": {\n",
        "      \"$eq\": [\n",
        "        \"$count\",\n",
        "        1\n",
        "      ]\n",
        "    }\n",
        "  }\n",
        "},{\n",
        "  \"$project\": {\n",
        "    \"brand\": \"$_id\",\n",
        "    \"count\": 1,\n",
        "    \"_id\": 0\n",
        "  }\n",
        "}])"
      ],
      "metadata": {
        "id": "d7It9wRgtcg9"
      },
      "execution_count": null,
      "outputs": []
    },
    {
      "cell_type": "code",
      "source": [
        "count=0\n",
        "for i in query_agg:\n",
        "    count += 1 \n",
        "    pprint.pprint(i)\n",
        "\n",
        "print(\"total brands appearing one time\", count)"
      ],
      "metadata": {
        "id": "ohWA6O_3uPQi",
        "colab": {
          "base_uri": "https://localhost:8080/"
        },
        "outputId": "3775c256-dacf-48ad-fc79-2453427a1420"
      },
      "execution_count": null,
      "outputs": [
        {
          "output_type": "stream",
          "name": "stdout",
          "text": [
            "{'brand': 'SAAKAA', 'count': 1}\n",
            "{'brand': 'ZIKARAA', 'count': 1}\n",
            "{'brand': 'Swasti', 'count': 1}\n",
            "{'brand': 'SuperBottoms', 'count': 1}\n",
            "{'brand': 'Pistaa', 'count': 1}\n",
            "{'brand': 'shiloh', 'count': 1}\n",
            "{'brand': 'Cub McPaws', 'count': 1}\n",
            "{'brand': 'Indi INSIDE', 'count': 1}\n",
            "{'brand': 'PrettyPlus by Desinoor.com', 'count': 1}\n",
            "{'brand': 'Nivah Fashion', 'count': 1}\n",
            "{'brand': 'Dexter by Kook N Keech', 'count': 1}\n",
            "{'brand': 'NOT YET by us', 'count': 1}\n",
            "{'brand': 'Nauti Nati', 'count': 1}\n",
            "{'brand': 'Mine4Nine', 'count': 1}\n",
            "{'brand': 'NAVIYATA', 'count': 1}\n",
            "{'brand': 'BURGER BAE', 'count': 1}\n",
            "{'brand': 'Lovista', 'count': 1}\n",
            "{'brand': 'CUSHYBEE', 'count': 1}\n",
            "{'brand': 'One of a Kind', 'count': 1}\n",
            "{'brand': 'RENTIYO', 'count': 1}\n",
            "{'brand': 'Reebok Classic', 'count': 1}\n",
            "{'brand': 'Fashion FRICKS', 'count': 1}\n",
            "{'brand': 'am ma', 'count': 1}\n",
            "{'brand': 'taffykids', 'count': 1}\n",
            "{'brand': 'tantkatha', 'count': 1}\n",
            "{'brand': 'Kanvin', 'count': 1}\n",
            "{'brand': 'JUNEBERRY', 'count': 1}\n",
            "{'brand': 'IUGA', 'count': 1}\n",
            "{'brand': 'An Episode', 'count': 1}\n",
            "{'brand': 'gvs shoppe', 'count': 1}\n",
            "{'brand': 'MISSY', 'count': 1}\n",
            "{'brand': 'Dollar Missy', 'count': 1}\n",
            "{'brand': 'Virah Fashion', 'count': 1}\n",
            "{'brand': 'London Rag', 'count': 1}\n",
            "{'brand': 'Juniper Plus', 'count': 1}\n",
            "{'brand': 'Chipbeys', 'count': 1}\n",
            "{'brand': 'WILORI', 'count': 1}\n",
            "{'brand': 'HSR', 'count': 1}\n",
            "{'brand': 'FabFairy', 'count': 1}\n",
            "{'brand': 'SAPTRANGI', 'count': 1}\n",
            "{'brand': 'Flenzy', 'count': 1}\n",
            "{'brand': 'Havida Sarees', 'count': 1}\n",
            "{'brand': 'Knitstudio', 'count': 1}\n",
            "{'brand': 'One Friday', 'count': 1}\n",
            "{'brand': 'Tuna London', 'count': 1}\n",
            "{'brand': 'Frempy', 'count': 1}\n",
            "{'brand': 'ANAISA', 'count': 1}\n",
            "{'brand': 'Remanika', 'count': 1}\n",
            "{'brand': 'KBZ', 'count': 1}\n",
            "{'brand': 'Ashtag', 'count': 1}\n",
            "{'brand': 'KANNAHI', 'count': 1}\n",
            "{'brand': 'BonOrganik', 'count': 1}\n",
            "{'brand': 'Juniors by Lifestyle', 'count': 1}\n",
            "{'brand': 'WEAVETECH IMPEX', 'count': 1}\n",
            "{'brand': 'ADBUCKS', 'count': 1}\n",
            "{'brand': 'One Femme', 'count': 1}\n",
            "{'brand': 'Angel & Rocket', 'count': 1}\n",
            "{'brand': 'JBN Creation', 'count': 1}\n",
            "{'brand': 'Fabcartz', 'count': 1}\n",
            "{'brand': 'FRENCH FLEXIOUS', 'count': 1}\n",
            "{'brand': 'VERO MODA CURVE', 'count': 1}\n",
            "{'brand': 'Jashvi Creation', 'count': 1}\n",
            "{'brand': 'Me Craft', 'count': 1}\n",
            "{'brand': 'UrGear', 'count': 1}\n",
            "{'brand': 'Civil', 'count': 1}\n",
            "{'brand': 'Modriba', 'count': 1}\n",
            "{'brand': 'MIRAVAN', 'count': 1}\n",
            "{'brand': 'Crozo By Cantabil', 'count': 1}\n",
            "{'brand': 'Shree', 'count': 1}\n",
            "{'brand': \"Cloth's Villa\", 'count': 1}\n",
            "{'brand': 'Plutus', 'count': 1}\n",
            "{'brand': 'SiaVira', 'count': 1}\n",
            "{'brand': 'Envy Me by FASHOR', 'count': 1}\n",
            "{'brand': 'KLAS NOBL', 'count': 1}\n",
            "{'brand': 'FLAWLESS', 'count': 1}\n",
            "{'brand': 'Nun', 'count': 1}\n",
            "{'brand': 'Triveni', 'count': 1}\n",
            "{'brand': 'Nakshi', 'count': 1}\n",
            "{'brand': 'Mystere Paris', 'count': 1}\n",
            "{'brand': 'Seerat', 'count': 1}\n",
            "{'brand': 'DesiNoor.com', 'count': 1}\n",
            "{'brand': 'FITLEASURE', 'count': 1}\n",
            "{'brand': 'Kryptic', 'count': 1}\n",
            "{'brand': 'LIL PITAARA', 'count': 1}\n",
            "{'brand': 'Reebok', 'count': 1}\n",
            "{'brand': 'Indiankala4u', 'count': 1}\n",
            "{'brand': 'AV2', 'count': 1}\n",
            "{'brand': 'RARE ROOTS', 'count': 1}\n",
            "{'brand': 'A Little Fable', 'count': 1}\n",
            "{'brand': 'Zeyo', 'count': 1}\n",
            "{'brand': 'QUARANTINE', 'count': 1}\n",
            "{'brand': 'Campana', 'count': 1}\n",
            "{'brand': 'SEEQ', 'count': 1}\n",
            "{'brand': 'Silvertraq', 'count': 1}\n",
            "{'brand': 'Park Avenue', 'count': 1}\n",
            "{'brand': 'Rudra Bazaar', 'count': 1}\n",
            "{'brand': 'Bani Women', 'count': 1}\n",
            "{'brand': 'Allen Solly Tribe', 'count': 1}\n",
            "{'brand': 'Swishchick', 'count': 1}\n",
            "{'brand': 'trueBrowns', 'count': 1}\n",
            "{'brand': 'Kasak', 'count': 1}\n",
            "{'brand': 'AKISO', 'count': 1}\n",
            "{'brand': 'Pantaloons Junior', 'count': 1}\n",
            "{'brand': 'THREAD MUSTER', 'count': 1}\n",
            "{'brand': 'FIDOZA', 'count': 1}\n",
            "{'brand': 'zebu', 'count': 1}\n",
            "{'brand': 'Raano', 'count': 1}\n",
            "{'brand': 'Mango Kids', 'count': 1}\n",
            "{'brand': 'LY2', 'count': 1}\n",
            "{'brand': 'Pisara', 'count': 1}\n",
            "{'brand': 'CACA CINA', 'count': 1}\n",
            "{'brand': 'BlissClub', 'count': 1}\n",
            "{'brand': 'Tweedle', 'count': 1}\n",
            "{'brand': 'PIROH', 'count': 1}\n",
            "{'brand': 'F Loop', 'count': 1}\n",
            "{'brand': 'Taneira', 'count': 1}\n",
            "{'brand': 'Noi', 'count': 1}\n",
            "{'brand': 'F.R.I.E.N.D.S By Sztori', 'count': 1}\n",
            "{'brand': 'Kook N Keech Looney Tunes', 'count': 1}\n",
            "{'brand': 'Rivana', 'count': 1}\n",
            "{'brand': 'JAVTA', 'count': 1}\n",
            "{'brand': 'Fashion Booms', 'count': 1}\n",
            "{'brand': 'GoSriKi', 'count': 1}\n",
            "{'brand': 'Fab Dadu', 'count': 1}\n",
            "{'brand': 'Nick&Jess', 'count': 1}\n",
            "{'brand': 'skyria', 'count': 1}\n",
            "{'brand': 'zink Z', 'count': 1}\n",
            "{'brand': 'ADIDAS Originals', 'count': 1}\n",
            "{'brand': 'AMIRAS INDIAN ETHNIC WEAR', 'count': 1}\n",
            "{'brand': 'THE NKS PLUS', 'count': 1}\n",
            "{'brand': 'Alena', 'count': 1}\n",
            "{'brand': 'Miss Poem', 'count': 1}\n",
            "{'brand': 'CLUB A9', 'count': 1}\n",
            "{'brand': 'VredeVogel', 'count': 1}\n",
            "{'brand': 'Quechua By Decathlon', 'count': 1}\n",
            "{'brand': 'Domyos By Decathlon', 'count': 1}\n",
            "{'brand': 'Forevermore', 'count': 1}\n",
            "{'brand': 'Fab Viva', 'count': 1}\n",
            "{'brand': 'Roly Poly', 'count': 1}\n",
            "{'brand': 'Baby Moo', 'count': 1}\n",
            "{'brand': 'BAHUJI', 'count': 1}\n",
            "{'brand': 'KOVET', 'count': 1}\n",
            "{'brand': 'Twisha', 'count': 1}\n",
            "{'brand': 'Anahi', 'count': 1}\n",
            "{'brand': 'MANZON', 'count': 1}\n",
            "{'brand': 'Head', 'count': 1}\n",
            "{'brand': 'Thread & Button', 'count': 1}\n",
            "{'brand': 'Sasimo', 'count': 1}\n",
            "{'brand': 'Color Trends', 'count': 1}\n",
            "{'brand': 'Tiny Girl', 'count': 1}\n",
            "{'brand': 'Bitz', 'count': 1}\n",
            "{'brand': 'NYNSH- PlusS Kids', 'count': 1}\n",
            "{'brand': 'ONEWAY', 'count': 1}\n",
            "{'brand': 'DECKEDUP', 'count': 1}\n",
            "{'brand': 'ARMISTO', 'count': 1}\n",
            "{'brand': 'LIVE OK', 'count': 1}\n",
            "{'brand': 'Fabclub', 'count': 1}\n",
            "{'brand': 'pspeaches', 'count': 1}\n",
            "{'brand': 'GLAM ROOTS', 'count': 1}\n",
            "{'brand': 'Grubstaker', 'count': 1}\n",
            "{'brand': 'MISHRI COLLECTION', 'count': 1}\n",
            "{'brand': 'FRANCLO', 'count': 1}\n",
            "{'brand': 'LEWAWAA', 'count': 1}\n",
            "{'brand': 'Reich Color', 'count': 1}\n",
            "{'brand': 'effy', 'count': 1}\n",
            "{'brand': 'U.S. Polo Assn. Kids', 'count': 1}\n",
            "{'brand': 'Silk Bazar', 'count': 1}\n",
            "{'brand': 'LADUSAA', 'count': 1}\n",
            "{'brand': 'KEX', 'count': 1}\n",
            "{'brand': 'JAINISH', 'count': 1}\n",
            "{'brand': 'toothless', 'count': 1}\n",
            "{'brand': 'Aasiya', 'count': 1}\n",
            "{'brand': 'MS RETAIL', 'count': 1}\n",
            "{'brand': 'RGHT', 'count': 1}\n",
            "{'brand': 'UNDER ARMOUR', 'count': 1}\n",
            "{'brand': 'NIZA', 'count': 1}\n",
            "{'brand': 'SHANVIKA', 'count': 1}\n",
            "{'brand': 'Golden Kite', 'count': 1}\n",
            "{'brand': 'Natilene', 'count': 1}\n",
            "{'brand': 'Being Human', 'count': 1}\n",
            "{'brand': 'YOYO Fashion', 'count': 1}\n",
            "{'brand': 'IDK', 'count': 1}\n",
            "{'brand': 'SARIYA', 'count': 1}\n",
            "{'brand': 'Silai Bunai', 'count': 1}\n",
            "{'brand': 'Panash Trends', 'count': 1}\n",
            "{'brand': 'VEIRDO', 'count': 1}\n",
            "{'brand': 'ADEESHA', 'count': 1}\n",
            "{'brand': 'SURACHITA', 'count': 1}\n",
            "{'brand': 'Teakwood Leathers', 'count': 1}\n",
            "{'brand': 'Trendmalls', 'count': 1}\n",
            "{'brand': 'Indian Dobby', 'count': 1}\n",
            "{'brand': 'anokherang', 'count': 1}\n",
            "{'brand': 'Senyora', 'count': 1}\n",
            "{'brand': 'American Crew', 'count': 1}\n",
            "{'brand': 'Aditi Wasan', 'count': 1}\n",
            "{'brand': 'AADVIKA', 'count': 1}\n",
            "{'brand': 'Vami', 'count': 1}\n",
            "{'brand': 'Invincible', 'count': 1}\n",
            "{'brand': 'Minions by Kook N Keech', 'count': 1}\n",
            "{'brand': '9teenAGAIN', 'count': 1}\n",
            "{'brand': 'NAYRAH', 'count': 1}\n",
            "{'brand': 'KEIKO', 'count': 1}\n",
            "{'brand': 'Sudarshan Silks', 'count': 1}\n",
            "{'brand': 'mothercare', 'count': 1}\n",
            "{'brand': 'YCANF', 'count': 1}\n",
            "{'brand': 'ATHLISIS', 'count': 1}\n",
            "{'brand': 'EDRIO', 'count': 1}\n",
            "{'brand': 'SCOUP', 'count': 1}\n",
            "{'brand': 'Tiara', 'count': 1}\n",
            "{'brand': 'Ziva Fashion', 'count': 1}\n",
            "{'brand': 'Clovia', 'count': 1}\n",
            "total brands appearing one time 211\n"
          ]
        }
      ]
    },
    {
      "cell_type": "code",
      "source": [
        "print(\"total brands appearing one time\", count)\n"
      ],
      "metadata": {
        "id": "cmtXTLq0mqmn",
        "colab": {
          "base_uri": "https://localhost:8080/"
        },
        "outputId": "ba12ef40-5ae3-40a5-fe57-664980c9ef9e"
      },
      "execution_count": null,
      "outputs": [
        {
          "output_type": "stream",
          "name": "stdout",
          "text": [
            "total brands appearing one time 211\n"
          ]
        }
      ]
    },
    {
      "cell_type": "code",
      "source": [
        "#top 5 highest rating brands\n",
        "query = fashion_col.aggregatequery = fashion_col.aggregate([\n",
        "    { \"$group\":{\"_id\": \"$brand\", \"maxRating\": {\"$max\":\"$avg_rating\"}}},\n",
        "    {  \"$sort\": {\"maxRating\":-1}   },\n",
        "    {   \"$limit\" : 5} \n",
        "    ])\n",
        "\n",
        "for i in query:\n",
        "    pprint.pprint(i)\n"
      ],
      "metadata": {
        "id": "y3yJYjwHkzn-",
        "colab": {
          "base_uri": "https://localhost:8080/"
        },
        "outputId": "83749546-5563-4a7c-b98f-4634584ce954"
      },
      "execution_count": null,
      "outputs": [
        {
          "output_type": "stream",
          "name": "stdout",
          "text": [
            "{'_id': 'Shae by SASSAFRAS', 'maxRating': 5}\n",
            "{'_id': 'Silk Land', 'maxRating': 5}\n",
            "{'_id': 'People', 'maxRating': 5}\n",
            "{'_id': 'GRACIT', 'maxRating': 5}\n",
            "{'_id': 'Miaz Lifestyle', 'maxRating': 5}\n"
          ]
        }
      ]
    },
    {
      "cell_type": "code",
      "source": [
        "fashion_df = pd.DataFrame(list(fashion_col.find()))"
      ],
      "metadata": {
        "id": "h3pjtmbdrIn8"
      },
      "execution_count": null,
      "outputs": []
    },
    {
      "cell_type": "code",
      "source": [
        "fashion_df.head(2)"
      ],
      "metadata": {
        "id": "6XDa_YqOrSy4",
        "colab": {
          "base_uri": "https://localhost:8080/",
          "height": 225
        },
        "outputId": "bf866a2b-9884-4b05-a320-ba28716c2562"
      },
      "execution_count": null,
      "outputs": [
        {
          "output_type": "execute_result",
          "data": {
            "text/plain": [
              "                        _id        p_id  \\\n",
              "0  63b1961df26165df1760b2f9   1518329.0   \n",
              "1  63b1961df26165df1760b30e  12159424.0   \n",
              "\n",
              "                                                name   price colour  \\\n",
              "0   Dupatta Bazaar White Embroidered Chiffon Dupatta   899.0  White   \n",
              "1  WEAVERS VILLA Women Pink & Mustard Yellow Flor...  1399.0   Pink   \n",
              "\n",
              "            brand  ratingCount  avg_rating  \\\n",
              "0  Dupatta Bazaar       1321.0    4.548827   \n",
              "1   WEAVERS VILLA         23.0    4.652174   \n",
              "\n",
              "                                         description  \\\n",
              "0  White embroidered&nbsp;dupattaChiffon<br>Hand-...   \n",
              "1  Pink and mustard yellow floral embroidered sha...   \n",
              "\n",
              "                                        p_attributes  \n",
              "0  {'Occasion': 'Daily', 'Pattern': 'Embroidered'...  \n",
              "1  {'Border': 'Solid', 'Fabric': 'Wool', 'Fabric ...  "
            ],
            "text/html": [
              "\n",
              "  <div id=\"df-a448c091-fd62-49ee-bff3-5a2039d1b7b7\">\n",
              "    <div class=\"colab-df-container\">\n",
              "      <div>\n",
              "<style scoped>\n",
              "    .dataframe tbody tr th:only-of-type {\n",
              "        vertical-align: middle;\n",
              "    }\n",
              "\n",
              "    .dataframe tbody tr th {\n",
              "        vertical-align: top;\n",
              "    }\n",
              "\n",
              "    .dataframe thead th {\n",
              "        text-align: right;\n",
              "    }\n",
              "</style>\n",
              "<table border=\"1\" class=\"dataframe\">\n",
              "  <thead>\n",
              "    <tr style=\"text-align: right;\">\n",
              "      <th></th>\n",
              "      <th>_id</th>\n",
              "      <th>p_id</th>\n",
              "      <th>name</th>\n",
              "      <th>price</th>\n",
              "      <th>colour</th>\n",
              "      <th>brand</th>\n",
              "      <th>ratingCount</th>\n",
              "      <th>avg_rating</th>\n",
              "      <th>description</th>\n",
              "      <th>p_attributes</th>\n",
              "    </tr>\n",
              "  </thead>\n",
              "  <tbody>\n",
              "    <tr>\n",
              "      <th>0</th>\n",
              "      <td>63b1961df26165df1760b2f9</td>\n",
              "      <td>1518329.0</td>\n",
              "      <td>Dupatta Bazaar White Embroidered Chiffon Dupatta</td>\n",
              "      <td>899.0</td>\n",
              "      <td>White</td>\n",
              "      <td>Dupatta Bazaar</td>\n",
              "      <td>1321.0</td>\n",
              "      <td>4.548827</td>\n",
              "      <td>White embroidered&amp;nbsp;dupattaChiffon&lt;br&gt;Hand-...</td>\n",
              "      <td>{'Occasion': 'Daily', 'Pattern': 'Embroidered'...</td>\n",
              "    </tr>\n",
              "    <tr>\n",
              "      <th>1</th>\n",
              "      <td>63b1961df26165df1760b30e</td>\n",
              "      <td>12159424.0</td>\n",
              "      <td>WEAVERS VILLA Women Pink &amp; Mustard Yellow Flor...</td>\n",
              "      <td>1399.0</td>\n",
              "      <td>Pink</td>\n",
              "      <td>WEAVERS VILLA</td>\n",
              "      <td>23.0</td>\n",
              "      <td>4.652174</td>\n",
              "      <td>Pink and mustard yellow floral embroidered sha...</td>\n",
              "      <td>{'Border': 'Solid', 'Fabric': 'Wool', 'Fabric ...</td>\n",
              "    </tr>\n",
              "  </tbody>\n",
              "</table>\n",
              "</div>\n",
              "      <button class=\"colab-df-convert\" onclick=\"convertToInteractive('df-a448c091-fd62-49ee-bff3-5a2039d1b7b7')\"\n",
              "              title=\"Convert this dataframe to an interactive table.\"\n",
              "              style=\"display:none;\">\n",
              "        \n",
              "  <svg xmlns=\"http://www.w3.org/2000/svg\" height=\"24px\"viewBox=\"0 0 24 24\"\n",
              "       width=\"24px\">\n",
              "    <path d=\"M0 0h24v24H0V0z\" fill=\"none\"/>\n",
              "    <path d=\"M18.56 5.44l.94 2.06.94-2.06 2.06-.94-2.06-.94-.94-2.06-.94 2.06-2.06.94zm-11 1L8.5 8.5l.94-2.06 2.06-.94-2.06-.94L8.5 2.5l-.94 2.06-2.06.94zm10 10l.94 2.06.94-2.06 2.06-.94-2.06-.94-.94-2.06-.94 2.06-2.06.94z\"/><path d=\"M17.41 7.96l-1.37-1.37c-.4-.4-.92-.59-1.43-.59-.52 0-1.04.2-1.43.59L10.3 9.45l-7.72 7.72c-.78.78-.78 2.05 0 2.83L4 21.41c.39.39.9.59 1.41.59.51 0 1.02-.2 1.41-.59l7.78-7.78 2.81-2.81c.8-.78.8-2.07 0-2.86zM5.41 20L4 18.59l7.72-7.72 1.47 1.35L5.41 20z\"/>\n",
              "  </svg>\n",
              "      </button>\n",
              "      \n",
              "  <style>\n",
              "    .colab-df-container {\n",
              "      display:flex;\n",
              "      flex-wrap:wrap;\n",
              "      gap: 12px;\n",
              "    }\n",
              "\n",
              "    .colab-df-convert {\n",
              "      background-color: #E8F0FE;\n",
              "      border: none;\n",
              "      border-radius: 50%;\n",
              "      cursor: pointer;\n",
              "      display: none;\n",
              "      fill: #1967D2;\n",
              "      height: 32px;\n",
              "      padding: 0 0 0 0;\n",
              "      width: 32px;\n",
              "    }\n",
              "\n",
              "    .colab-df-convert:hover {\n",
              "      background-color: #E2EBFA;\n",
              "      box-shadow: 0px 1px 2px rgba(60, 64, 67, 0.3), 0px 1px 3px 1px rgba(60, 64, 67, 0.15);\n",
              "      fill: #174EA6;\n",
              "    }\n",
              "\n",
              "    [theme=dark] .colab-df-convert {\n",
              "      background-color: #3B4455;\n",
              "      fill: #D2E3FC;\n",
              "    }\n",
              "\n",
              "    [theme=dark] .colab-df-convert:hover {\n",
              "      background-color: #434B5C;\n",
              "      box-shadow: 0px 1px 3px 1px rgba(0, 0, 0, 0.15);\n",
              "      filter: drop-shadow(0px 1px 2px rgba(0, 0, 0, 0.3));\n",
              "      fill: #FFFFFF;\n",
              "    }\n",
              "  </style>\n",
              "\n",
              "      <script>\n",
              "        const buttonEl =\n",
              "          document.querySelector('#df-a448c091-fd62-49ee-bff3-5a2039d1b7b7 button.colab-df-convert');\n",
              "        buttonEl.style.display =\n",
              "          google.colab.kernel.accessAllowed ? 'block' : 'none';\n",
              "\n",
              "        async function convertToInteractive(key) {\n",
              "          const element = document.querySelector('#df-a448c091-fd62-49ee-bff3-5a2039d1b7b7');\n",
              "          const dataTable =\n",
              "            await google.colab.kernel.invokeFunction('convertToInteractive',\n",
              "                                                     [key], {});\n",
              "          if (!dataTable) return;\n",
              "\n",
              "          const docLinkHtml = 'Like what you see? Visit the ' +\n",
              "            '<a target=\"_blank\" href=https://colab.research.google.com/notebooks/data_table.ipynb>data table notebook</a>'\n",
              "            + ' to learn more about interactive tables.';\n",
              "          element.innerHTML = '';\n",
              "          dataTable['output_type'] = 'display_data';\n",
              "          await google.colab.output.renderOutput(dataTable, element);\n",
              "          const docLink = document.createElement('div');\n",
              "          docLink.innerHTML = docLinkHtml;\n",
              "          element.appendChild(docLink);\n",
              "        }\n",
              "      </script>\n",
              "    </div>\n",
              "  </div>\n",
              "  "
            ]
          },
          "metadata": {},
          "execution_count": 27
        }
      ]
    },
    {
      "cell_type": "code",
      "source": [
        "fashion_df.shape"
      ],
      "metadata": {
        "id": "AoLoY_kPrVo6",
        "colab": {
          "base_uri": "https://localhost:8080/"
        },
        "outputId": "65b07f6a-b472-4c93-e78e-c0c4504b8940"
      },
      "execution_count": null,
      "outputs": [
        {
          "output_type": "execute_result",
          "data": {
            "text/plain": [
              "(14329, 10)"
            ]
          },
          "metadata": {},
          "execution_count": 28
        }
      ]
    },
    {
      "cell_type": "code",
      "source": [
        "brand_details.info()"
      ],
      "metadata": {
        "id": "5wPz8AGJhw6e",
        "colab": {
          "base_uri": "https://localhost:8080/"
        },
        "outputId": "2651a95a-d04b-4196-c94f-c934eac73497"
      },
      "execution_count": null,
      "outputs": [
        {
          "output_type": "stream",
          "name": "stdout",
          "text": [
            "<class 'pandas.core.frame.DataFrame'>\n",
            "RangeIndex: 1020 entries, 0 to 1019\n",
            "Data columns (total 3 columns):\n",
            " #   Column      Non-Null Count  Dtype \n",
            "---  ------      --------------  ----- \n",
            " 0   _id         1020 non-null   object\n",
            " 1   brand_id    1020 non-null   int64 \n",
            " 2   brand_name  1020 non-null   object\n",
            "dtypes: int64(1), object(2)\n",
            "memory usage: 24.0+ KB\n"
          ]
        }
      ]
    },
    {
      "cell_type": "code",
      "source": [
        "fashion_df.info()"
      ],
      "metadata": {
        "id": "MsN5Yg2th8iv",
        "colab": {
          "base_uri": "https://localhost:8080/"
        },
        "outputId": "c6c6c22b-d689-4a33-c7d5-d7982366d050"
      },
      "execution_count": null,
      "outputs": [
        {
          "output_type": "stream",
          "name": "stdout",
          "text": [
            "<class 'pandas.core.frame.DataFrame'>\n",
            "RangeIndex: 14329 entries, 0 to 14328\n",
            "Data columns (total 10 columns):\n",
            " #   Column        Non-Null Count  Dtype  \n",
            "---  ------        --------------  -----  \n",
            " 0   _id           14329 non-null  object \n",
            " 1   p_id          14311 non-null  float64\n",
            " 2   name          14310 non-null  object \n",
            " 3   price         14310 non-null  float64\n",
            " 4   colour        14310 non-null  object \n",
            " 5   brand         14305 non-null  object \n",
            " 6   ratingCount   6581 non-null   float64\n",
            " 7   avg_rating    6581 non-null   float64\n",
            " 8   description   14310 non-null  object \n",
            " 9   p_attributes  14310 non-null  object \n",
            "dtypes: float64(4), object(6)\n",
            "memory usage: 1.1+ MB\n"
          ]
        }
      ]
    },
    {
      "cell_type": "markdown",
      "source": [
        "#merge both dataframes"
      ],
      "metadata": {
        "id": "k2MpY1xyw49w"
      }
    },
    {
      "cell_type": "code",
      "source": [
        "#Using inner merge to get common data in join on the basis of comminality of brand name present in dataset "
      ],
      "metadata": {
        "id": "udMpxzlH2l2z"
      },
      "execution_count": null,
      "outputs": []
    },
    {
      "cell_type": "code",
      "source": [
        "dataset = fashion_df.merge(brand_details, how='inner', left_on='brand', right_on='brand_name')"
      ],
      "metadata": {
        "id": "2OM01dWRw4WA"
      },
      "execution_count": null,
      "outputs": []
    },
    {
      "cell_type": "code",
      "source": [
        "dataset.shape"
      ],
      "metadata": {
        "id": "pCzQFKRih_GQ",
        "colab": {
          "base_uri": "https://localhost:8080/"
        },
        "outputId": "a0feac6f-69e6-47f6-9580-9f91d448d240"
      },
      "execution_count": null,
      "outputs": [
        {
          "output_type": "execute_result",
          "data": {
            "text/plain": [
              "(8098, 13)"
            ]
          },
          "metadata": {},
          "execution_count": 33
        }
      ]
    },
    {
      "cell_type": "code",
      "source": [],
      "metadata": {
        "id": "EZY8AVJCzpCw"
      },
      "execution_count": null,
      "outputs": []
    },
    {
      "cell_type": "code",
      "source": [
        "dataset.head()"
      ],
      "metadata": {
        "id": "tW8zUoRaw2zr",
        "colab": {
          "base_uri": "https://localhost:8080/",
          "height": 617
        },
        "outputId": "92dc96a5-71c5-4ce0-a007-3f5a2ed5ad21"
      },
      "execution_count": null,
      "outputs": [
        {
          "output_type": "execute_result",
          "data": {
            "text/plain": [
              "                      _id_x        p_id  \\\n",
              "0  63b1961df26165df1760b2f9   1518329.0   \n",
              "1  63b1961df26165df1760b38b  14964708.0   \n",
              "2  63b1961df26165df1760b3ca  13552234.0   \n",
              "3  63b1961df26165df1760b33f  10711448.0   \n",
              "4  63b1961df26165df1760b461  12866574.0   \n",
              "\n",
              "                                                name  price  colour  \\\n",
              "0   Dupatta Bazaar White Embroidered Chiffon Dupatta  899.0   White   \n",
              "1  Dupatta Bazaar Orange & Green Dyed Art Silk Ba...  899.0  Orange   \n",
              "2                 Dupatta Bazaar Black Solid Dupatta  599.0   Black   \n",
              "3           Dupatta Bazaar Women White Solid Dupatta  599.0   White   \n",
              "4                Dupatta Bazaar Maroon Solid Dupatta  699.0  Maroon   \n",
              "\n",
              "            brand  ratingCount  avg_rating  \\\n",
              "0  Dupatta Bazaar       1321.0    4.548827   \n",
              "1  Dupatta Bazaar         30.0    4.366667   \n",
              "2  Dupatta Bazaar        232.0    4.547414   \n",
              "3  Dupatta Bazaar       1531.0    4.536251   \n",
              "4  Dupatta Bazaar        118.0    4.245763   \n",
              "\n",
              "                                         description  \\\n",
              "0  White embroidered&nbsp;dupattaChiffon<br>Hand-...   \n",
              "1  Orange and green bandhani dyed dupatta has ban...   \n",
              "2  Black solid Dupatta and has a solid borderMate...   \n",
              "3  White solid dupatta and has a taping borderPol...   \n",
              "4  Maroon solid Dupatta and has a fringed borderM...   \n",
              "\n",
              "                                        p_attributes  \\\n",
              "0  {'Occasion': 'Daily', 'Pattern': 'Embroidered'...   \n",
              "1  {'Border': 'Woven Design', 'Fabric': 'Art Silk...   \n",
              "2  {'Border': 'Solid', 'Fabric': 'Poly Chiffon', ...   \n",
              "3  {'Border': 'Taping', 'Fabric': 'Poly Chiffon',...   \n",
              "4  {'Border': 'Fringed', 'Fabric': 'Poly Chiffon'...   \n",
              "\n",
              "                      _id_y  brand_id      brand_name  \n",
              "0  63b4195c4ad68288f7b87f28       242  Dupatta Bazaar  \n",
              "1  63b4195c4ad68288f7b87f28       242  Dupatta Bazaar  \n",
              "2  63b4195c4ad68288f7b87f28       242  Dupatta Bazaar  \n",
              "3  63b4195c4ad68288f7b87f28       242  Dupatta Bazaar  \n",
              "4  63b4195c4ad68288f7b87f28       242  Dupatta Bazaar  "
            ],
            "text/html": [
              "\n",
              "  <div id=\"df-ec0b62fc-718a-41a8-adc7-89de5681f9e2\">\n",
              "    <div class=\"colab-df-container\">\n",
              "      <div>\n",
              "<style scoped>\n",
              "    .dataframe tbody tr th:only-of-type {\n",
              "        vertical-align: middle;\n",
              "    }\n",
              "\n",
              "    .dataframe tbody tr th {\n",
              "        vertical-align: top;\n",
              "    }\n",
              "\n",
              "    .dataframe thead th {\n",
              "        text-align: right;\n",
              "    }\n",
              "</style>\n",
              "<table border=\"1\" class=\"dataframe\">\n",
              "  <thead>\n",
              "    <tr style=\"text-align: right;\">\n",
              "      <th></th>\n",
              "      <th>_id_x</th>\n",
              "      <th>p_id</th>\n",
              "      <th>name</th>\n",
              "      <th>price</th>\n",
              "      <th>colour</th>\n",
              "      <th>brand</th>\n",
              "      <th>ratingCount</th>\n",
              "      <th>avg_rating</th>\n",
              "      <th>description</th>\n",
              "      <th>p_attributes</th>\n",
              "      <th>_id_y</th>\n",
              "      <th>brand_id</th>\n",
              "      <th>brand_name</th>\n",
              "    </tr>\n",
              "  </thead>\n",
              "  <tbody>\n",
              "    <tr>\n",
              "      <th>0</th>\n",
              "      <td>63b1961df26165df1760b2f9</td>\n",
              "      <td>1518329.0</td>\n",
              "      <td>Dupatta Bazaar White Embroidered Chiffon Dupatta</td>\n",
              "      <td>899.0</td>\n",
              "      <td>White</td>\n",
              "      <td>Dupatta Bazaar</td>\n",
              "      <td>1321.0</td>\n",
              "      <td>4.548827</td>\n",
              "      <td>White embroidered&amp;nbsp;dupattaChiffon&lt;br&gt;Hand-...</td>\n",
              "      <td>{'Occasion': 'Daily', 'Pattern': 'Embroidered'...</td>\n",
              "      <td>63b4195c4ad68288f7b87f28</td>\n",
              "      <td>242</td>\n",
              "      <td>Dupatta Bazaar</td>\n",
              "    </tr>\n",
              "    <tr>\n",
              "      <th>1</th>\n",
              "      <td>63b1961df26165df1760b38b</td>\n",
              "      <td>14964708.0</td>\n",
              "      <td>Dupatta Bazaar Orange &amp; Green Dyed Art Silk Ba...</td>\n",
              "      <td>899.0</td>\n",
              "      <td>Orange</td>\n",
              "      <td>Dupatta Bazaar</td>\n",
              "      <td>30.0</td>\n",
              "      <td>4.366667</td>\n",
              "      <td>Orange and green bandhani dyed dupatta has ban...</td>\n",
              "      <td>{'Border': 'Woven Design', 'Fabric': 'Art Silk...</td>\n",
              "      <td>63b4195c4ad68288f7b87f28</td>\n",
              "      <td>242</td>\n",
              "      <td>Dupatta Bazaar</td>\n",
              "    </tr>\n",
              "    <tr>\n",
              "      <th>2</th>\n",
              "      <td>63b1961df26165df1760b3ca</td>\n",
              "      <td>13552234.0</td>\n",
              "      <td>Dupatta Bazaar Black Solid Dupatta</td>\n",
              "      <td>599.0</td>\n",
              "      <td>Black</td>\n",
              "      <td>Dupatta Bazaar</td>\n",
              "      <td>232.0</td>\n",
              "      <td>4.547414</td>\n",
              "      <td>Black solid Dupatta and has a solid borderMate...</td>\n",
              "      <td>{'Border': 'Solid', 'Fabric': 'Poly Chiffon', ...</td>\n",
              "      <td>63b4195c4ad68288f7b87f28</td>\n",
              "      <td>242</td>\n",
              "      <td>Dupatta Bazaar</td>\n",
              "    </tr>\n",
              "    <tr>\n",
              "      <th>3</th>\n",
              "      <td>63b1961df26165df1760b33f</td>\n",
              "      <td>10711448.0</td>\n",
              "      <td>Dupatta Bazaar Women White Solid Dupatta</td>\n",
              "      <td>599.0</td>\n",
              "      <td>White</td>\n",
              "      <td>Dupatta Bazaar</td>\n",
              "      <td>1531.0</td>\n",
              "      <td>4.536251</td>\n",
              "      <td>White solid dupatta and has a taping borderPol...</td>\n",
              "      <td>{'Border': 'Taping', 'Fabric': 'Poly Chiffon',...</td>\n",
              "      <td>63b4195c4ad68288f7b87f28</td>\n",
              "      <td>242</td>\n",
              "      <td>Dupatta Bazaar</td>\n",
              "    </tr>\n",
              "    <tr>\n",
              "      <th>4</th>\n",
              "      <td>63b1961df26165df1760b461</td>\n",
              "      <td>12866574.0</td>\n",
              "      <td>Dupatta Bazaar Maroon Solid Dupatta</td>\n",
              "      <td>699.0</td>\n",
              "      <td>Maroon</td>\n",
              "      <td>Dupatta Bazaar</td>\n",
              "      <td>118.0</td>\n",
              "      <td>4.245763</td>\n",
              "      <td>Maroon solid Dupatta and has a fringed borderM...</td>\n",
              "      <td>{'Border': 'Fringed', 'Fabric': 'Poly Chiffon'...</td>\n",
              "      <td>63b4195c4ad68288f7b87f28</td>\n",
              "      <td>242</td>\n",
              "      <td>Dupatta Bazaar</td>\n",
              "    </tr>\n",
              "  </tbody>\n",
              "</table>\n",
              "</div>\n",
              "      <button class=\"colab-df-convert\" onclick=\"convertToInteractive('df-ec0b62fc-718a-41a8-adc7-89de5681f9e2')\"\n",
              "              title=\"Convert this dataframe to an interactive table.\"\n",
              "              style=\"display:none;\">\n",
              "        \n",
              "  <svg xmlns=\"http://www.w3.org/2000/svg\" height=\"24px\"viewBox=\"0 0 24 24\"\n",
              "       width=\"24px\">\n",
              "    <path d=\"M0 0h24v24H0V0z\" fill=\"none\"/>\n",
              "    <path d=\"M18.56 5.44l.94 2.06.94-2.06 2.06-.94-2.06-.94-.94-2.06-.94 2.06-2.06.94zm-11 1L8.5 8.5l.94-2.06 2.06-.94-2.06-.94L8.5 2.5l-.94 2.06-2.06.94zm10 10l.94 2.06.94-2.06 2.06-.94-2.06-.94-.94-2.06-.94 2.06-2.06.94z\"/><path d=\"M17.41 7.96l-1.37-1.37c-.4-.4-.92-.59-1.43-.59-.52 0-1.04.2-1.43.59L10.3 9.45l-7.72 7.72c-.78.78-.78 2.05 0 2.83L4 21.41c.39.39.9.59 1.41.59.51 0 1.02-.2 1.41-.59l7.78-7.78 2.81-2.81c.8-.78.8-2.07 0-2.86zM5.41 20L4 18.59l7.72-7.72 1.47 1.35L5.41 20z\"/>\n",
              "  </svg>\n",
              "      </button>\n",
              "      \n",
              "  <style>\n",
              "    .colab-df-container {\n",
              "      display:flex;\n",
              "      flex-wrap:wrap;\n",
              "      gap: 12px;\n",
              "    }\n",
              "\n",
              "    .colab-df-convert {\n",
              "      background-color: #E8F0FE;\n",
              "      border: none;\n",
              "      border-radius: 50%;\n",
              "      cursor: pointer;\n",
              "      display: none;\n",
              "      fill: #1967D2;\n",
              "      height: 32px;\n",
              "      padding: 0 0 0 0;\n",
              "      width: 32px;\n",
              "    }\n",
              "\n",
              "    .colab-df-convert:hover {\n",
              "      background-color: #E2EBFA;\n",
              "      box-shadow: 0px 1px 2px rgba(60, 64, 67, 0.3), 0px 1px 3px 1px rgba(60, 64, 67, 0.15);\n",
              "      fill: #174EA6;\n",
              "    }\n",
              "\n",
              "    [theme=dark] .colab-df-convert {\n",
              "      background-color: #3B4455;\n",
              "      fill: #D2E3FC;\n",
              "    }\n",
              "\n",
              "    [theme=dark] .colab-df-convert:hover {\n",
              "      background-color: #434B5C;\n",
              "      box-shadow: 0px 1px 3px 1px rgba(0, 0, 0, 0.15);\n",
              "      filter: drop-shadow(0px 1px 2px rgba(0, 0, 0, 0.3));\n",
              "      fill: #FFFFFF;\n",
              "    }\n",
              "  </style>\n",
              "\n",
              "      <script>\n",
              "        const buttonEl =\n",
              "          document.querySelector('#df-ec0b62fc-718a-41a8-adc7-89de5681f9e2 button.colab-df-convert');\n",
              "        buttonEl.style.display =\n",
              "          google.colab.kernel.accessAllowed ? 'block' : 'none';\n",
              "\n",
              "        async function convertToInteractive(key) {\n",
              "          const element = document.querySelector('#df-ec0b62fc-718a-41a8-adc7-89de5681f9e2');\n",
              "          const dataTable =\n",
              "            await google.colab.kernel.invokeFunction('convertToInteractive',\n",
              "                                                     [key], {});\n",
              "          if (!dataTable) return;\n",
              "\n",
              "          const docLinkHtml = 'Like what you see? Visit the ' +\n",
              "            '<a target=\"_blank\" href=https://colab.research.google.com/notebooks/data_table.ipynb>data table notebook</a>'\n",
              "            + ' to learn more about interactive tables.';\n",
              "          element.innerHTML = '';\n",
              "          dataTable['output_type'] = 'display_data';\n",
              "          await google.colab.output.renderOutput(dataTable, element);\n",
              "          const docLink = document.createElement('div');\n",
              "          docLink.innerHTML = docLinkHtml;\n",
              "          element.appendChild(docLink);\n",
              "        }\n",
              "      </script>\n",
              "    </div>\n",
              "  </div>\n",
              "  "
            ]
          },
          "metadata": {},
          "execution_count": 34
        }
      ]
    },
    {
      "cell_type": "markdown",
      "source": [
        "just a quick check on brand 'SASSAFRAS' because it doesn't show up in the brand detail but its present in our fashion dataset\n",
        "\n",
        "\n"
      ],
      "metadata": {
        "id": "-HoeDp5F18ii"
      }
    },
    {
      "cell_type": "code",
      "source": [
        "brand_details.brand_name.isin(['SASSAFRAS']).any()"
      ],
      "metadata": {
        "id": "hWayUtu5zans",
        "colab": {
          "base_uri": "https://localhost:8080/"
        },
        "outputId": "ce53bd44-ec6d-48f3-e70b-a456a75ca7cd"
      },
      "execution_count": null,
      "outputs": [
        {
          "output_type": "execute_result",
          "data": {
            "text/plain": [
              "False"
            ]
          },
          "metadata": {},
          "execution_count": 35
        }
      ]
    },
    {
      "cell_type": "code",
      "source": [
        "# sparkDF=spark.createDataFrame(dataset) \n",
        "# sparkDF.printSchema()\n",
        "# sparkDF.show()"
      ],
      "metadata": {
        "id": "6yIOasNG2BqY"
      },
      "execution_count": null,
      "outputs": []
    },
    {
      "cell_type": "markdown",
      "source": [
        "dropping mongodb ids (bson objects) because these are insignificant in any analysis and spark doesnot support its data type"
      ],
      "metadata": {
        "id": "lL6ENoG03L4v"
      }
    },
    {
      "cell_type": "code",
      "source": [
        "new_df = dataset.drop(axis=1, columns= [\"_id_x\", '_id_y'])"
      ],
      "metadata": {
        "id": "MpIAERPg2jwC"
      },
      "execution_count": null,
      "outputs": []
    },
    {
      "cell_type": "code",
      "source": [],
      "metadata": {
        "id": "zPdGdclv5I3B"
      },
      "execution_count": null,
      "outputs": []
    },
    {
      "cell_type": "code",
      "source": [
        "new_df[['name', 'colour', 'brand', 'description', 'p_attributes', 'brand_name']] = new_df[['name', 'colour', 'brand', 'description', 'p_attributes', 'brand_name']].astype(str)"
      ],
      "metadata": {
        "id": "BJWbDHeX5KNw"
      },
      "execution_count": null,
      "outputs": []
    },
    {
      "cell_type": "code",
      "source": [
        "new_df.info()"
      ],
      "metadata": {
        "id": "aMXJL4oT6JyZ",
        "colab": {
          "base_uri": "https://localhost:8080/"
        },
        "outputId": "98c9ea5e-eae6-4370-f6ec-68f6955ecd31"
      },
      "execution_count": null,
      "outputs": [
        {
          "output_type": "stream",
          "name": "stdout",
          "text": [
            "<class 'pandas.core.frame.DataFrame'>\n",
            "Int64Index: 8098 entries, 0 to 8097\n",
            "Data columns (total 11 columns):\n",
            " #   Column        Non-Null Count  Dtype  \n",
            "---  ------        --------------  -----  \n",
            " 0   p_id          8098 non-null   float64\n",
            " 1   name          8098 non-null   object \n",
            " 2   price         8098 non-null   float64\n",
            " 3   colour        8098 non-null   object \n",
            " 4   brand         8098 non-null   object \n",
            " 5   ratingCount   3959 non-null   float64\n",
            " 6   avg_rating    3959 non-null   float64\n",
            " 7   description   8098 non-null   object \n",
            " 8   p_attributes  8098 non-null   object \n",
            " 9   brand_id      8098 non-null   int64  \n",
            " 10  brand_name    8098 non-null   object \n",
            "dtypes: float64(4), int64(1), object(6)\n",
            "memory usage: 759.2+ KB\n"
          ]
        }
      ]
    },
    {
      "cell_type": "code",
      "source": [
        "new_df.head(2)"
      ],
      "metadata": {
        "id": "Q3-FrUFx8Igb",
        "colab": {
          "base_uri": "https://localhost:8080/",
          "height": 208
        },
        "outputId": "0be3186d-34b5-4d7f-9c22-a488cbab9584"
      },
      "execution_count": null,
      "outputs": [
        {
          "output_type": "execute_result",
          "data": {
            "text/plain": [
              "         p_id                                               name  price  \\\n",
              "0   1518329.0   Dupatta Bazaar White Embroidered Chiffon Dupatta  899.0   \n",
              "1  14964708.0  Dupatta Bazaar Orange & Green Dyed Art Silk Ba...  899.0   \n",
              "\n",
              "   colour           brand  ratingCount  avg_rating  \\\n",
              "0   White  Dupatta Bazaar       1321.0    4.548827   \n",
              "1  Orange  Dupatta Bazaar         30.0    4.366667   \n",
              "\n",
              "                                         description  \\\n",
              "0  White embroidered&nbsp;dupattaChiffon<br>Hand-...   \n",
              "1  Orange and green bandhani dyed dupatta has ban...   \n",
              "\n",
              "                                        p_attributes  brand_id      brand_name  \n",
              "0  {'Occasion': 'Daily', 'Pattern': 'Embroidered'...       242  Dupatta Bazaar  \n",
              "1  {'Border': 'Woven Design', 'Fabric': 'Art Silk...       242  Dupatta Bazaar  "
            ],
            "text/html": [
              "\n",
              "  <div id=\"df-71b9f95c-8810-429c-b571-d2ed633fdb59\">\n",
              "    <div class=\"colab-df-container\">\n",
              "      <div>\n",
              "<style scoped>\n",
              "    .dataframe tbody tr th:only-of-type {\n",
              "        vertical-align: middle;\n",
              "    }\n",
              "\n",
              "    .dataframe tbody tr th {\n",
              "        vertical-align: top;\n",
              "    }\n",
              "\n",
              "    .dataframe thead th {\n",
              "        text-align: right;\n",
              "    }\n",
              "</style>\n",
              "<table border=\"1\" class=\"dataframe\">\n",
              "  <thead>\n",
              "    <tr style=\"text-align: right;\">\n",
              "      <th></th>\n",
              "      <th>p_id</th>\n",
              "      <th>name</th>\n",
              "      <th>price</th>\n",
              "      <th>colour</th>\n",
              "      <th>brand</th>\n",
              "      <th>ratingCount</th>\n",
              "      <th>avg_rating</th>\n",
              "      <th>description</th>\n",
              "      <th>p_attributes</th>\n",
              "      <th>brand_id</th>\n",
              "      <th>brand_name</th>\n",
              "    </tr>\n",
              "  </thead>\n",
              "  <tbody>\n",
              "    <tr>\n",
              "      <th>0</th>\n",
              "      <td>1518329.0</td>\n",
              "      <td>Dupatta Bazaar White Embroidered Chiffon Dupatta</td>\n",
              "      <td>899.0</td>\n",
              "      <td>White</td>\n",
              "      <td>Dupatta Bazaar</td>\n",
              "      <td>1321.0</td>\n",
              "      <td>4.548827</td>\n",
              "      <td>White embroidered&amp;nbsp;dupattaChiffon&lt;br&gt;Hand-...</td>\n",
              "      <td>{'Occasion': 'Daily', 'Pattern': 'Embroidered'...</td>\n",
              "      <td>242</td>\n",
              "      <td>Dupatta Bazaar</td>\n",
              "    </tr>\n",
              "    <tr>\n",
              "      <th>1</th>\n",
              "      <td>14964708.0</td>\n",
              "      <td>Dupatta Bazaar Orange &amp; Green Dyed Art Silk Ba...</td>\n",
              "      <td>899.0</td>\n",
              "      <td>Orange</td>\n",
              "      <td>Dupatta Bazaar</td>\n",
              "      <td>30.0</td>\n",
              "      <td>4.366667</td>\n",
              "      <td>Orange and green bandhani dyed dupatta has ban...</td>\n",
              "      <td>{'Border': 'Woven Design', 'Fabric': 'Art Silk...</td>\n",
              "      <td>242</td>\n",
              "      <td>Dupatta Bazaar</td>\n",
              "    </tr>\n",
              "  </tbody>\n",
              "</table>\n",
              "</div>\n",
              "      <button class=\"colab-df-convert\" onclick=\"convertToInteractive('df-71b9f95c-8810-429c-b571-d2ed633fdb59')\"\n",
              "              title=\"Convert this dataframe to an interactive table.\"\n",
              "              style=\"display:none;\">\n",
              "        \n",
              "  <svg xmlns=\"http://www.w3.org/2000/svg\" height=\"24px\"viewBox=\"0 0 24 24\"\n",
              "       width=\"24px\">\n",
              "    <path d=\"M0 0h24v24H0V0z\" fill=\"none\"/>\n",
              "    <path d=\"M18.56 5.44l.94 2.06.94-2.06 2.06-.94-2.06-.94-.94-2.06-.94 2.06-2.06.94zm-11 1L8.5 8.5l.94-2.06 2.06-.94-2.06-.94L8.5 2.5l-.94 2.06-2.06.94zm10 10l.94 2.06.94-2.06 2.06-.94-2.06-.94-.94-2.06-.94 2.06-2.06.94z\"/><path d=\"M17.41 7.96l-1.37-1.37c-.4-.4-.92-.59-1.43-.59-.52 0-1.04.2-1.43.59L10.3 9.45l-7.72 7.72c-.78.78-.78 2.05 0 2.83L4 21.41c.39.39.9.59 1.41.59.51 0 1.02-.2 1.41-.59l7.78-7.78 2.81-2.81c.8-.78.8-2.07 0-2.86zM5.41 20L4 18.59l7.72-7.72 1.47 1.35L5.41 20z\"/>\n",
              "  </svg>\n",
              "      </button>\n",
              "      \n",
              "  <style>\n",
              "    .colab-df-container {\n",
              "      display:flex;\n",
              "      flex-wrap:wrap;\n",
              "      gap: 12px;\n",
              "    }\n",
              "\n",
              "    .colab-df-convert {\n",
              "      background-color: #E8F0FE;\n",
              "      border: none;\n",
              "      border-radius: 50%;\n",
              "      cursor: pointer;\n",
              "      display: none;\n",
              "      fill: #1967D2;\n",
              "      height: 32px;\n",
              "      padding: 0 0 0 0;\n",
              "      width: 32px;\n",
              "    }\n",
              "\n",
              "    .colab-df-convert:hover {\n",
              "      background-color: #E2EBFA;\n",
              "      box-shadow: 0px 1px 2px rgba(60, 64, 67, 0.3), 0px 1px 3px 1px rgba(60, 64, 67, 0.15);\n",
              "      fill: #174EA6;\n",
              "    }\n",
              "\n",
              "    [theme=dark] .colab-df-convert {\n",
              "      background-color: #3B4455;\n",
              "      fill: #D2E3FC;\n",
              "    }\n",
              "\n",
              "    [theme=dark] .colab-df-convert:hover {\n",
              "      background-color: #434B5C;\n",
              "      box-shadow: 0px 1px 3px 1px rgba(0, 0, 0, 0.15);\n",
              "      filter: drop-shadow(0px 1px 2px rgba(0, 0, 0, 0.3));\n",
              "      fill: #FFFFFF;\n",
              "    }\n",
              "  </style>\n",
              "\n",
              "      <script>\n",
              "        const buttonEl =\n",
              "          document.querySelector('#df-71b9f95c-8810-429c-b571-d2ed633fdb59 button.colab-df-convert');\n",
              "        buttonEl.style.display =\n",
              "          google.colab.kernel.accessAllowed ? 'block' : 'none';\n",
              "\n",
              "        async function convertToInteractive(key) {\n",
              "          const element = document.querySelector('#df-71b9f95c-8810-429c-b571-d2ed633fdb59');\n",
              "          const dataTable =\n",
              "            await google.colab.kernel.invokeFunction('convertToInteractive',\n",
              "                                                     [key], {});\n",
              "          if (!dataTable) return;\n",
              "\n",
              "          const docLinkHtml = 'Like what you see? Visit the ' +\n",
              "            '<a target=\"_blank\" href=https://colab.research.google.com/notebooks/data_table.ipynb>data table notebook</a>'\n",
              "            + ' to learn more about interactive tables.';\n",
              "          element.innerHTML = '';\n",
              "          dataTable['output_type'] = 'display_data';\n",
              "          await google.colab.output.renderOutput(dataTable, element);\n",
              "          const docLink = document.createElement('div');\n",
              "          docLink.innerHTML = docLinkHtml;\n",
              "          element.appendChild(docLink);\n",
              "        }\n",
              "      </script>\n",
              "    </div>\n",
              "  </div>\n",
              "  "
            ]
          },
          "metadata": {},
          "execution_count": 40
        }
      ]
    },
    {
      "cell_type": "code",
      "source": [
        "sparkDF=spark.createDataFrame(new_df) \n",
        "sparkDF.printSchema()\n"
      ],
      "metadata": {
        "id": "tW-sOJdO349V",
        "colab": {
          "base_uri": "https://localhost:8080/"
        },
        "outputId": "2170f76d-4753-4cbc-af33-92b245bbffd1"
      },
      "execution_count": null,
      "outputs": [
        {
          "output_type": "stream",
          "name": "stdout",
          "text": [
            "root\n",
            " |-- p_id: double (nullable = true)\n",
            " |-- name: string (nullable = true)\n",
            " |-- price: double (nullable = true)\n",
            " |-- colour: string (nullable = true)\n",
            " |-- brand: string (nullable = true)\n",
            " |-- ratingCount: double (nullable = true)\n",
            " |-- avg_rating: double (nullable = true)\n",
            " |-- description: string (nullable = true)\n",
            " |-- p_attributes: string (nullable = true)\n",
            " |-- brand_id: long (nullable = true)\n",
            " |-- brand_name: string (nullable = true)\n",
            "\n"
          ]
        }
      ]
    },
    {
      "cell_type": "code",
      "source": [
        "sparkDF.show(5)"
      ],
      "metadata": {
        "id": "oL2HTpPd37jG",
        "colab": {
          "base_uri": "https://localhost:8080/"
        },
        "outputId": "fe1665b2-1483-4874-93e6-ca100fe9fd59"
      },
      "execution_count": null,
      "outputs": [
        {
          "output_type": "stream",
          "name": "stdout",
          "text": [
            "+-----------+--------------------+-----+------+--------------+-----------+-----------+--------------------+--------------------+--------+--------------+\n",
            "|       p_id|                name|price|colour|         brand|ratingCount| avg_rating|         description|        p_attributes|brand_id|    brand_name|\n",
            "+-----------+--------------------+-----+------+--------------+-----------+-----------+--------------------+--------------------+--------+--------------+\n",
            "|  1518329.0|Dupatta Bazaar Wh...|899.0| White|Dupatta Bazaar|     1321.0|4.548826646|White embroidered...|{'Occasion': 'Dai...|     242|Dupatta Bazaar|\n",
            "|1.4964708E7|Dupatta Bazaar Or...|899.0|Orange|Dupatta Bazaar|       30.0|4.366666667|Orange and green ...|{'Border': 'Woven...|     242|Dupatta Bazaar|\n",
            "|1.3552234E7|Dupatta Bazaar Bl...|599.0| Black|Dupatta Bazaar|      232.0|4.547413793|Black solid Dupat...|{'Border': 'Solid...|     242|Dupatta Bazaar|\n",
            "|1.0711448E7|Dupatta Bazaar Wo...|599.0| White|Dupatta Bazaar|     1531.0|4.536250816|White solid dupat...|{'Border': 'Tapin...|     242|Dupatta Bazaar|\n",
            "|1.2866574E7|Dupatta Bazaar Ma...|699.0|Maroon|Dupatta Bazaar|      118.0|4.245762712|Maroon solid Dupa...|{'Border': 'Fring...|     242|Dupatta Bazaar|\n",
            "+-----------+--------------------+-----+------+--------------+-----------+-----------+--------------------+--------------------+--------+--------------+\n",
            "only showing top 5 rows\n",
            "\n"
          ]
        }
      ]
    },
    {
      "cell_type": "code",
      "source": [
        "sparkDF = sparkDF.drop(\"p_id\", 'description', 'p_attributes')"
      ],
      "metadata": {
        "id": "s5NmVs9iByFl"
      },
      "execution_count": null,
      "outputs": []
    },
    {
      "cell_type": "code",
      "source": [
        "sparkDF.show(2)"
      ],
      "metadata": {
        "id": "3tkg4UygCAJ9",
        "colab": {
          "base_uri": "https://localhost:8080/"
        },
        "outputId": "36b9fadd-b836-4c56-fa15-c222418120ef"
      },
      "execution_count": null,
      "outputs": [
        {
          "output_type": "stream",
          "name": "stdout",
          "text": [
            "+--------------------+-----+------+--------------+-----------+-----------+--------+--------------+\n",
            "|                name|price|colour|         brand|ratingCount| avg_rating|brand_id|    brand_name|\n",
            "+--------------------+-----+------+--------------+-----------+-----------+--------+--------------+\n",
            "|Dupatta Bazaar Wh...|899.0| White|Dupatta Bazaar|     1321.0|4.548826646|     242|Dupatta Bazaar|\n",
            "|Dupatta Bazaar Or...|899.0|Orange|Dupatta Bazaar|       30.0|4.366666667|     242|Dupatta Bazaar|\n",
            "+--------------------+-----+------+--------------+-----------+-----------+--------+--------------+\n",
            "only showing top 2 rows\n",
            "\n"
          ]
        }
      ]
    },
    {
      "cell_type": "code",
      "source": [
        "sparkDF.dtypes"
      ],
      "metadata": {
        "id": "7zknnaW9ltw0",
        "colab": {
          "base_uri": "https://localhost:8080/"
        },
        "outputId": "127da377-a365-43eb-ad34-e135fab56d9b"
      },
      "execution_count": null,
      "outputs": [
        {
          "output_type": "execute_result",
          "data": {
            "text/plain": [
              "[('name', 'string'),\n",
              " ('price', 'double'),\n",
              " ('colour', 'string'),\n",
              " ('brand', 'string'),\n",
              " ('ratingCount', 'double'),\n",
              " ('avg_rating', 'double'),\n",
              " ('brand_id', 'bigint'),\n",
              " ('brand_name', 'string')]"
            ]
          },
          "metadata": {},
          "execution_count": 45
        }
      ]
    },
    {
      "cell_type": "code",
      "source": [
        "from pyspark.sql.functions import isnan, when, count, col"
      ],
      "metadata": {
        "id": "ypFGb-s8mpG3"
      },
      "execution_count": null,
      "outputs": []
    },
    {
      "cell_type": "code",
      "source": [],
      "metadata": {
        "id": "F6TXghpqlt55"
      },
      "execution_count": null,
      "outputs": []
    },
    {
      "cell_type": "code",
      "source": [
        "sparkDF.createOrReplaceTempView(\"dataset\")"
      ],
      "metadata": {
        "id": "N3YIuTLMAGXP"
      },
      "execution_count": null,
      "outputs": []
    },
    {
      "cell_type": "code",
      "source": [
        "from pyspark.sql.functions import countDistinct\n",
        "\n",
        "sparkDF.select(countDistinct(\"brand\"))"
      ],
      "metadata": {
        "id": "vS31tZqX_6AY",
        "colab": {
          "base_uri": "https://localhost:8080/",
          "height": 66
        },
        "outputId": "931b27c8-5a84-4d18-bdfa-e2bd7327ed73"
      },
      "execution_count": null,
      "outputs": [
        {
          "output_type": "execute_result",
          "data": {
            "text/plain": [
              "+---------------------+\n",
              "|count(DISTINCT brand)|\n",
              "+---------------------+\n",
              "|                  500|\n",
              "+---------------------+"
            ],
            "text/html": [
              "<table border='1'>\n",
              "<tr><th>count(DISTINCT brand)</th></tr>\n",
              "<tr><td>500</td></tr>\n",
              "</table>\n"
            ]
          },
          "metadata": {},
          "execution_count": 48
        }
      ]
    },
    {
      "cell_type": "code",
      "source": [
        "sparkDF.select(countDistinct(\"brand_name\"))"
      ],
      "metadata": {
        "id": "00pKMwhnBQei",
        "colab": {
          "base_uri": "https://localhost:8080/",
          "height": 66
        },
        "outputId": "5135a9a7-7532-4b13-fff1-55c35c489cf0"
      },
      "execution_count": null,
      "outputs": [
        {
          "output_type": "execute_result",
          "data": {
            "text/plain": [
              "+--------------------------+\n",
              "|count(DISTINCT brand_name)|\n",
              "+--------------------------+\n",
              "|                       500|\n",
              "+--------------------------+"
            ],
            "text/html": [
              "<table border='1'>\n",
              "<tr><th>count(DISTINCT brand_name)</th></tr>\n",
              "<tr><td>500</td></tr>\n",
              "</table>\n"
            ]
          },
          "metadata": {},
          "execution_count": 49
        }
      ]
    },
    {
      "cell_type": "code",
      "source": [
        "sparkDF.distinct().count()"
      ],
      "metadata": {
        "id": "bqa-mclmBgwq",
        "colab": {
          "base_uri": "https://localhost:8080/"
        },
        "outputId": "2a18d162-ea27-4d37-b3cb-2f0ec4408a7a"
      },
      "execution_count": null,
      "outputs": [
        {
          "output_type": "execute_result",
          "data": {
            "text/plain": [
              "8005"
            ]
          },
          "metadata": {},
          "execution_count": 50
        }
      ]
    },
    {
      "cell_type": "code",
      "source": [
        "from pyspark.sql.functions import isnan, when, count, col"
      ],
      "metadata": {
        "id": "ikH5LtM1XCrO"
      },
      "execution_count": null,
      "outputs": []
    },
    {
      "cell_type": "markdown",
      "source": [
        "Data Cleaning finding null values and dealing with them"
      ],
      "metadata": {
        "id": "ZYhMKcxOcnv1"
      }
    },
    {
      "cell_type": "code",
      "source": [
        "sparkDF.filter( isnan(sparkDF.price)).show()"
      ],
      "metadata": {
        "id": "GgHl8yoKbhlB",
        "colab": {
          "base_uri": "https://localhost:8080/"
        },
        "outputId": "19a16d71-24c6-4a97-b2fd-68acbe5a2ba7"
      },
      "execution_count": null,
      "outputs": [
        {
          "output_type": "stream",
          "name": "stdout",
          "text": [
            "+----+-----+------+-----+-----------+----------+--------+----------+\n",
            "|name|price|colour|brand|ratingCount|avg_rating|brand_id|brand_name|\n",
            "+----+-----+------+-----+-----------+----------+--------+----------+\n",
            "+----+-----+------+-----+-----------+----------+--------+----------+\n",
            "\n"
          ]
        }
      ]
    },
    {
      "cell_type": "markdown",
      "source": [
        "this shows no null values in price column, which will be used as label/target variable"
      ],
      "metadata": {
        "id": "wH0544Nhf8ZV"
      }
    },
    {
      "cell_type": "code",
      "source": [
        "sparkDF.filter( isnan(sparkDF.ratingCount)).count()"
      ],
      "metadata": {
        "id": "oCBuxR2Af7E-",
        "colab": {
          "base_uri": "https://localhost:8080/"
        },
        "outputId": "1f497164-2c66-4963-f49b-14c0f6590289"
      },
      "execution_count": null,
      "outputs": [
        {
          "output_type": "execute_result",
          "data": {
            "text/plain": [
              "4139"
            ]
          },
          "metadata": {},
          "execution_count": 53
        }
      ]
    },
    {
      "cell_type": "code",
      "source": [
        "sparkDF.filter( isnan(sparkDF.ratingCount)).show(5)"
      ],
      "metadata": {
        "id": "JS7pBnOjnjdX",
        "colab": {
          "base_uri": "https://localhost:8080/"
        },
        "outputId": "46164e4a-8dec-47bb-8c13-58f3156a025d"
      },
      "execution_count": null,
      "outputs": [
        {
          "output_type": "stream",
          "name": "stdout",
          "text": [
            "+--------------------+------+------+--------------+-----------+----------+--------+--------------+\n",
            "|                name| price|colour|         brand|ratingCount|avg_rating|brand_id|    brand_name|\n",
            "+--------------------+------+------+--------------+-----------+----------+--------+--------------+\n",
            "|Dupatta Bazaar Wo...| 599.0|Orange|Dupatta Bazaar|        NaN|       NaN|     242|Dupatta Bazaar|\n",
            "|Dupatta Bazaar Gr...| 999.0| Green|Dupatta Bazaar|        NaN|       NaN|     242|Dupatta Bazaar|\n",
            "|Dupatta Bazaar Wo...|1399.0|  Pink|Dupatta Bazaar|        NaN|       NaN|     242|Dupatta Bazaar|\n",
            "|Dupatta Bazaar Ye...|6999.0|Yellow|Dupatta Bazaar|        NaN|       NaN|     242|Dupatta Bazaar|\n",
            "|Dupatta Bazaar Ma...| 599.0|Maroon|Dupatta Bazaar|        NaN|       NaN|     242|Dupatta Bazaar|\n",
            "+--------------------+------+------+--------------+-----------+----------+--------+--------------+\n",
            "only showing top 5 rows\n",
            "\n"
          ]
        }
      ]
    },
    {
      "cell_type": "code",
      "source": [
        "sparkDF.filter(isnan(sparkDF.avg_rating)).count()"
      ],
      "metadata": {
        "id": "9wlX1vSKf6NX",
        "colab": {
          "base_uri": "https://localhost:8080/"
        },
        "outputId": "b72237f9-e854-4a2a-cd87-466e4c6c87ad"
      },
      "execution_count": null,
      "outputs": [
        {
          "output_type": "execute_result",
          "data": {
            "text/plain": [
              "4139"
            ]
          },
          "metadata": {},
          "execution_count": 55
        }
      ]
    },
    {
      "cell_type": "code",
      "source": [
        "sparkDF.filter(isnan(sparkDF.avg_rating)).show(5)"
      ],
      "metadata": {
        "id": "GmJL7JddnnBd",
        "colab": {
          "base_uri": "https://localhost:8080/"
        },
        "outputId": "440c8fd9-5fcc-44c8-af0f-9ad9314fa2a2"
      },
      "execution_count": null,
      "outputs": [
        {
          "output_type": "stream",
          "name": "stdout",
          "text": [
            "+--------------------+------+------+--------------+-----------+----------+--------+--------------+\n",
            "|                name| price|colour|         brand|ratingCount|avg_rating|brand_id|    brand_name|\n",
            "+--------------------+------+------+--------------+-----------+----------+--------+--------------+\n",
            "|Dupatta Bazaar Wo...| 599.0|Orange|Dupatta Bazaar|        NaN|       NaN|     242|Dupatta Bazaar|\n",
            "|Dupatta Bazaar Gr...| 999.0| Green|Dupatta Bazaar|        NaN|       NaN|     242|Dupatta Bazaar|\n",
            "|Dupatta Bazaar Wo...|1399.0|  Pink|Dupatta Bazaar|        NaN|       NaN|     242|Dupatta Bazaar|\n",
            "|Dupatta Bazaar Ye...|6999.0|Yellow|Dupatta Bazaar|        NaN|       NaN|     242|Dupatta Bazaar|\n",
            "|Dupatta Bazaar Ma...| 599.0|Maroon|Dupatta Bazaar|        NaN|       NaN|     242|Dupatta Bazaar|\n",
            "+--------------------+------+------+--------------+-----------+----------+--------+--------------+\n",
            "only showing top 5 rows\n",
            "\n"
          ]
        }
      ]
    },
    {
      "cell_type": "code",
      "source": [
        "sparkDF.select([count(when(isnan(c) | col(c).isNull(), c)).alias(c) for c in sparkDF.columns]).show()"
      ],
      "metadata": {
        "id": "ip1hsbKnm2Ee",
        "colab": {
          "base_uri": "https://localhost:8080/"
        },
        "outputId": "82d3aac1-5dc9-4bce-d3ab-b1546a3af04f"
      },
      "execution_count": null,
      "outputs": [
        {
          "output_type": "stream",
          "name": "stdout",
          "text": [
            "+----+-----+------+-----+-----------+----------+--------+----------+\n",
            "|name|price|colour|brand|ratingCount|avg_rating|brand_id|brand_name|\n",
            "+----+-----+------+-----+-----------+----------+--------+----------+\n",
            "|   0|    0|     0|    0|       4139|      4139|       0|         0|\n",
            "+----+-----+------+-----+-----------+----------+--------+----------+\n",
            "\n"
          ]
        }
      ]
    },
    {
      "cell_type": "code",
      "source": [
        "non_naDF = sparkDF.na.drop('any')"
      ],
      "metadata": {
        "id": "0C-lOshZ-vRx"
      },
      "execution_count": null,
      "outputs": []
    },
    {
      "cell_type": "code",
      "source": [
        "non_naDF.show(2)"
      ],
      "metadata": {
        "id": "t-b0CVtU-5Lg",
        "colab": {
          "base_uri": "https://localhost:8080/"
        },
        "outputId": "8ebc2fe6-90eb-45a9-d9a7-aa41b8d421b6"
      },
      "execution_count": null,
      "outputs": [
        {
          "output_type": "stream",
          "name": "stdout",
          "text": [
            "+--------------------+-----+------+--------------+-----------+-----------+--------+--------------+\n",
            "|                name|price|colour|         brand|ratingCount| avg_rating|brand_id|    brand_name|\n",
            "+--------------------+-----+------+--------------+-----------+-----------+--------+--------------+\n",
            "|Dupatta Bazaar Wh...|899.0| White|Dupatta Bazaar|     1321.0|4.548826646|     242|Dupatta Bazaar|\n",
            "|Dupatta Bazaar Or...|899.0|Orange|Dupatta Bazaar|       30.0|4.366666667|     242|Dupatta Bazaar|\n",
            "+--------------------+-----+------+--------------+-----------+-----------+--------+--------------+\n",
            "only showing top 2 rows\n",
            "\n"
          ]
        }
      ]
    },
    {
      "cell_type": "code",
      "source": [
        "non_naDF.select(countDistinct(\"brand\"))"
      ],
      "metadata": {
        "id": "LcdOlZPl_Qno",
        "colab": {
          "base_uri": "https://localhost:8080/",
          "height": 66
        },
        "outputId": "dcce5fcc-3183-42db-ca54-665f02eb75a9"
      },
      "execution_count": null,
      "outputs": [
        {
          "output_type": "execute_result",
          "data": {
            "text/plain": [
              "+---------------------+\n",
              "|count(DISTINCT brand)|\n",
              "+---------------------+\n",
              "|                  324|\n",
              "+---------------------+"
            ],
            "text/html": [
              "<table border='1'>\n",
              "<tr><th>count(DISTINCT brand)</th></tr>\n",
              "<tr><td>324</td></tr>\n",
              "</table>\n"
            ]
          },
          "metadata": {},
          "execution_count": 60
        }
      ]
    },
    {
      "cell_type": "code",
      "source": [
        "to_fill = non_naDF.groupBy(\"brand\").avg('ratingCount').withColumnRenamed(\"avg(ratingCount)\", \"rating\")\n",
        "to_fill.show()"
      ],
      "metadata": {
        "id": "TTMOgA49-_4n",
        "colab": {
          "base_uri": "https://localhost:8080/"
        },
        "outputId": "9c5bf66d-216d-4cd3-8b0d-1352a0728b98"
      },
      "execution_count": null,
      "outputs": [
        {
          "output_type": "stream",
          "name": "stdout",
          "text": [
            "+-----------------+------------------+\n",
            "|            brand|            rating|\n",
            "+-----------------+------------------+\n",
            "|            Darzi|            40.125|\n",
            "|         Swtantra|               2.5|\n",
            "|           Stylum| 420.2857142857143|\n",
            "|        Club York|               3.0|\n",
            "|          Kalista|             224.0|\n",
            "|            Tiara|              15.0|\n",
            "|           Globus|21.555555555555557|\n",
            "|          Prakhya|2166.6666666666665|\n",
            "|         Woodland|               4.0|\n",
            "|          Code 61|               2.0|\n",
            "|            Levis|             29.56|\n",
            "|       Tikhi Imli|242.91666666666666|\n",
            "|        Paralians| 8.857142857142858|\n",
            "|      Lovely Lady|              11.5|\n",
            "|           Aarika| 64.57142857142857|\n",
            "|   Free Authority|               8.0|\n",
            "|          Varanga| 599.7377049180328|\n",
            "|Allen Solly Woman| 36.53846153846154|\n",
            "|     Fort Collins| 7.833333333333333|\n",
            "|          Vishudh|337.37704918032784|\n",
            "+-----------------+------------------+\n",
            "only showing top 20 rows\n",
            "\n"
          ]
        }
      ]
    },
    {
      "cell_type": "code",
      "source": [
        "sparkDF = sparkDF.na.fill(0)"
      ],
      "metadata": {
        "id": "o9ETNlZbpWpz"
      },
      "execution_count": null,
      "outputs": []
    },
    {
      "cell_type": "markdown",
      "source": [
        "After filling na values with 0, 0 is replaced with mean value of group \"brand\" for both ratingCount and avg_rating in the dataset"
      ],
      "metadata": {
        "id": "mQXN_WVkOj8O"
      }
    },
    {
      "cell_type": "code",
      "source": [
        "from pyspark.sql import Window as W\n",
        "from pyspark.sql import functions as F\n",
        "from pyspark.sql.functions import when,avg\n",
        "\n",
        "sparkDF = sparkDF.withColumn('ratingCount', F\n",
        "        .when(F.col('ratingCount')==0, F.mean('ratingCount').over(W.partitionBy('brand')))\n",
        "        .otherwise(F.col('ratingCount'))\n",
        "    )\n",
        "\n",
        "sparkDF = sparkDF.withColumn('avg_rating', F\n",
        "        .when(F.col('avg_rating')==0, F.mean('avg_rating').over(W.partitionBy('brand')))\n",
        "        .otherwise(F.col('avg_rating'))\n",
        "    )"
      ],
      "metadata": {
        "id": "IRYZi058_5FS"
      },
      "execution_count": null,
      "outputs": []
    },
    {
      "cell_type": "code",
      "source": [
        "sparkDF"
      ],
      "metadata": {
        "id": "9W585Zq8_P9I",
        "colab": {
          "base_uri": "https://localhost:8080/",
          "height": 513
        },
        "outputId": "9422c163-254f-45fb-f7ab-cf5b261515f2"
      },
      "execution_count": null,
      "outputs": [
        {
          "output_type": "execute_result",
          "data": {
            "text/plain": [
              "+--------------------+------+--------+-----+-----------+------------------+--------+----------+\n",
              "|                name| price|  colour|brand|ratingCount|        avg_rating|brand_id|brand_name|\n",
              "+--------------------+------+--------+-----+-----------+------------------+--------+----------+\n",
              "|Darzi Women White...|1499.0|   White|Darzi|        7.0|       3.428571429|     207|     Darzi|\n",
              "|Darzi Women White...|1199.0|   White|Darzi|     13.375|1.3223973524583332|     207|     Darzi|\n",
              "|Darzi Women Multi...|1499.0|   Multi|Darzi|     13.375|1.3223973524583332|     207|     Darzi|\n",
              "|Darzi Black Bodyc...|1499.0|   Black|Darzi|     13.375|1.3223973524583332|     207|     Darzi|\n",
              "|Darzi Women Pink ...|1499.0|    Pink|Darzi|     13.375|1.3223973524583332|     207|     Darzi|\n",
              "|Darzi Women Black...|1199.0|   Black|Darzi|      126.0|       3.865079365|     207|     Darzi|\n",
              "|Darzi Women Black...|1199.0|   Black|Darzi|       11.0|       3.818181818|     207|     Darzi|\n",
              "|Darzi Women Yello...|1999.0|  Yellow|Darzi|     13.375|1.3223973524583332|     207|     Darzi|\n",
              "|Darzi Women Maroo...|1499.0|  Maroon|Darzi|     13.375|1.3223973524583332|     207|     Darzi|\n",
              "|Darzi Women Yello...|1499.0|  Yellow|Darzi|     13.375|1.3223973524583332|     207|     Darzi|\n",
              "|Darzi Women Black...|1199.0|   Black|Darzi|       94.0|        4.14893617|     207|     Darzi|\n",
              "|Darzi Women Maroo...|1999.0|  Maroon|Darzi|     13.375|1.3223973524583332|     207|     Darzi|\n",
              "|Darzi Women Red T...|1999.0|     Red|Darzi|     13.375|1.3223973524583332|     207|     Darzi|\n",
              "|Darzi Women Blue ...|1999.0|    Blue|Darzi|     13.375|1.3223973524583332|     207|     Darzi|\n",
              "|Darzi Women Black...|1199.0|   Black|Darzi|       18.0|       4.222222222|     207|     Darzi|\n",
              "|Darzi Women Green...|1499.0|   Green|Darzi|       30.0|               3.8|     207|     Darzi|\n",
              "|Darzi Women Maroo...|1999.0|  Maroon|Darzi|     13.375|1.3223973524583332|     207|     Darzi|\n",
              "|Darzi Women Charc...|1499.0|Charcoal|Darzi|     13.375|1.3223973524583332|     207|     Darzi|\n",
              "|Darzi Women Pink ...|1499.0|    Pink|Darzi|       33.0|       4.454545455|     207|     Darzi|\n",
              "|Darzi Pink & Whit...|1499.0|    Pink|Darzi|     13.375|1.3223973524583332|     207|     Darzi|\n",
              "+--------------------+------+--------+-----+-----------+------------------+--------+----------+\n",
              "only showing top 20 rows"
            ],
            "text/html": [
              "<table border='1'>\n",
              "<tr><th>name</th><th>price</th><th>colour</th><th>brand</th><th>ratingCount</th><th>avg_rating</th><th>brand_id</th><th>brand_name</th></tr>\n",
              "<tr><td>Darzi Women White...</td><td>1499.0</td><td>White</td><td>Darzi</td><td>7.0</td><td>3.428571429</td><td>207</td><td>Darzi</td></tr>\n",
              "<tr><td>Darzi Women White...</td><td>1199.0</td><td>White</td><td>Darzi</td><td>13.375</td><td>1.3223973524583332</td><td>207</td><td>Darzi</td></tr>\n",
              "<tr><td>Darzi Women Multi...</td><td>1499.0</td><td>Multi</td><td>Darzi</td><td>13.375</td><td>1.3223973524583332</td><td>207</td><td>Darzi</td></tr>\n",
              "<tr><td>Darzi Black Bodyc...</td><td>1499.0</td><td>Black</td><td>Darzi</td><td>13.375</td><td>1.3223973524583332</td><td>207</td><td>Darzi</td></tr>\n",
              "<tr><td>Darzi Women Pink ...</td><td>1499.0</td><td>Pink</td><td>Darzi</td><td>13.375</td><td>1.3223973524583332</td><td>207</td><td>Darzi</td></tr>\n",
              "<tr><td>Darzi Women Black...</td><td>1199.0</td><td>Black</td><td>Darzi</td><td>126.0</td><td>3.865079365</td><td>207</td><td>Darzi</td></tr>\n",
              "<tr><td>Darzi Women Black...</td><td>1199.0</td><td>Black</td><td>Darzi</td><td>11.0</td><td>3.818181818</td><td>207</td><td>Darzi</td></tr>\n",
              "<tr><td>Darzi Women Yello...</td><td>1999.0</td><td>Yellow</td><td>Darzi</td><td>13.375</td><td>1.3223973524583332</td><td>207</td><td>Darzi</td></tr>\n",
              "<tr><td>Darzi Women Maroo...</td><td>1499.0</td><td>Maroon</td><td>Darzi</td><td>13.375</td><td>1.3223973524583332</td><td>207</td><td>Darzi</td></tr>\n",
              "<tr><td>Darzi Women Yello...</td><td>1499.0</td><td>Yellow</td><td>Darzi</td><td>13.375</td><td>1.3223973524583332</td><td>207</td><td>Darzi</td></tr>\n",
              "<tr><td>Darzi Women Black...</td><td>1199.0</td><td>Black</td><td>Darzi</td><td>94.0</td><td>4.14893617</td><td>207</td><td>Darzi</td></tr>\n",
              "<tr><td>Darzi Women Maroo...</td><td>1999.0</td><td>Maroon</td><td>Darzi</td><td>13.375</td><td>1.3223973524583332</td><td>207</td><td>Darzi</td></tr>\n",
              "<tr><td>Darzi Women Red T...</td><td>1999.0</td><td>Red</td><td>Darzi</td><td>13.375</td><td>1.3223973524583332</td><td>207</td><td>Darzi</td></tr>\n",
              "<tr><td>Darzi Women Blue ...</td><td>1999.0</td><td>Blue</td><td>Darzi</td><td>13.375</td><td>1.3223973524583332</td><td>207</td><td>Darzi</td></tr>\n",
              "<tr><td>Darzi Women Black...</td><td>1199.0</td><td>Black</td><td>Darzi</td><td>18.0</td><td>4.222222222</td><td>207</td><td>Darzi</td></tr>\n",
              "<tr><td>Darzi Women Green...</td><td>1499.0</td><td>Green</td><td>Darzi</td><td>30.0</td><td>3.8</td><td>207</td><td>Darzi</td></tr>\n",
              "<tr><td>Darzi Women Maroo...</td><td>1999.0</td><td>Maroon</td><td>Darzi</td><td>13.375</td><td>1.3223973524583332</td><td>207</td><td>Darzi</td></tr>\n",
              "<tr><td>Darzi Women Charc...</td><td>1499.0</td><td>Charcoal</td><td>Darzi</td><td>13.375</td><td>1.3223973524583332</td><td>207</td><td>Darzi</td></tr>\n",
              "<tr><td>Darzi Women Pink ...</td><td>1499.0</td><td>Pink</td><td>Darzi</td><td>33.0</td><td>4.454545455</td><td>207</td><td>Darzi</td></tr>\n",
              "<tr><td>Darzi Pink &amp; Whit...</td><td>1499.0</td><td>Pink</td><td>Darzi</td><td>13.375</td><td>1.3223973524583332</td><td>207</td><td>Darzi</td></tr>\n",
              "</table>\n",
              "only showing top 20 rows\n"
            ]
          },
          "metadata": {},
          "execution_count": 64
        }
      ]
    },
    {
      "cell_type": "code",
      "source": [],
      "metadata": {
        "id": "Jp2Qwvssx14-"
      },
      "execution_count": null,
      "outputs": []
    },
    {
      "cell_type": "code",
      "source": [
        "\n",
        "sparkDF.groupBy(\"brand\").max('ratingCount').show()\n"
      ],
      "metadata": {
        "id": "UiU4J0vTn3sR",
        "colab": {
          "base_uri": "https://localhost:8080/"
        },
        "outputId": "b7dd5946-e13b-4b97-991f-b35aeff6a331"
      },
      "execution_count": null,
      "outputs": [
        {
          "output_type": "stream",
          "name": "stdout",
          "text": [
            "+-----------------+----------------+\n",
            "|            brand|max(ratingCount)|\n",
            "+-----------------+----------------+\n",
            "|            Darzi|           126.0|\n",
            "|         Swtantra|             3.0|\n",
            "|          Taneira|             0.0|\n",
            "|        Club York|             3.0|\n",
            "|          Kalista|           396.0|\n",
            "|           Stylum|          2075.0|\n",
            "|Teakwood Leathers|             0.0|\n",
            "|    Apraa & Parma|             0.0|\n",
            "|           Globus|            63.0|\n",
            "|           Sasimo|             0.0|\n",
            "|            Tiara|            15.0|\n",
            "|          Code 61|             2.0|\n",
            "|          Disrupt|             0.0|\n",
            "|          Prakhya|          5199.0|\n",
            "|         Woodland|             5.0|\n",
            "|   Dress My Angel|             0.0|\n",
            "|            Levis|           211.0|\n",
            "|      Lovely Lady|            12.0|\n",
            "|        Paralians|            16.0|\n",
            "|       Tikhi Imli|           781.0|\n",
            "+-----------------+----------------+\n",
            "only showing top 20 rows\n",
            "\n"
          ]
        }
      ]
    },
    {
      "cell_type": "code",
      "source": [],
      "metadata": {
        "id": "Y1kbCsd3m3mH"
      },
      "execution_count": null,
      "outputs": []
    },
    {
      "cell_type": "markdown",
      "source": [
        "Data Analysis with Spark Sql"
      ],
      "metadata": {
        "id": "LRw_WWtkbi15"
      }
    },
    {
      "cell_type": "code",
      "source": [
        "sparkDF.registerTempTable(\"dataset\")"
      ],
      "metadata": {
        "id": "SUdy4yx2c0Ip"
      },
      "execution_count": null,
      "outputs": []
    },
    {
      "cell_type": "code",
      "source": [],
      "metadata": {
        "id": "ujlFwDMVCrjm"
      },
      "execution_count": null,
      "outputs": []
    },
    {
      "cell_type": "code",
      "source": [
        "#Most popular brands\n",
        "spark.sql('''select brand,count(brand) as popularity  from dataset\n",
        "              group by brand\n",
        "              order by count(brand) desc\n",
        "            ''').show(10)"
      ],
      "metadata": {
        "id": "wtNHLsmebgsN",
        "colab": {
          "base_uri": "https://localhost:8080/"
        },
        "outputId": "3b3c3e5d-ed9e-4dd1-b75b-9f9d3743ce7f"
      },
      "execution_count": null,
      "outputs": [
        {
          "output_type": "stream",
          "name": "stdout",
          "text": [
            "+-------------------+----------+\n",
            "|              brand|popularity|\n",
            "+-------------------+----------+\n",
            "|           Roadster|       346|\n",
            "|      Tokyo Talkies|       287|\n",
            "|     Clora Creation|       236|\n",
            "|             Mitera|       204|\n",
            "|                H&M|       202|\n",
            "|              Anouk|       200|\n",
            "|     Dupatta Bazaar|       171|\n",
            "|            Sangria|       151|\n",
            "|            Vishudh|       138|\n",
            "|Readiprint Fashions|       124|\n",
            "+-------------------+----------+\n",
            "only showing top 10 rows\n",
            "\n"
          ]
        }
      ]
    },
    {
      "cell_type": "code",
      "source": [
        "#popular colors\n",
        "spark.sql('''select colour,count(colour) as count  from dataset\n",
        "              group by colour\n",
        "              order by count(colour) desc\n",
        "            ''').show(10)"
      ],
      "metadata": {
        "id": "UjAr8xKGXVoF",
        "colab": {
          "base_uri": "https://localhost:8080/"
        },
        "outputId": "9a501a5e-4ae7-4d68-c6c7-5ad510cda882"
      },
      "execution_count": null,
      "outputs": [
        {
          "output_type": "stream",
          "name": "stdout",
          "text": [
            "+---------+-----+\n",
            "|   colour|count|\n",
            "+---------+-----+\n",
            "|    Black| 1057|\n",
            "|     Blue| 1013|\n",
            "|     Pink|  677|\n",
            "|    Green|  594|\n",
            "|Navy Blue|  494|\n",
            "|    White|  443|\n",
            "|      Red|  414|\n",
            "|     Grey|  351|\n",
            "|   Maroon|  311|\n",
            "|    Beige|  304|\n",
            "+---------+-----+\n",
            "only showing top 10 rows\n",
            "\n"
          ]
        }
      ]
    },
    {
      "cell_type": "code",
      "source": [
        "#most popular brand and its color\n",
        "spark.sql('''select brand,colour,count(colour) as count  from dataset\n",
        "              group by brand, colour\n",
        "              order by count(colour) desc\n",
        "            ''').show(10)"
      ],
      "metadata": {
        "id": "Yb1nZCSIXe8-",
        "colab": {
          "base_uri": "https://localhost:8080/"
        },
        "outputId": "80427e25-8f13-43f8-a147-dd0ba327bc47"
      },
      "execution_count": null,
      "outputs": [
        {
          "output_type": "stream",
          "name": "stdout",
          "text": [
            "+--------------+------+-----+\n",
            "|         brand|colour|count|\n",
            "+--------------+------+-----+\n",
            "|      Roadster|  Blue|   94|\n",
            "| Tokyo Talkies|  Blue|   54|\n",
            "|           H&M| Black|   46|\n",
            "| Tokyo Talkies| Black|   45|\n",
            "| Tokyo Talkies| Green|   44|\n",
            "|      Roadster| Black|   37|\n",
            "|     High Star|  Blue|   29|\n",
            "|           H&M| Beige|   29|\n",
            "|         Levis|  Blue|   28|\n",
            "|Clora Creation| Black|   27|\n",
            "+--------------+------+-----+\n",
            "only showing top 10 rows\n",
            "\n"
          ]
        }
      ]
    },
    {
      "cell_type": "code",
      "source": [
        "#total unique brands\n",
        "spark.sql('''select count(Distinct(brand)) as total_brands  from dataset\n",
        "            ''').show()"
      ],
      "metadata": {
        "id": "b61J7om1DcUU",
        "colab": {
          "base_uri": "https://localhost:8080/"
        },
        "outputId": "ad62ddc2-6321-437f-fe98-c1aa25f6005e"
      },
      "execution_count": null,
      "outputs": [
        {
          "output_type": "stream",
          "name": "stdout",
          "text": [
            "+------------+\n",
            "|total_brands|\n",
            "+------------+\n",
            "|         500|\n",
            "+------------+\n",
            "\n"
          ]
        }
      ]
    },
    {
      "cell_type": "code",
      "source": [
        "#highest number of rating for a brand\n",
        "spark.sql('''select brand, CAST(sum(ratingCount) as INT) as total_no_ratings  from dataset\n",
        "              group by brand\n",
        "              order by sum(ratingCount) desc\n",
        "            ''').show(10)\n"
      ],
      "metadata": {
        "id": "cYAlQspFDk3K",
        "colab": {
          "base_uri": "https://localhost:8080/"
        },
        "outputId": "082f5238-2028-456a-abd4-e7ebe9f5a9ae"
      },
      "execution_count": null,
      "outputs": [
        {
          "output_type": "stream",
          "name": "stdout",
          "text": [
            "+-------------+----------------+\n",
            "|        brand|total_no_ratings|\n",
            "+-------------+----------------+\n",
            "|     Roadster|          121169|\n",
            "|Tokyo Talkies|           70216|\n",
            "|        Anouk|           50932|\n",
            "|      Vishudh|           45932|\n",
            "|      Varanga|           45617|\n",
            "|        Libas|           40390|\n",
            "|    Anubhutee|           37695|\n",
            "|        Kotty|           32330|\n",
            "|       Mitera|           31698|\n",
            "|       Athena|           29757|\n",
            "+-------------+----------------+\n",
            "only showing top 10 rows\n",
            "\n"
          ]
        }
      ]
    },
    {
      "cell_type": "code",
      "source": [
        "#highest rated brands based on avg rating score\n",
        "\n",
        "spark.sql('''select brand, ROUND(AVG(avg_rating), 2) as total_rating  from dataset\n",
        "              group by brand\n",
        "              order by AVG(avg_rating) desc\n",
        "            ''').show(10)\n"
      ],
      "metadata": {
        "id": "aHBVyHiFEjer",
        "colab": {
          "base_uri": "https://localhost:8080/"
        },
        "outputId": "b2115d08-3cfe-4029-ac79-62ce4799d908"
      },
      "execution_count": null,
      "outputs": [
        {
          "output_type": "stream",
          "name": "stdout",
          "text": [
            "+--------------------+------------+\n",
            "|               brand|total_rating|\n",
            "+--------------------+------------+\n",
            "|              Reebok|        4.83|\n",
            "|   Allen Solly Tribe|        4.77|\n",
            "|      Angel & Rocket|        4.73|\n",
            "|        Juniper Plus|        4.65|\n",
            "|Kook N Keech Loon...|        4.63|\n",
            "|          Swishchick|        4.63|\n",
            "|              Faserz|        4.58|\n",
            "|                 513|        4.53|\n",
            "|                Zeyo|         4.5|\n",
            "|              Amante|        4.46|\n",
            "+--------------------+------------+\n",
            "only showing top 10 rows\n",
            "\n"
          ]
        }
      ]
    },
    {
      "cell_type": "code",
      "source": [
        "#highest rated clothing item for each brand\n",
        "\n",
        "spark.sql('''Select brand, name,\n",
        "                        avg_rating\n",
        "                  From(\n",
        "                      SELECT Row_Number() over(partition by brand order by avg_rating desc)as \n",
        "                    row_number, *\n",
        "                  FROM dataset\n",
        "                  ) \n",
        "                  Where row_number = 1\n",
        "                  order by avg_rating DESC\n",
        "            ''').show(50, False)\n"
      ],
      "metadata": {
        "id": "ihd5SAeCFEMe",
        "colab": {
          "base_uri": "https://localhost:8080/"
        },
        "outputId": "0f4cb72d-789f-462a-d94c-ab7be486f890"
      },
      "execution_count": null,
      "outputs": [
        {
          "output_type": "stream",
          "name": "stdout",
          "text": [
            "+-------------------+-----------------------------------------------------------------------------------------------------+-----------+\n",
            "|brand              |name                                                                                                 |avg_rating |\n",
            "+-------------------+-----------------------------------------------------------------------------------------------------+-----------+\n",
            "|Monte Carlo        |Monte Carlo Women Beige Solid Sweatshirt                                                             |5.0        |\n",
            "|Xpose              |Xpose Women Navy Blue Washed Crop Denim Jacket                                                       |5.0        |\n",
            "|Chhabra 555        |Chhabra 555 Women Blue & Golden Zari Woven Design Semi-Stitched Banarasi Lehenga Choli               |5.0        |\n",
            "|Anouk              |Anouk Women Black & White Bandhani Printed Halter Neck Kurta                                         |5.0        |\n",
            "|High Star          |High Star Women Blue Solid Lightweight Denim Jacket                                                  |5.0        |\n",
            "|H&M                |H&M Women Beige Cropped Polo-Neck Jumper                                                             |5.0        |\n",
            "|Sugr               |Sugr Women Grey Dipped Hem Heathered Shrugs                                                          |5.0        |\n",
            "|Vero Moda          |Vero Moda Women Grey Sweatshirt                                                                      |5.0        |\n",
            "|Westwood           |Westwood Women Black Skinny Fit Trousers                                                             |5.0        |\n",
            "|Taavi              |Taavi Women Teal Blue & Gold Bhujodi Woven Design Shawl                                              |5.0        |\n",
            "|Soch               |Soch Turquoise Blue & Pink Viscose Rayon Embroidered Tunic                                           |5.0        |\n",
            "|Clora Creation     |Clora Creation Women White & Green Pack of 2 Knitted Ethnic Palazzos                                 |5.0        |\n",
            "|Fabindia           |Fabindia Women Teal Blue Solid Embellished Kurti                                                     |5.0        |\n",
            "|20Dresses          |20Dresses Women Maroon Flared High-Rise Parallel Trousers                                            |5.0        |\n",
            "|Amydus             |Amydus Women Plus Size Pink Printed Bomber                                                           |5.0        |\n",
            "|People             |People Women Blue Skinny Fit Jeans                                                                   |5.0        |\n",
            "|Miaz Lifestyle     |Miaz Lifestyle Women Mustard & White Basic Jumpsuit                                                  |5.0        |\n",
            "|Inddus             |Inddus Sea Green & Beige Embroidered Unstitched Lehenga & Blouse with Dupatta                        |5.0        |\n",
            "|Kook N Keech Emoji |Kook N Keech Emoji Women Stunning Blue Graphic Frayed Denim Top                                      |5.0        |\n",
            "|Juniper            |Juniper Women Off White & Orange Viscose Rayon V-Neck Ethnic Motifs Printed Gathers Tunic            |5.0        |\n",
            "|Tokyo Talkies      |Tokyo Talkies Women Olive Green A-Line Midi Skirts                                                   |5.0        |\n",
            "|Roadster           |Roadster Women Olive Green Solid Joggers with Side Taping                                            |5.0        |\n",
            "|Sangria            |Sangria Women Beige Pure Cotton Solid Flared Ethnic Palazzos                                         |5.0        |\n",
            "|Kazo               |Kazo Women Black Ribbed Pullover                                                                     |5.0        |\n",
            "|Allen Solly Woman  |Allen Solly Woman Navy Blue Solid Blazer                                                             |5.0        |\n",
            "|Varanga            |Varanga Women Sea Green & White Bandhani Printed Georgette Kurta                                     |5.0        |\n",
            "|Fort Collins       |Fort Collins Black Faux Leather Jacket                                                               |5.0        |\n",
            "|The Vanca          |The Vanca Women Olive Green Hooded Sweatshirt                                                        |5.0        |\n",
            "|Crimsoune Club     |Crimsoune Club Women Blue Washed Slim Fit Denim Shorts                                               |5.0        |\n",
            "|Swtantra           |Swtantra Women Black Embroidered Net Saree Blouse                                                    |5.0        |\n",
            "|Hopscotch          |Hopscotch Girls White & Blue Embellished A-Line Knee-Length Skirts                                   |5.0        |\n",
            "|Style Quotient     |Style Quotient Women Blue Longline Poncho                                                            |5.0        |\n",
            "|Shaily             |Shaily Off-White & Pink Embroidered Semi-Stitched Lehenga & Blouse with Dupatta                      |5.0        |\n",
            "|Mast & Harbour     |Mast & Harbour Women Blue Wide Leg Slash Knee Light Fade Stretchable Jeans                           |5.0        |\n",
            "|Hangup             |Hangup Women Pink Printed Lightweight Tailored Jacket                                                |5.0        |\n",
            "|Levis              |Levis Women Blue 714 Straight Fit High-Rise Light Fade Stretchable Jeans                             |5.0        |\n",
            "|Orchid Blues       |Orchid Blues Women Blue & White Printed Cotton Denim Jacket                                          |5.0        |\n",
            "|Silk Land          |Silk Land White & Blue Zari Pure Silk Kanjeevaram Saree                                              |5.0        |\n",
            "|Saffron Threads    |Saffron Threads Women White Off-Shoulder Bardot Top                                                  |5.0        |\n",
            "|Charukriti         |Charukriti Green & Pink Zari Pure Linen Saree                                                        |5.0        |\n",
            "|Mafadeny           |Mafadeny Women Khaki & BrownEthnic Self Design Longline Poncho With Fringed Detailing                |5.0        |\n",
            "|Ayaany             |Ayaany Women Yellow Printed Pure Cotton Top                                                          |5.0        |\n",
            "|Oxolloxo           |Oxolloxo Women Multicoloured Regular Fit Animal Printed Regular Trousers                             |5.0        |\n",
            "|Dupatta Bazaar     |Dupatta Bazaar Blue & Green Printed Dupatta                                                          |5.0        |\n",
            "|Mitera             |Mitera Peach-Coloured & Gold-Toned Embroidered Semi-Stitched Lehenga & Unstitched Blouse with Dupatta|5.0        |\n",
            "|Biba               |Biba Green Printed Unstitched Dress Material                                                         |5.0        |\n",
            "|Sztori             |Sztori Women Plus Size Magenta Floral Printed Pure Cotton Kurta                                      |5.0        |\n",
            "|Readiprint Fashions|Readiprint Fashions Blue Embroidered Unstitched Dress Material                                       |5.0        |\n",
            "|Latin Quarters     |Latin Quarters Women Grey & Pink Checked Poncho with Applique Detail                                 |5.0        |\n",
            "|Femella            |Femella Women Brown Solid Flared Jumpsuit with Belt                                                  |4.923076923|\n",
            "+-------------------+-----------------------------------------------------------------------------------------------------+-----------+\n",
            "only showing top 50 rows\n",
            "\n"
          ]
        }
      ]
    },
    {
      "cell_type": "code",
      "source": [
        "#total no of brands with 1 occurance in data set\n",
        "\n",
        "spark.sql('''Select count(*) as no_of_brands FROM (Select brand, count(brand) FROM dataset\n",
        "              GROUP BY brand\n",
        "              HAVING count(brand) = 1) \n",
        "            ''').show(10, False)\n"
      ],
      "metadata": {
        "id": "bad59Yl2Kgzu",
        "colab": {
          "base_uri": "https://localhost:8080/"
        },
        "outputId": "c058a91d-59f9-47d4-fd4b-eb32c7e49ddd"
      },
      "execution_count": null,
      "outputs": [
        {
          "output_type": "stream",
          "name": "stdout",
          "text": [
            "+------------+\n",
            "|no_of_brands|\n",
            "+------------+\n",
            "|102         |\n",
            "+------------+\n",
            "\n"
          ]
        }
      ]
    },
    {
      "cell_type": "code",
      "source": [
        "#all the brands with 1 occurance in data set\n",
        "\n",
        "spark.sql('''Select brand, count(brand) FROM dataset\n",
        "              GROUP BY brand\n",
        "              HAVING count(brand) = 1\n",
        "            ''').show(10, False)\n"
      ],
      "metadata": {
        "id": "vpv8tdQTC4RS",
        "colab": {
          "base_uri": "https://localhost:8080/"
        },
        "outputId": "591ebe0e-e712-4db6-a74c-7e3e317ab667"
      },
      "execution_count": null,
      "outputs": [
        {
          "output_type": "stream",
          "name": "stdout",
          "text": [
            "+-----------------+------------+\n",
            "|brand            |count(brand)|\n",
            "+-----------------+------------+\n",
            "|Taneira          |1           |\n",
            "|Teakwood Leathers|1           |\n",
            "|Tiara            |1           |\n",
            "|Sasimo           |1           |\n",
            "|Aditi Wasan      |1           |\n",
            "|Pantaloons Junior|1           |\n",
            "|Baby Moo         |1           |\n",
            "|Mystere Paris    |1           |\n",
            "|Kryptic          |1           |\n",
            "|Panash Trends    |1           |\n",
            "+-----------------+------------+\n",
            "only showing top 10 rows\n",
            "\n"
          ]
        }
      ]
    },
    {
      "cell_type": "code",
      "source": [],
      "metadata": {
        "id": "nC2xBITaPHyJ"
      },
      "execution_count": null,
      "outputs": []
    },
    {
      "cell_type": "markdown",
      "source": [
        "**Preparing dataset for machine learning algorithms**"
      ],
      "metadata": {
        "id": "vr8Ea8QDPq-d"
      }
    },
    {
      "cell_type": "markdown",
      "source": [
        "Feature Selection based on Domain Expert Knowledge"
      ],
      "metadata": {
        "id": "0mLogwPoRjIX"
      }
    },
    {
      "cell_type": "code",
      "source": [
        "sparkDF.show(2)"
      ],
      "metadata": {
        "id": "gXjL-Q5gPHuH",
        "colab": {
          "base_uri": "https://localhost:8080/"
        },
        "outputId": "816c3199-67b9-4db8-cbe5-64f73e7e2715"
      },
      "execution_count": null,
      "outputs": [
        {
          "output_type": "stream",
          "name": "stdout",
          "text": [
            "+--------------------+------+------+-----+-----------+------------------+--------+----------+\n",
            "|                name| price|colour|brand|ratingCount|        avg_rating|brand_id|brand_name|\n",
            "+--------------------+------+------+-----+-----------+------------------+--------+----------+\n",
            "|Darzi Women White...|1499.0| White|Darzi|        7.0|       3.428571429|     207|     Darzi|\n",
            "|Darzi Women White...|1199.0| White|Darzi|     13.375|1.3223973524583332|     207|     Darzi|\n",
            "+--------------------+------+------+-----+-----------+------------------+--------+----------+\n",
            "only showing top 2 rows\n",
            "\n"
          ]
        }
      ]
    },
    {
      "cell_type": "code",
      "source": [
        "save = sparkDF.toPandas()\n",
        "save.to_csv('dataset.csv', index=None)"
      ],
      "metadata": {
        "id": "e89uCOAhJPcl"
      },
      "execution_count": null,
      "outputs": []
    },
    {
      "cell_type": "markdown",
      "source": [
        "As label (price) which is used for ML model to predict, first and foremost name is removed as it does not contribute to model building its name of the item in string format, string columns brand, brand_name are dropped as well to represent the brand in dataset, brand id is used."
      ],
      "metadata": {
        "id": "63XY_VZ-P5DD"
      }
    },
    {
      "cell_type": "code",
      "source": [
        "data_DF = sparkDF.drop('name', 'brand', 'brand_name')"
      ],
      "metadata": {
        "id": "0jMDslR1REvs"
      },
      "execution_count": null,
      "outputs": []
    },
    {
      "cell_type": "code",
      "source": [
        "data_DF.show(2)"
      ],
      "metadata": {
        "id": "K0lcuNFbRTyC",
        "colab": {
          "base_uri": "https://localhost:8080/"
        },
        "outputId": "9394fe9d-dabe-43db-9888-6fd84ad5037e"
      },
      "execution_count": null,
      "outputs": [
        {
          "output_type": "stream",
          "name": "stdout",
          "text": [
            "+------+------+-----------+------------------+--------+\n",
            "| price|colour|ratingCount|        avg_rating|brand_id|\n",
            "+------+------+-----------+------------------+--------+\n",
            "|1499.0| White|        7.0|       3.428571429|     207|\n",
            "|1199.0| White|     13.375|1.3223973524583332|     207|\n",
            "+------+------+-----------+------------------+--------+\n",
            "only showing top 2 rows\n",
            "\n"
          ]
        }
      ]
    },
    {
      "cell_type": "code",
      "source": [
        "data_DF.select(countDistinct(\"colour\"))"
      ],
      "metadata": {
        "id": "tDWMhCV6QbDK",
        "colab": {
          "base_uri": "https://localhost:8080/",
          "height": 66
        },
        "outputId": "f75612b2-7204-4444-fccd-102527204f84"
      },
      "execution_count": null,
      "outputs": [
        {
          "output_type": "execute_result",
          "data": {
            "text/plain": [
              "+----------------------+\n",
              "|count(DISTINCT colour)|\n",
              "+----------------------+\n",
              "|                    49|\n",
              "+----------------------+"
            ],
            "text/html": [
              "<table border='1'>\n",
              "<tr><th>count(DISTINCT colour)</th></tr>\n",
              "<tr><td>49</td></tr>\n",
              "</table>\n"
            ]
          },
          "metadata": {},
          "execution_count": 80
        }
      ]
    },
    {
      "cell_type": "markdown",
      "source": [
        "As far as color is considered according to analysis, certain color are more likely to be sold like the colour black, so to use its importance colours are converted into numeric formart through StringIndexer function"
      ],
      "metadata": {
        "id": "lCUIAmWtQnXZ"
      }
    },
    {
      "cell_type": "code",
      "source": [
        "from pyspark.ml.feature import StringIndexer\n",
        "\n",
        "indexer = StringIndexer(inputCol=\"colour\", outputCol=\"colour_no\")\n",
        "indexed = indexer.fit(data_DF).transform(data_DF)\n",
        "indexed.show()"
      ],
      "metadata": {
        "id": "dvdOdKjcQlX-",
        "colab": {
          "base_uri": "https://localhost:8080/"
        },
        "outputId": "e6276560-7e94-47b0-cbb2-3d9ca34392f7"
      },
      "execution_count": null,
      "outputs": [
        {
          "output_type": "stream",
          "name": "stdout",
          "text": [
            "+------+--------+-----------+------------------+--------+---------+\n",
            "| price|  colour|ratingCount|        avg_rating|brand_id|colour_no|\n",
            "+------+--------+-----------+------------------+--------+---------+\n",
            "|1499.0|   White|        7.0|       3.428571429|     207|      5.0|\n",
            "|1199.0|   White|     13.375|1.3223973524583332|     207|      5.0|\n",
            "|1499.0|   Multi|     13.375|1.3223973524583332|     207|     21.0|\n",
            "|1499.0|   Black|     13.375|1.3223973524583332|     207|      0.0|\n",
            "|1499.0|    Pink|     13.375|1.3223973524583332|     207|      2.0|\n",
            "|1199.0|   Black|      126.0|       3.865079365|     207|      0.0|\n",
            "|1199.0|   Black|       11.0|       3.818181818|     207|      0.0|\n",
            "|1999.0|  Yellow|     13.375|1.3223973524583332|     207|     10.0|\n",
            "|1499.0|  Maroon|     13.375|1.3223973524583332|     207|      8.0|\n",
            "|1499.0|  Yellow|     13.375|1.3223973524583332|     207|     10.0|\n",
            "|1199.0|   Black|       94.0|        4.14893617|     207|      0.0|\n",
            "|1999.0|  Maroon|     13.375|1.3223973524583332|     207|      8.0|\n",
            "|1999.0|     Red|     13.375|1.3223973524583332|     207|      6.0|\n",
            "|1999.0|    Blue|     13.375|1.3223973524583332|     207|      1.0|\n",
            "|1199.0|   Black|       18.0|       4.222222222|     207|      0.0|\n",
            "|1499.0|   Green|       30.0|               3.8|     207|      3.0|\n",
            "|1999.0|  Maroon|     13.375|1.3223973524583332|     207|      8.0|\n",
            "|1499.0|Charcoal|     13.375|1.3223973524583332|     207|     26.0|\n",
            "|1499.0|    Pink|       33.0|       4.454545455|     207|      2.0|\n",
            "|1499.0|    Pink|     13.375|1.3223973524583332|     207|      2.0|\n",
            "+------+--------+-----------+------------------+--------+---------+\n",
            "only showing top 20 rows\n",
            "\n"
          ]
        }
      ]
    },
    {
      "cell_type": "markdown",
      "source": [
        "now colour coloumn can be droped "
      ],
      "metadata": {
        "id": "aa4N_RMpSnXh"
      }
    },
    {
      "cell_type": "code",
      "source": [
        "dataDF = indexed.drop('colour')"
      ],
      "metadata": {
        "id": "Gy9fzJarQZvL"
      },
      "execution_count": null,
      "outputs": []
    },
    {
      "cell_type": "code",
      "source": [
        "dataDF.show(2)"
      ],
      "metadata": {
        "id": "Rdlcv6-7SjqV",
        "colab": {
          "base_uri": "https://localhost:8080/"
        },
        "outputId": "c32a9adb-a48d-45d3-df0b-150e70abc175"
      },
      "execution_count": null,
      "outputs": [
        {
          "output_type": "stream",
          "name": "stdout",
          "text": [
            "+------+-----------+------------------+--------+---------+\n",
            "| price|ratingCount|        avg_rating|brand_id|colour_no|\n",
            "+------+-----------+------------------+--------+---------+\n",
            "|1499.0|        7.0|       3.428571429|     207|      5.0|\n",
            "|1199.0|     13.375|1.3223973524583332|     207|      5.0|\n",
            "+------+-----------+------------------+--------+---------+\n",
            "only showing top 2 rows\n",
            "\n"
          ]
        }
      ]
    },
    {
      "cell_type": "markdown",
      "source": [
        "As dataset now has all the coloumns in numeric format, it can be randomly splitted into train and test set and Machine Learning models can be applied"
      ],
      "metadata": {
        "id": "hC-oPqQwSyLs"
      }
    },
    {
      "cell_type": "code",
      "source": [
        "# here 75% training, and 25% testing data is taken"
      ],
      "metadata": {
        "id": "_gZ8g5b4Swdq"
      },
      "execution_count": null,
      "outputs": []
    },
    {
      "cell_type": "code",
      "source": [
        "# Spark MLlib has its own format of dataset to take, that is achieved by putting all the columns other than target under feature label\n",
        "\n",
        "from pyspark.ml.feature import VectorAssembler\n",
        "assembler = VectorAssembler(\n",
        "    inputCols=[col for col in dataDF.columns if col!=\"price\"],\n",
        "    outputCol='features')\n",
        "\n",
        "new_df = assembler.transform(dataDF)\n",
        "new_df = new_df.select(['features', 'price'])\n",
        "new_df.show(3)"
      ],
      "metadata": {
        "id": "IwpWog6iUkzc",
        "colab": {
          "base_uri": "https://localhost:8080/"
        },
        "outputId": "82ad089a-8aef-43c9-b992-7b49e2600746"
      },
      "execution_count": null,
      "outputs": [
        {
          "output_type": "stream",
          "name": "stdout",
          "text": [
            "+--------------------+------+\n",
            "|            features| price|\n",
            "+--------------------+------+\n",
            "|[7.0,3.428571429,...|1499.0|\n",
            "|[13.375,1.3223973...|1199.0|\n",
            "|[13.375,1.3223973...|1499.0|\n",
            "+--------------------+------+\n",
            "only showing top 3 rows\n",
            "\n"
          ]
        }
      ]
    },
    {
      "cell_type": "code",
      "source": [
        "(trainingData, testData) = new_df.randomSplit([0.75, 0.25])"
      ],
      "metadata": {
        "id": "ue-vnBZ-S_9t"
      },
      "execution_count": null,
      "outputs": []
    },
    {
      "cell_type": "code",
      "source": [],
      "metadata": {
        "id": "09cfqA2ZTAAK"
      },
      "execution_count": null,
      "outputs": []
    },
    {
      "cell_type": "code",
      "source": [
        "# -> Note the code is adopted from official documentation of Spark MLlib link: https://spark.apache.org/docs/latest/ml-classification-regression.html#linear-regression\n",
        "\n",
        "from pyspark.ml.regression import LinearRegression\n",
        "\n",
        "lr = LinearRegression(labelCol='price', maxIter=30, regParam=0.2, elasticNetParam=0.3)\n",
        "\n",
        "# Fit the model\n",
        "lrModel = lr.fit(trainingData)\n",
        "\n",
        "# Print the coefficients and intercept for linear regression\n",
        "print(\"Coefficients: %s\" % str(lrModel.coefficients))\n",
        "print(\"Intercept: %s\" % str(lrModel.intercept))\n",
        "\n",
        "# Summarize the model over the training set and print out some metrics\n",
        "trainingSummary = lrModel.summary\n",
        "print(\"numIterations: %d\" % trainingSummary.totalIterations)\n",
        "print(\"objectiveHistory: %s\" % str(trainingSummary.objectiveHistory))\n",
        "trainingSummary.residuals.show()\n",
        "print(\"RMSE: %f\" % trainingSummary.rootMeanSquaredError)\n",
        "print(\"r2: %f\" % trainingSummary.r2)"
      ],
      "metadata": {
        "id": "VQ_KxA2nKYHy",
        "colab": {
          "base_uri": "https://localhost:8080/"
        },
        "outputId": "2c742920-73cf-43f1-8d99-2dd2d1960e98"
      },
      "execution_count": null,
      "outputs": [
        {
          "output_type": "stream",
          "name": "stdout",
          "text": [
            "Coefficients: [-0.05797045114121363,-324.87508436591344,0.5881111489973367,21.44811207383677]\n",
            "Intercept: 3280.9181940929884\n",
            "numIterations: 7\n",
            "objectiveHistory: [0.5, 0.4889817465320556, 0.47534218643246046, 0.4707374283582021, 0.470736414606651, 0.47073639303139675, 0.4707363930171113, 0.4707363930169327]\n",
            "+-------------------+\n",
            "|          residuals|\n",
            "+-------------------+\n",
            "|-447.21071675088933|\n",
            "| -896.6345368956972|\n",
            "| -962.5873867257369|\n",
            "|-1473.2678957062617|\n",
            "| -994.7160077800986|\n",
            "|-1516.1641198539355|\n",
            "|-1516.1641198539355|\n",
            "|-1559.0603440016089|\n",
            "|-1880.5084560754458|\n",
            "|-1101.9565681492822|\n",
            "| -1644.852792296956|\n",
            "| -1144.852792296956|\n",
            "| -1144.852792296956|\n",
            "|-1687.7490164446294|\n",
            "|-1187.7490164446294|\n",
            "| -1923.678249256834|\n",
            "|-2030.9188096260177|\n",
            "|   -731.73710403224|\n",
            "| -497.4695706905295|\n",
            "| -940.6849403063179|\n",
            "+-------------------+\n",
            "only showing top 20 rows\n",
            "\n",
            "RMSE: 2368.545228\n",
            "r2: 0.058549\n"
          ]
        }
      ]
    },
    {
      "cell_type": "code",
      "source": [
        "# Make predictions.\n",
        "predictions = lrModel.transform(testData)"
      ],
      "metadata": {
        "id": "UyVfUCxlVP7r"
      },
      "execution_count": null,
      "outputs": []
    },
    {
      "cell_type": "code",
      "source": [
        "\n",
        "# Select example rows to display.\n",
        "predictions.select(\"prediction\", \"price\", \"features\").show(5)\n"
      ],
      "metadata": {
        "id": "b1NSp1kgWDgp",
        "colab": {
          "base_uri": "https://localhost:8080/"
        },
        "outputId": "092c3868-65de-4aee-d5f6-514d9407cb0b"
      },
      "execution_count": null,
      "outputs": [
        {
          "output_type": "stream",
          "name": "stdout",
          "text": [
            "+------------------+------+--------------------+\n",
            "|        prediction| price|            features|\n",
            "+------------------+------+--------------------+\n",
            "| 3143.852792296956|1199.0|[13.375,1.3223973...|\n",
            "|3529.9188096260177|1499.0|[13.375,1.3223973...|\n",
            "| 2029.918933231011|1199.0|[18.0,4.222222222...|\n",
            "| 2049.321991270623|1199.0|[94.0,4.14893617,...|\n",
            "| 3652.829573387105|1999.0|[0.26315789473684...|\n",
            "+------------------+------+--------------------+\n",
            "only showing top 5 rows\n",
            "\n"
          ]
        }
      ]
    },
    {
      "cell_type": "code",
      "source": [
        "from pyspark.ml.evaluation import RegressionEvaluator\n",
        "\n",
        "# Select (prediction, true label) and compute test error\n",
        "evaluator = RegressionEvaluator(\n",
        "    labelCol=\"price\", predictionCol=\"prediction\", metricName=\"rmse\")\n",
        "\n",
        "rmse = evaluator.evaluate(predictions)\n",
        "\n",
        "print(\"Root Mean Squared Error (RMSE) on test data = %g\" % rmse)\n"
      ],
      "metadata": {
        "id": "IXoLHe1SWFL_",
        "colab": {
          "base_uri": "https://localhost:8080/"
        },
        "outputId": "9be11982-12fe-43da-b034-cdd2320d110a"
      },
      "execution_count": null,
      "outputs": [
        {
          "output_type": "stream",
          "name": "stdout",
          "text": [
            "Root Mean Squared Error (RMSE) on test data = 2363.79\n"
          ]
        }
      ]
    },
    {
      "cell_type": "code",
      "source": [
        "from pyspark.ml.feature import VectorAssembler\n",
        "assembler = VectorAssembler(\n",
        "    inputCols=[col for col in dataDF.columns if col!=\"price\"],\n",
        "    outputCol='features')\n",
        "\n",
        "new_df = assembler.transform(dataDF)\n",
        "\n",
        "new_df = new_df.withColumnRenamed(\"price\",\"label\")\n",
        "\n",
        "new_df = new_df.select(['features', 'label'])\n",
        "new_df.show(3)"
      ],
      "metadata": {
        "colab": {
          "base_uri": "https://localhost:8080/"
        },
        "id": "aUQXJniH2H0H",
        "outputId": "03e12998-f8e7-4922-94be-2b51df124569"
      },
      "execution_count": null,
      "outputs": [
        {
          "output_type": "stream",
          "name": "stdout",
          "text": [
            "+--------------------+------+\n",
            "|            features| label|\n",
            "+--------------------+------+\n",
            "|[7.0,3.428571429,...|1499.0|\n",
            "|[13.375,1.3223973...|1199.0|\n",
            "|[13.375,1.3223973...|1499.0|\n",
            "+--------------------+------+\n",
            "only showing top 3 rows\n",
            "\n"
          ]
        }
      ]
    },
    {
      "cell_type": "code",
      "source": [
        "#Note code adopted from official spark MLlib documentation\n",
        "\n",
        "from pyspark.ml.evaluation import RegressionEvaluator\n",
        "from pyspark.ml.regression import LinearRegression\n",
        "from pyspark.ml.tuning import ParamGridBuilder, TrainValidationSplit\n",
        "\n",
        "\n",
        "\n",
        "train, test = new_df.randomSplit([0.75, 0.25], seed=45)\n",
        "\n",
        "lr = LinearRegression(maxIter=10)\n",
        "\n",
        "# We use a ParamGridBuilder to construct a grid of parameters to search over.\n",
        "# TrainValidationSplit will try all combinations of values and determine best model using\n",
        "# the evaluator.\n",
        "paramGrid = ParamGridBuilder()\\\n",
        "    .addGrid(lr.regParam, [0.1, 0.01]) \\\n",
        "    .addGrid(lr.fitIntercept, [False, True])\\\n",
        "    .addGrid(lr.elasticNetParam, [0.0, 0.5, 1.0])\\\n",
        "    .build()\n",
        "\n",
        "# In this case the estimator is simply the linear regression.\n",
        "# A TrainValidationSplit requires an Estimator, a set of Estimator ParamMaps, and an Evaluator.\n",
        "tvs = TrainValidationSplit(estimator=lr,\n",
        "                           estimatorParamMaps=paramGrid,\n",
        "                           evaluator=RegressionEvaluator(),\n",
        "                           # 80% of the data will be used for training, 20% for validation.\n",
        "                           trainRatio=0.8)\n",
        "\n",
        "# Run TrainValidationSplit, and choose the best set of parameters.\n",
        "model = tvs.fit(train)\n",
        "\n",
        "# Make predictions on test data. model is the model with combination of parameters\n",
        "# that performed best.\n",
        "model.transform(test)"
      ],
      "metadata": {
        "id": "3uWdFU1rXP-Q",
        "colab": {
          "base_uri": "https://localhost:8080/",
          "height": 513
        },
        "outputId": "72418482-5508-4c20-e63e-271a335414ba"
      },
      "execution_count": null,
      "outputs": [
        {
          "output_type": "execute_result",
          "data": {
            "text/plain": [
              "+--------------------+------+------------------+\n",
              "|            features| label|        prediction|\n",
              "+--------------------+------+------------------+\n",
              "|[2.0,4.0,207.0,16.0]|1999.0| 2333.384806216632|\n",
              "|[13.375,1.3223973...|1499.0|3002.5798314200756|\n",
              "|[13.375,1.3223973...|1199.0|3042.0738145463774|\n",
              "|[94.0,4.14893617,...|1199.0|2069.0021228191745|\n",
              "|[126.0,3.86507936...|1199.0|2157.3973620111697|\n",
              "|[0.26315789473684...|3299.0| 3716.054987761866|\n",
              "| [2.0,5.0,865.0,0.0]|2499.0| 2215.561729814542|\n",
              "|[0.6,0.9333333334...|3299.0|3087.4737265284616|\n",
              "|[0.6,0.9333333334...|2899.0| 3140.132370696864|\n",
              "|[52.0,4.346153846...|1310.0| 2184.223802498497|\n",
              "|[64.0,4.0625,850....|3599.0| 2540.570668258638|\n",
              "|[326.888888888888...|3299.0|  2823.57884762303|\n",
              "|[2075.0,4.1310843...|2600.0| 2487.804039812362|\n",
              "|  [0.0,0.0,83.0,3.0]|2079.0| 3360.938197877922|\n",
              "|[11.4117647058823...| 999.0|2911.3524251275594|\n",
              "|[11.4117647058823...|1699.0|2924.5170861696597|\n",
              "|[14.0,3.857142857...|3499.0| 2327.872491979765|\n",
              "|[22.0,3.909090909...|1699.0| 2244.933688182501|\n",
              "|[33.0,4.242424242...|1899.0|2137.8409661800897|\n",
              "|[0.0,0.0,222.0,10.0]| 699.0|3540.0935482575337|\n",
              "+--------------------+------+------------------+\n",
              "only showing top 20 rows"
            ],
            "text/html": [
              "<table border='1'>\n",
              "<tr><th>features</th><th>label</th><th>prediction</th></tr>\n",
              "<tr><td>[2.0,4.0,207.0,16.0]</td><td>1999.0</td><td>2333.384806216632</td></tr>\n",
              "<tr><td>[13.375,1.3223973...</td><td>1499.0</td><td>3002.5798314200756</td></tr>\n",
              "<tr><td>[13.375,1.3223973...</td><td>1199.0</td><td>3042.0738145463774</td></tr>\n",
              "<tr><td>[94.0,4.14893617,...</td><td>1199.0</td><td>2069.0021228191745</td></tr>\n",
              "<tr><td>[126.0,3.86507936...</td><td>1199.0</td><td>2157.3973620111697</td></tr>\n",
              "<tr><td>[0.26315789473684...</td><td>3299.0</td><td>3716.054987761866</td></tr>\n",
              "<tr><td>[2.0,5.0,865.0,0.0]</td><td>2499.0</td><td>2215.561729814542</td></tr>\n",
              "<tr><td>[0.6,0.9333333334...</td><td>3299.0</td><td>3087.4737265284616</td></tr>\n",
              "<tr><td>[0.6,0.9333333334...</td><td>2899.0</td><td>3140.132370696864</td></tr>\n",
              "<tr><td>[52.0,4.346153846...</td><td>1310.0</td><td>2184.223802498497</td></tr>\n",
              "<tr><td>[64.0,4.0625,850....</td><td>3599.0</td><td>2540.570668258638</td></tr>\n",
              "<tr><td>[326.888888888888...</td><td>3299.0</td><td>2823.57884762303</td></tr>\n",
              "<tr><td>[2075.0,4.1310843...</td><td>2600.0</td><td>2487.804039812362</td></tr>\n",
              "<tr><td>[0.0,0.0,83.0,3.0]</td><td>2079.0</td><td>3360.938197877922</td></tr>\n",
              "<tr><td>[11.4117647058823...</td><td>999.0</td><td>2911.3524251275594</td></tr>\n",
              "<tr><td>[11.4117647058823...</td><td>1699.0</td><td>2924.5170861696597</td></tr>\n",
              "<tr><td>[14.0,3.857142857...</td><td>3499.0</td><td>2327.872491979765</td></tr>\n",
              "<tr><td>[22.0,3.909090909...</td><td>1699.0</td><td>2244.933688182501</td></tr>\n",
              "<tr><td>[33.0,4.242424242...</td><td>1899.0</td><td>2137.8409661800897</td></tr>\n",
              "<tr><td>[0.0,0.0,222.0,10.0]</td><td>699.0</td><td>3540.0935482575337</td></tr>\n",
              "</table>\n",
              "only showing top 20 rows\n"
            ]
          },
          "metadata": {},
          "execution_count": 92
        }
      ]
    },
    {
      "cell_type": "code",
      "source": [
        "evaluator = RegressionEvaluator(\n",
        "    labelCol=\"label\", predictionCol=\"prediction\", metricName=\"rmse\")\n"
      ],
      "metadata": {
        "id": "k_Yq-12xPMha"
      },
      "execution_count": null,
      "outputs": []
    },
    {
      "cell_type": "code",
      "source": [
        "evrmse = evaluator.evaluate(model.transform(test))"
      ],
      "metadata": {
        "id": "qrL-b4vwM9G_"
      },
      "execution_count": null,
      "outputs": []
    },
    {
      "cell_type": "code",
      "source": [
        "evrmse"
      ],
      "metadata": {
        "colab": {
          "base_uri": "https://localhost:8080/"
        },
        "id": "ofVIUhoJPPgb",
        "outputId": "ed786319-46eb-4416-8fca-13a716fb8368"
      },
      "execution_count": null,
      "outputs": [
        {
          "output_type": "execute_result",
          "data": {
            "text/plain": [
              "2510.695313167522"
            ]
          },
          "metadata": {},
          "execution_count": 96
        }
      ]
    },
    {
      "cell_type": "code",
      "source": [],
      "metadata": {
        "id": "RfMHUtysM9M3"
      },
      "execution_count": null,
      "outputs": []
    },
    {
      "cell_type": "code",
      "source": [
        "from pyspark.ml import Pipeline\n",
        "from pyspark.ml.regression import DecisionTreeRegressor, RandomForestRegressor\n",
        "from pyspark.ml.feature import VectorIndexer\n",
        "from pyspark.ml.evaluation import RegressionEvaluator\n",
        "from pyspark.ml.feature import MinMaxScaler, StandardScaler\n",
        "\n",
        "\n",
        "featureScaler = MinMaxScaler(inputCol=\"features\", outputCol=\"scaledFeatures\").fit(new_df)\n",
        "\n",
        "train, test = new_df.randomSplit([0.75, 0.25], seed=45)\n",
        "\n",
        "\n",
        "# Train a Decision Tree model.\n",
        "dt_reg = DecisionTreeRegressor(featuresCol=\"scaledFeatures\")\n",
        "\n",
        "pipeline = Pipeline(stages=[featureScaler, dt_reg])\n",
        "\n",
        "# Train model.  This also runs the indexer.\n",
        "model = pipeline.fit(train)\n",
        "\n",
        "# Make predictions.\n",
        "predictions = model.transform(test)\n",
        "\n",
        "# Select example rows to display.\n",
        "predictions.select(\"prediction\", \"label\", \"features\").show(5)\n",
        "\n",
        "# Select (prediction, true label) and compute test error\n",
        "evaluator = RegressionEvaluator(\n",
        "    labelCol=\"label\", predictionCol=\"prediction\", metricName=\"rmse\")\n",
        "rmse = evaluator.evaluate(predictions)\n",
        "print(\"Root Mean Squared Error (RMSE) on test data = %g\" % rmse)\n",
        "\n",
        "dtModel = model.stages[1]\n",
        "print(dtModel)"
      ],
      "metadata": {
        "colab": {
          "base_uri": "https://localhost:8080/"
        },
        "id": "jtGPeDGWbglR",
        "outputId": "631f1633-3aff-4d0f-9b41-b73d1b0bbcb8"
      },
      "execution_count": null,
      "outputs": [
        {
          "output_type": "stream",
          "name": "stdout",
          "text": [
            "+-----------------+------+--------------------+\n",
            "|       prediction| label|            features|\n",
            "+-----------------+------+--------------------+\n",
            "|1545.347619047619|1999.0|[2.0,4.0,207.0,16.0]|\n",
            "|1545.347619047619|1499.0|[13.375,1.3223973...|\n",
            "|1545.347619047619|1199.0|[13.375,1.3223973...|\n",
            "|1545.347619047619|1199.0|[94.0,4.14893617,...|\n",
            "|1545.347619047619|1199.0|[126.0,3.86507936...|\n",
            "+-----------------+------+--------------------+\n",
            "only showing top 5 rows\n",
            "\n",
            "Root Mean Squared Error (RMSE) on test data = 2305.3\n",
            "DecisionTreeRegressionModel: uid=DecisionTreeRegressor_22826a755cbf, depth=5, numNodes=63, numFeatures=4\n"
          ]
        }
      ]
    },
    {
      "cell_type": "code",
      "source": [
        "from pyspark.ml import Pipeline\n",
        "from pyspark.ml.regression import RandomForestRegressor\n",
        "from pyspark.ml.feature import VectorIndexer\n",
        "from pyspark.ml.evaluation import RegressionEvaluator\n",
        "from pyspark.ml.feature import MinMaxScaler, StandardScaler\n",
        "\n",
        "\n",
        "featureScaler = MinMaxScaler(inputCol=\"features\", outputCol=\"scaledFeatures\").fit(new_df)\n",
        "\n",
        "train, test = new_df.randomSplit([0.75, 0.25], seed=45)\n",
        "\n",
        "\n",
        "# Train a Random Forest model.\n",
        "rf_reg = RandomForestRegressor(featuresCol=\"scaledFeatures\")\n",
        "\n",
        "pipeline = Pipeline(stages=[featureScaler, rf_reg])\n",
        "\n",
        "# Train model.\n",
        "model = pipeline.fit(train)\n",
        "predictions = model.transform(test)\n",
        "predictions.select(\"prediction\", \"label\", \"features\").show(5)\n",
        "# Select (prediction, true label) and compute test error\n",
        "evaluator = RegressionEvaluator(\n",
        "    labelCol=\"label\", predictionCol=\"prediction\", metricName=\"rmse\")\n",
        "rmse = evaluator.evaluate(predictions)\n",
        "print(\"Root Mean Squared Error (RMSE) on test data = %g\" % rmse)\n",
        "\n",
        "rfModel = model.stages[1]\n",
        "print(rfModel)"
      ],
      "metadata": {
        "colab": {
          "base_uri": "https://localhost:8080/"
        },
        "id": "ULcmQMANbgsp",
        "outputId": "6e403835-8ea7-4c16-e0ba-f9ad6d8aa670"
      },
      "execution_count": null,
      "outputs": [
        {
          "output_type": "stream",
          "name": "stdout",
          "text": [
            "+------------------+------+--------------------+\n",
            "|        prediction| label|            features|\n",
            "+------------------+------+--------------------+\n",
            "| 2459.501850531552|1999.0|[2.0,4.0,207.0,16.0]|\n",
            "|2079.6394932126204|1499.0|[13.375,1.3223973...|\n",
            "|  2037.44709960966|1199.0|[13.375,1.3223973...|\n",
            "|1778.7401521642114|1199.0|[94.0,4.14893617,...|\n",
            "|1778.7401521642114|1199.0|[126.0,3.86507936...|\n",
            "+------------------+------+--------------------+\n",
            "only showing top 5 rows\n",
            "\n",
            "Root Mean Squared Error (RMSE) on test data = 2284.65\n",
            "RandomForestRegressionModel: uid=RandomForestRegressor_dfb205815b44, numTrees=20, numFeatures=4\n"
          ]
        }
      ]
    },
    {
      "cell_type": "code",
      "source": [],
      "metadata": {
        "id": "TG0zcSW-ZYDF"
      },
      "execution_count": null,
      "outputs": []
    },
    {
      "cell_type": "code",
      "source": [
        "from pyspark.ml import Pipeline\n",
        "from pyspark.ml.regression import FMRegressor\n",
        "from pyspark.ml.feature import VectorIndexer\n",
        "from pyspark.ml.evaluation import RegressionEvaluator\n",
        "from pyspark.ml.feature import MinMaxScaler, StandardScaler\n",
        "\n",
        "\n",
        "featureScaler = StandardScaler(inputCol=\"features\", outputCol=\"scaledFeatures\").fit(new_df)\n",
        "\n",
        "train, test = new_df.randomSplit([0.75, 0.25], seed=34)\n",
        "\n",
        "# Train a FM model.\n",
        "fm_reg = FMRegressor(featuresCol=\"scaledFeatures\", stepSize=0.001)\n",
        "pipeline = Pipeline(stages=[featureScaler, fm_reg])\n",
        "# Train model.\n",
        "model = pipeline.fit(train)\n",
        "# Make predictions.\n",
        "predictions = model.transform(test)\n",
        "# Select example rows to display.\n",
        "predictions.select(\"prediction\", \"label\", \"features\").show(5)\n",
        "# Select (prediction, true label) and compute test error\n",
        "evaluator = RegressionEvaluator(\n",
        "    labelCol=\"label\", predictionCol=\"prediction\", metricName=\"rmse\")\n",
        "rmse = evaluator.evaluate(predictions)\n",
        "print(\"Root Mean Squared Error (RMSE) on test data = %g\" % rmse)\n",
        "\n",
        "fmModel = model.stages[1]\n",
        "print(fmModel)"
      ],
      "metadata": {
        "colab": {
          "base_uri": "https://localhost:8080/"
        },
        "id": "ScOpI-GxZYFp",
        "outputId": "ea75c106-4550-45a5-a49b-1500f2bc6a25"
      },
      "execution_count": null,
      "outputs": [
        {
          "output_type": "stream",
          "name": "stdout",
          "text": [
            "+------------------+------+--------------------+\n",
            "|        prediction| label|            features|\n",
            "+------------------+------+--------------------+\n",
            "|0.7274839329392907|1199.0|[18.0,4.222222222...|\n",
            "|0.9734769847088646|2999.0|[0.26315789473684...|\n",
            "|1.0473519219045138|2999.0|[0.26315789473684...|\n",
            "|1.0473519219045138|3299.0|[0.26315789473684...|\n",
            "| 3.928474472534834|2999.0|[0.26315789473684...|\n",
            "+------------------+------+--------------------+\n",
            "only showing top 5 rows\n",
            "\n",
            "Root Mean Squared Error (RMSE) on test data = 3726.85\n",
            "FMRegressionModel: uid=FMRegressor_b75cbdf53139, numFeatures=4, factorSize=8, fitLinear=true, fitIntercept=true\n"
          ]
        }
      ]
    },
    {
      "cell_type": "code",
      "source": [
        "from pyspark.ml import Pipeline\n",
        "from pyspark.ml.regression import GBTRegressor\n",
        "from pyspark.ml.feature import VectorIndexer\n",
        "from pyspark.ml.evaluation import RegressionEvaluator\n",
        "from pyspark.ml.feature import MinMaxScaler, StandardScaler\n",
        "\n",
        "\n",
        "featureScaler = StandardScaler(inputCol=\"features\", outputCol=\"scaledFeatures\").fit(new_df)\n",
        "\n",
        "train, test = new_df.randomSplit([0.75, 0.25], seed=45)\n",
        "\n",
        "# Train a GBT model.\n",
        "gbt = GBTRegressor(featuresCol=\"scaledFeatures\", maxIter=20)\n",
        "\n",
        "pipeline = Pipeline(stages=[featureScaler, gbt])\n",
        "# Train model.\n",
        "model = pipeline.fit(train)\n",
        "# Make predictions.\n",
        "predictions = model.transform(test)\n",
        "# Select example rows to display.\n",
        "predictions.select(\"prediction\", \"label\", \"features\").show(5)\n",
        "# Select (prediction, true label) and compute test error\n",
        "evaluator = RegressionEvaluator(\n",
        "    labelCol=\"label\", predictionCol=\"prediction\", metricName=\"rmse\")\n",
        "rmse = evaluator.evaluate(predictions)\n",
        "print(\"Root Mean Squared Error (RMSE) on test data = %g\" % rmse)\n",
        "\n",
        "gbtModel = model.stages[1]\n",
        "print(gbtModel)"
      ],
      "metadata": {
        "colab": {
          "base_uri": "https://localhost:8080/"
        },
        "id": "ky2oGKy1ZYI8",
        "outputId": "cd905f94-f2d4-49f3-eebd-c362a95c7449"
      },
      "execution_count": null,
      "outputs": [
        {
          "output_type": "stream",
          "name": "stdout",
          "text": [
            "+------------------+------+--------------------+\n",
            "|        prediction| label|            features|\n",
            "+------------------+------+--------------------+\n",
            "|2307.1264301278675|1999.0|[2.0,4.0,207.0,16.0]|\n",
            "|1689.3521242283853|1499.0|[13.375,1.3223973...|\n",
            "|1541.9659602751299|1199.0|[13.375,1.3223973...|\n",
            "| 1475.708210341232|1199.0|[94.0,4.14893617,...|\n",
            "|1586.5195642363935|1199.0|[126.0,3.86507936...|\n",
            "+------------------+------+--------------------+\n",
            "only showing top 5 rows\n",
            "\n",
            "Root Mean Squared Error (RMSE) on test data = 2215.25\n",
            "GBTRegressionModel: uid=GBTRegressor_406c8120b676, numTrees=20, numFeatures=4\n"
          ]
        }
      ]
    },
    {
      "cell_type": "code",
      "source": [
        "from pyspark.ml import Pipeline\n",
        "from pyspark.ml.regression import GBTRegressor\n",
        "from pyspark.ml.feature import VectorIndexer, PCA\n",
        "from pyspark.ml.evaluation import RegressionEvaluator\n",
        "from pyspark.ml.feature import MinMaxScaler, StandardScaler\n",
        "\n",
        "train, test = new_df.randomSplit([0.75, 0.25], seed=45)\n",
        "pca = PCA(k=2, inputCol=\"features\", outputCol=\"pcaFeatures\")\n",
        "# Train a GBT model.\n",
        "gbt = GBTRegressor(featuresCol=\"pcaFeatures\", maxIter=20)\n",
        "pipeline = Pipeline(stages=[pca, gbt])\n",
        "# Train model.\n",
        "model = pipeline.fit(train)\n",
        "# Make predictions.\n",
        "predictions = model.transform(test)\n",
        "# Select example rows to display.\n",
        "predictions.select(\"prediction\", \"label\", \"features\").show(5)\n",
        "# Select (prediction, true label) and compute test error\n",
        "evaluator = RegressionEvaluator(\n",
        "    labelCol=\"label\", predictionCol=\"prediction\", metricName=\"rmse\")\n",
        "rmse = evaluator.evaluate(predictions)\n",
        "print(\"Root Mean Squared Error (RMSE) on test data = %g\" % rmse)\n",
        "\n",
        "gbtModel = model.stages[1]\n",
        "print(gbtModel)"
      ],
      "metadata": {
        "id": "4zHS59MUlg1D"
      },
      "execution_count": null,
      "outputs": []
    },
    {
      "cell_type": "code",
      "source": [],
      "metadata": {
        "id": "VB0FnHnGZYLP"
      },
      "execution_count": null,
      "outputs": []
    },
    {
      "cell_type": "code",
      "source": [
        "from pyspark.ml.feature import VectorAssembler\n",
        "assembler = VectorAssembler(\n",
        "    inputCols=[col for col in dataDF.columns if col!=\"avg_rating\"],\n",
        "    outputCol='features')\n",
        "\n",
        "test_df = assembler.transform(dataDF)\n",
        "\n",
        "test_df = test_df.select(['features', 'avg_rating'])\n",
        "test_df.show(3, False)"
      ],
      "metadata": {
        "id": "oLwU4jDhVzuB"
      },
      "execution_count": null,
      "outputs": []
    },
    {
      "cell_type": "code",
      "source": [
        "from pyspark.ml.feature import Bucketizer\n",
        "\n",
        "splits = [0,1,2,3,4, 5]\n",
        "\n",
        "\n",
        "bucketizer = Bucketizer(splits=splits, inputCol=\"avg_rating\", outputCol=\"label\")\n",
        "\n",
        "# Transform original data into its bucket index.\n",
        "bucketedData = bucketizer.transform(test_df)\n",
        "\n",
        "print(\"Bucketizer output with %d buckets\" % (len(bucketizer.getSplits()) - 1))\n"
      ],
      "metadata": {
        "id": "JJY_qLrVqAfu"
      },
      "execution_count": null,
      "outputs": []
    },
    {
      "cell_type": "code",
      "source": [
        "bucketedData.show(20)"
      ],
      "metadata": {
        "id": "ltDaAvFLqkLj"
      },
      "execution_count": null,
      "outputs": []
    },
    {
      "cell_type": "code",
      "source": [],
      "metadata": {
        "id": "a_-jbJRCyHPT"
      },
      "execution_count": null,
      "outputs": []
    },
    {
      "cell_type": "code",
      "source": [
        "from pyspark.ml.classification import RandomForestClassifier\n",
        "from pyspark.ml.feature import IndexToString, StringIndexer, VectorIndexer\n",
        "from pyspark.ml.evaluation import MulticlassClassificationEvaluator"
      ],
      "metadata": {
        "id": "LazzvoyfyHWP"
      },
      "execution_count": null,
      "outputs": []
    },
    {
      "cell_type": "code",
      "source": [
        "labelIndexer = StringIndexer(inputCol=\"label\", outputCol=\"indexedLabel\").fit(bucketedData)\n",
        "labelIndexer"
      ],
      "metadata": {
        "id": "5BJAQ207xb8v"
      },
      "execution_count": null,
      "outputs": []
    },
    {
      "cell_type": "code",
      "source": [
        "featureIndexer =\\\n",
        "    VectorIndexer(inputCol=\"features\", outputCol=\"indexedFeatures\", maxCategories=4).fit(bucketedData)\n",
        "featureIndexer"
      ],
      "metadata": {
        "id": "efyN_5lFxevo"
      },
      "execution_count": null,
      "outputs": []
    },
    {
      "cell_type": "code",
      "source": [
        "(trainingData, testData) = bucketedData.randomSplit([0.7, 0.3])\n",
        "\n",
        "# Train a RandomForest model.\n",
        "rf = RandomForestClassifier(labelCol=\"indexedLabel\", featuresCol=\"indexedFeatures\", numTrees=10)\n",
        "\n",
        "# Convert indexed labels back to original labels.\n",
        "labelConverter = IndexToString(inputCol=\"prediction\", outputCol=\"predictedLabel\",\n",
        "                               labels=labelIndexer.labels)"
      ],
      "metadata": {
        "id": "0hBJB__HxoLN"
      },
      "execution_count": null,
      "outputs": []
    },
    {
      "cell_type": "code",
      "source": [
        "pipeline = Pipeline(stages=[labelIndexer, featureIndexer, rf, labelConverter])\n",
        "\n",
        "# Train model.  This also runs the indexers.\n",
        "model = pipeline.fit(trainingData)\n",
        "\n",
        "# Make predictions.\n",
        "predictions = model.transform(testData)\n",
        "\n",
        "# Select example rows to display.\n",
        "predictions.select(\"predictedLabel\", \"label\", \"features\").show(5)\n",
        "\n",
        "# Select (prediction, true label) and compute test error\n",
        "evaluator = MulticlassClassificationEvaluator(\n",
        "    labelCol=\"indexedLabel\", predictionCol=\"prediction\", metricName=\"accuracy\")\n",
        "accuracy = evaluator.evaluate(predictions)\n",
        "print(\"Test Error = %g\" % (1.0 - accuracy))\n",
        "\n",
        "rfModel = model.stages[2]\n",
        "print(rfModel)  # summary only"
      ],
      "metadata": {
        "id": "leNEMil5yKLP"
      },
      "execution_count": null,
      "outputs": []
    },
    {
      "cell_type": "code",
      "source": [
        "#Use Python to perform this classification task\n",
        "\n",
        "bucketedData.show(2)"
      ],
      "metadata": {
        "id": "Q8kaMN2cyKPB"
      },
      "execution_count": null,
      "outputs": []
    },
    {
      "cell_type": "code",
      "source": [
        "pandasDF = dataDF.toPandas()\n",
        "pandasDF.head(2)"
      ],
      "metadata": {
        "id": "biYyCGZnxoQY"
      },
      "execution_count": null,
      "outputs": []
    },
    {
      "cell_type": "code",
      "source": [
        "pandasDF['label'] = pd.cut(x=pandasDF['avg_rating'], bins=[-1, 1, 2, 3, 4, 5],\n",
        "                     labels=[1, 2, 3, 4,5])"
      ],
      "metadata": {
        "id": "96SwN8UmvdzP"
      },
      "execution_count": null,
      "outputs": []
    },
    {
      "cell_type": "code",
      "source": [
        "pandasDF.label.value_counts()"
      ],
      "metadata": {
        "id": "uOb97ZbQz4MM"
      },
      "execution_count": null,
      "outputs": []
    },
    {
      "cell_type": "code",
      "source": [],
      "metadata": {
        "id": "8VYvSU1810VL"
      },
      "execution_count": null,
      "outputs": []
    },
    {
      "cell_type": "code",
      "source": [
        "pandasDF.isna().sum()"
      ],
      "metadata": {
        "id": "yWZW9yrB1kfy"
      },
      "execution_count": null,
      "outputs": []
    },
    {
      "cell_type": "code",
      "source": [
        "pandasDF.to_csv('dataset.csv', index=None)"
      ],
      "metadata": {
        "id": "XAfSfXfC7uz6"
      },
      "execution_count": null,
      "outputs": []
    },
    {
      "cell_type": "code",
      "source": [
        "data_DF = pandasDF.drop('avg_rating', axis=1)"
      ],
      "metadata": {
        "id": "TPGZUkt32s4l"
      },
      "execution_count": null,
      "outputs": []
    },
    {
      "cell_type": "code",
      "source": [
        "data_DF.head()"
      ],
      "metadata": {
        "id": "QAE6oeFE23ay"
      },
      "execution_count": null,
      "outputs": []
    },
    {
      "cell_type": "code",
      "source": [
        "data_DF.iloc[:,-1]"
      ],
      "metadata": {
        "id": "NHFtt8a23We_"
      },
      "execution_count": null,
      "outputs": []
    },
    {
      "cell_type": "code",
      "source": [],
      "metadata": {
        "id": "GBXX7_WB7qU0"
      },
      "execution_count": null,
      "outputs": []
    },
    {
      "cell_type": "code",
      "source": [],
      "metadata": {
        "id": "FjAMJS5v7eqi"
      },
      "execution_count": null,
      "outputs": []
    },
    {
      "cell_type": "code",
      "source": [
        "from sklearn.linear_model import LogisticRegression\n",
        "from sklearn.preprocessing import StandardScaler\n",
        "from sklearn.model_selection import train_test_split, StratifiedShuffleSplit\n",
        "from sklearn.metrics import classification_report, confusion_matrix\n",
        "from sklearn.pipeline import Pipeline\n",
        "from sklearn.model_selection import GridSearchCV\n",
        "from sklearn.decomposition import PCA\n",
        "\n",
        "\n",
        "features_train, features_test, labels_train, labels_test = train_test_split(data_DF.iloc[:,:-1],\\\n",
        "                        data_DF.iloc[:,-1], stratify = data_DF.iloc[:,-1] , test_size=0.2, random_state=94)\n",
        "\n",
        "print(len(features_train) , len(features_test))\n",
        "\n",
        "sss = StratifiedShuffleSplit(n_splits=3, test_size=0.20, random_state=34)\n",
        "scaler = StandardScaler()\n",
        "clf_lr = LogisticRegression()\n",
        "pca = PCA()\n",
        "pipeline = Pipeline(steps = [ (\"log_reg\",clf_lr)])\n",
        "param_grid = {\"log_reg__C\":[ 0.1, 1, 10], \"log_reg__max_iter\":[500,1000,5000]}\n",
        "\n",
        "\n",
        "gridlr = GridSearchCV(pipeline, param_grid, verbose = 0, cv = sss, scoring = 'f1_weighted', n_jobs=4, return_train_score=True)\n",
        "\n",
        "gridlr.fit(features_train, labels_train)\n",
        "\n",
        "predictions = gridlr.predict(features_test)\n",
        "\n",
        "print (\"F1 with grid search: {:.2f}\".format((gridlr.score(features_test, labels_test)*100)))\n",
        "\n",
        "print(classification_report(labels_test, predictions))\n",
        "print( confusion_matrix(labels_test, predictions))"
      ],
      "metadata": {
        "id": "JIGkRfFrz6a9"
      },
      "execution_count": null,
      "outputs": []
    },
    {
      "cell_type": "code",
      "source": [
        "from sklearn.ensemble import ExtraTreesClassifier"
      ],
      "metadata": {
        "id": "EqpEOBCH4P7I"
      },
      "execution_count": null,
      "outputs": []
    },
    {
      "cell_type": "code",
      "source": [
        "ensemble = ExtraTreesClassifier(n_estimators=100, random_state=12)\n",
        "ensemble.fit(features_train, labels_train)\n",
        "\n",
        "predictions = ensemble.predict(features_test)\n"
      ],
      "metadata": {
        "id": "UgHC5AlT8-MS"
      },
      "execution_count": null,
      "outputs": []
    },
    {
      "cell_type": "code",
      "source": [
        "ensemble.score(features_test, labels_test)"
      ],
      "metadata": {
        "id": "P5BFE5D_9FPl"
      },
      "execution_count": null,
      "outputs": []
    },
    {
      "cell_type": "code",
      "source": [
        "\n",
        "print(classification_report(labels_test, predictions))"
      ],
      "metadata": {
        "id": "d5r3_V_Y9L4F"
      },
      "execution_count": null,
      "outputs": []
    },
    {
      "cell_type": "code",
      "source": [
        "from sklearn.ensemble import GradientBoostingClassifier\n",
        "clf = GradientBoostingClassifier(n_estimators=100, learning_rate=1.0,  max_depth=5, random_state=34)\n",
        "clf.fit(features_train, labels_train)\n",
        "\n",
        "predictions = clf.predict(features_test)\n"
      ],
      "metadata": {
        "id": "DbcYFyY79pxd"
      },
      "execution_count": null,
      "outputs": []
    },
    {
      "cell_type": "code",
      "source": [
        "clf.score(features_test, labels_test)"
      ],
      "metadata": {
        "id": "KIGfXwc8-Xfq"
      },
      "execution_count": null,
      "outputs": []
    },
    {
      "cell_type": "code",
      "source": [
        "\n",
        "print(classification_report(labels_test, predictions))"
      ],
      "metadata": {
        "id": "mgf_kz_X-Y6J"
      },
      "execution_count": null,
      "outputs": []
    },
    {
      "cell_type": "code",
      "source": [
        "from sklearn.neural_network import MLPClassifier\n",
        "from sklearn.datasets import make_classification\n",
        "from sklearn.model_selection import train_test_split\n",
        "\n",
        "nn = MLPClassifier(random_state=1, learning_rate='adaptive',max_iter=300, verbose=True ).fit(features_train, labels_train)\n",
        "predictions = nn.predict(features_test)\n",
        "\n"
      ],
      "metadata": {
        "id": "cYrqi2KM-sJZ"
      },
      "execution_count": null,
      "outputs": []
    },
    {
      "cell_type": "code",
      "source": [
        "\n",
        "nn.score(features_test, labels_test)"
      ],
      "metadata": {
        "id": "i-sWihTn_RZv"
      },
      "execution_count": null,
      "outputs": []
    },
    {
      "cell_type": "code",
      "source": [
        "predictions = nn.predict(features_test)"
      ],
      "metadata": {
        "id": "RwqNbAa8_JA7"
      },
      "execution_count": null,
      "outputs": []
    },
    {
      "cell_type": "code",
      "source": [
        "predictions"
      ],
      "metadata": {
        "id": "yyFUz_FlAC2k"
      },
      "execution_count": null,
      "outputs": []
    },
    {
      "cell_type": "code",
      "source": [
        "\n",
        "print(classification_report(labels_test, predictions))"
      ],
      "metadata": {
        "id": "3HAxiOrV_VJg"
      },
      "execution_count": null,
      "outputs": []
    },
    {
      "cell_type": "code",
      "source": [],
      "metadata": {
        "id": "0P3TLlUC_k9d"
      },
      "execution_count": null,
      "outputs": []
    }
  ]
}