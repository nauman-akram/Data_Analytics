{
 "cells": [
  {
   "cell_type": "markdown",
   "metadata": {},
   "source": [
    "# Part I. ETL Pipeline for Pre-Processing the Files"
   ]
  },
  {
   "cell_type": "markdown",
   "metadata": {},
   "source": [
    "#### Import Python packages "
   ]
  },
  {
   "cell_type": "code",
   "execution_count": 1,
   "metadata": {},
   "outputs": [],
   "source": [
    "# Import Python packages \n",
    "import pandas as pd\n",
    "import os\n",
    "import cassandra"
   ]
  },
  {
   "cell_type": "markdown",
   "metadata": {},
   "source": [
    "#### Creating list of filepaths to process original event csv data files"
   ]
  },
  {
   "cell_type": "code",
   "execution_count": 34,
   "metadata": {},
   "outputs": [
    {
     "name": "stdout",
     "output_type": "stream",
     "text": [
      "30\n"
     ]
    },
    {
     "data": {
      "text/plain": [
       "'youtube_event_data/2018-11-01-events.csv'"
      ]
     },
     "execution_count": 34,
     "metadata": {},
     "output_type": "execute_result"
    }
   ],
   "source": [
    "# Write your code here\n",
    "all_csv_paths = list()\n",
    "for sb, dr, files in os.walk(\"youtube_event_data/\"):\n",
    "    for file in files:\n",
    "        if file.endswith(\".csv\"):\n",
    "            all_csv_paths.append(os.path.join(sb,file))\n",
    "            \n",
    "print(len(all_csv_paths))\n",
    "all_csv_paths[0]"
   ]
  },
  {
   "cell_type": "markdown",
   "metadata": {},
   "source": [
    "#### Processing the CSV files to create the new `youtube_events_data_new.csv` file"
   ]
  },
  {
   "cell_type": "code",
   "execution_count": 76,
   "metadata": {},
   "outputs": [
    {
     "data": {
      "text/html": [
       "<div>\n",
       "<style scoped>\n",
       "    .dataframe tbody tr th:only-of-type {\n",
       "        vertical-align: middle;\n",
       "    }\n",
       "\n",
       "    .dataframe tbody tr th {\n",
       "        vertical-align: top;\n",
       "    }\n",
       "\n",
       "    .dataframe thead th {\n",
       "        text-align: right;\n",
       "    }\n",
       "</style>\n",
       "<table border=\"1\" class=\"dataframe\">\n",
       "  <thead>\n",
       "    <tr style=\"text-align: right;\">\n",
       "      <th></th>\n",
       "      <th>youtuber</th>\n",
       "      <th>auth</th>\n",
       "      <th>firstName</th>\n",
       "      <th>gender</th>\n",
       "      <th>itemInSession</th>\n",
       "      <th>lastName</th>\n",
       "      <th>length</th>\n",
       "      <th>level</th>\n",
       "      <th>location</th>\n",
       "      <th>method</th>\n",
       "      <th>page</th>\n",
       "      <th>registration</th>\n",
       "      <th>sessionId</th>\n",
       "      <th>video</th>\n",
       "      <th>status</th>\n",
       "      <th>ts</th>\n",
       "      <th>userId</th>\n",
       "    </tr>\n",
       "  </thead>\n",
       "  <tbody>\n",
       "    <tr>\n",
       "      <th>0</th>\n",
       "      <td>NaN</td>\n",
       "      <td>Logged In</td>\n",
       "      <td>Walter</td>\n",
       "      <td>M</td>\n",
       "      <td>0</td>\n",
       "      <td>Frye</td>\n",
       "      <td>NaN</td>\n",
       "      <td>free</td>\n",
       "      <td>San Francisco-Oakland-Hayward, CA</td>\n",
       "      <td>GET</td>\n",
       "      <td>Home</td>\n",
       "      <td>1.540920e+12</td>\n",
       "      <td>38</td>\n",
       "      <td>NaN</td>\n",
       "      <td>200</td>\n",
       "      <td>1.541110e+12</td>\n",
       "      <td>39.0</td>\n",
       "    </tr>\n",
       "    <tr>\n",
       "      <th>1</th>\n",
       "      <td>NaN</td>\n",
       "      <td>Logged In</td>\n",
       "      <td>Kaylee</td>\n",
       "      <td>F</td>\n",
       "      <td>0</td>\n",
       "      <td>Summers</td>\n",
       "      <td>NaN</td>\n",
       "      <td>free</td>\n",
       "      <td>Phoenix-Mesa-Scottsdale, AZ</td>\n",
       "      <td>GET</td>\n",
       "      <td>Home</td>\n",
       "      <td>1.540340e+12</td>\n",
       "      <td>139</td>\n",
       "      <td>NaN</td>\n",
       "      <td>200</td>\n",
       "      <td>1.541110e+12</td>\n",
       "      <td>8.0</td>\n",
       "    </tr>\n",
       "    <tr>\n",
       "      <th>2</th>\n",
       "      <td>Des'ree</td>\n",
       "      <td>Logged In</td>\n",
       "      <td>Kaylee</td>\n",
       "      <td>F</td>\n",
       "      <td>1</td>\n",
       "      <td>Summers</td>\n",
       "      <td>246.30812</td>\n",
       "      <td>free</td>\n",
       "      <td>Phoenix-Mesa-Scottsdale, AZ</td>\n",
       "      <td>PUT</td>\n",
       "      <td>NextVideo</td>\n",
       "      <td>1.540340e+12</td>\n",
       "      <td>139</td>\n",
       "      <td>You Gotta Be</td>\n",
       "      <td>200</td>\n",
       "      <td>1.541110e+12</td>\n",
       "      <td>8.0</td>\n",
       "    </tr>\n",
       "    <tr>\n",
       "      <th>3</th>\n",
       "      <td>NaN</td>\n",
       "      <td>Logged In</td>\n",
       "      <td>Kaylee</td>\n",
       "      <td>F</td>\n",
       "      <td>2</td>\n",
       "      <td>Summers</td>\n",
       "      <td>NaN</td>\n",
       "      <td>free</td>\n",
       "      <td>Phoenix-Mesa-Scottsdale, AZ</td>\n",
       "      <td>GET</td>\n",
       "      <td>Upgrade</td>\n",
       "      <td>1.540340e+12</td>\n",
       "      <td>139</td>\n",
       "      <td>NaN</td>\n",
       "      <td>200</td>\n",
       "      <td>1.541110e+12</td>\n",
       "      <td>8.0</td>\n",
       "    </tr>\n",
       "    <tr>\n",
       "      <th>4</th>\n",
       "      <td>Mr Oizo</td>\n",
       "      <td>Logged In</td>\n",
       "      <td>Kaylee</td>\n",
       "      <td>F</td>\n",
       "      <td>3</td>\n",
       "      <td>Summers</td>\n",
       "      <td>144.03873</td>\n",
       "      <td>free</td>\n",
       "      <td>Phoenix-Mesa-Scottsdale, AZ</td>\n",
       "      <td>PUT</td>\n",
       "      <td>NextVideo</td>\n",
       "      <td>1.540340e+12</td>\n",
       "      <td>139</td>\n",
       "      <td>Flat 55</td>\n",
       "      <td>200</td>\n",
       "      <td>1.541110e+12</td>\n",
       "      <td>8.0</td>\n",
       "    </tr>\n",
       "    <tr>\n",
       "      <th>5</th>\n",
       "      <td>Tamba Trio</td>\n",
       "      <td>Logged In</td>\n",
       "      <td>Kaylee</td>\n",
       "      <td>F</td>\n",
       "      <td>4</td>\n",
       "      <td>Summers</td>\n",
       "      <td>177.18812</td>\n",
       "      <td>free</td>\n",
       "      <td>Phoenix-Mesa-Scottsdale, AZ</td>\n",
       "      <td>PUT</td>\n",
       "      <td>NextVideo</td>\n",
       "      <td>1.540340e+12</td>\n",
       "      <td>139</td>\n",
       "      <td>Quem Quiser Encontrar O Amor</td>\n",
       "      <td>200</td>\n",
       "      <td>1.541110e+12</td>\n",
       "      <td>8.0</td>\n",
       "    </tr>\n",
       "    <tr>\n",
       "      <th>6</th>\n",
       "      <td>The Mars Volta</td>\n",
       "      <td>Logged In</td>\n",
       "      <td>Kaylee</td>\n",
       "      <td>F</td>\n",
       "      <td>5</td>\n",
       "      <td>Summers</td>\n",
       "      <td>380.42077</td>\n",
       "      <td>free</td>\n",
       "      <td>Phoenix-Mesa-Scottsdale, AZ</td>\n",
       "      <td>PUT</td>\n",
       "      <td>NextVideo</td>\n",
       "      <td>1.540340e+12</td>\n",
       "      <td>139</td>\n",
       "      <td>Eriatarka</td>\n",
       "      <td>200</td>\n",
       "      <td>1.541110e+12</td>\n",
       "      <td>8.0</td>\n",
       "    </tr>\n",
       "    <tr>\n",
       "      <th>7</th>\n",
       "      <td>Infected Mushroom</td>\n",
       "      <td>Logged In</td>\n",
       "      <td>Kaylee</td>\n",
       "      <td>F</td>\n",
       "      <td>6</td>\n",
       "      <td>Summers</td>\n",
       "      <td>440.26730</td>\n",
       "      <td>free</td>\n",
       "      <td>Phoenix-Mesa-Scottsdale, AZ</td>\n",
       "      <td>PUT</td>\n",
       "      <td>NextVideo</td>\n",
       "      <td>1.540340e+12</td>\n",
       "      <td>139</td>\n",
       "      <td>Becoming Insane</td>\n",
       "      <td>200</td>\n",
       "      <td>1.541110e+12</td>\n",
       "      <td>8.0</td>\n",
       "    </tr>\n",
       "    <tr>\n",
       "      <th>8</th>\n",
       "      <td>Blue October / Imogen Heap</td>\n",
       "      <td>Logged In</td>\n",
       "      <td>Kaylee</td>\n",
       "      <td>F</td>\n",
       "      <td>7</td>\n",
       "      <td>Summers</td>\n",
       "      <td>241.39710</td>\n",
       "      <td>free</td>\n",
       "      <td>Phoenix-Mesa-Scottsdale, AZ</td>\n",
       "      <td>PUT</td>\n",
       "      <td>NextVideo</td>\n",
       "      <td>1.540340e+12</td>\n",
       "      <td>139</td>\n",
       "      <td>Congratulations</td>\n",
       "      <td>200</td>\n",
       "      <td>1.541110e+12</td>\n",
       "      <td>8.0</td>\n",
       "    </tr>\n",
       "    <tr>\n",
       "      <th>9</th>\n",
       "      <td>Girl Talk</td>\n",
       "      <td>Logged In</td>\n",
       "      <td>Kaylee</td>\n",
       "      <td>F</td>\n",
       "      <td>8</td>\n",
       "      <td>Summers</td>\n",
       "      <td>160.15628</td>\n",
       "      <td>free</td>\n",
       "      <td>Phoenix-Mesa-Scottsdale, AZ</td>\n",
       "      <td>PUT</td>\n",
       "      <td>NextVideo</td>\n",
       "      <td>1.540340e+12</td>\n",
       "      <td>139</td>\n",
       "      <td>Once again</td>\n",
       "      <td>200</td>\n",
       "      <td>1.541110e+12</td>\n",
       "      <td>8.0</td>\n",
       "    </tr>\n",
       "  </tbody>\n",
       "</table>\n",
       "</div>"
      ],
      "text/plain": [
       "                     youtuber       auth firstName gender  itemInSession  \\\n",
       "0                         NaN  Logged In    Walter      M              0   \n",
       "1                         NaN  Logged In    Kaylee      F              0   \n",
       "2                     Des'ree  Logged In    Kaylee      F              1   \n",
       "3                         NaN  Logged In    Kaylee      F              2   \n",
       "4                     Mr Oizo  Logged In    Kaylee      F              3   \n",
       "5                  Tamba Trio  Logged In    Kaylee      F              4   \n",
       "6              The Mars Volta  Logged In    Kaylee      F              5   \n",
       "7           Infected Mushroom  Logged In    Kaylee      F              6   \n",
       "8  Blue October / Imogen Heap  Logged In    Kaylee      F              7   \n",
       "9                   Girl Talk  Logged In    Kaylee      F              8   \n",
       "\n",
       "  lastName     length level                           location method  \\\n",
       "0     Frye        NaN  free  San Francisco-Oakland-Hayward, CA    GET   \n",
       "1  Summers        NaN  free        Phoenix-Mesa-Scottsdale, AZ    GET   \n",
       "2  Summers  246.30812  free        Phoenix-Mesa-Scottsdale, AZ    PUT   \n",
       "3  Summers        NaN  free        Phoenix-Mesa-Scottsdale, AZ    GET   \n",
       "4  Summers  144.03873  free        Phoenix-Mesa-Scottsdale, AZ    PUT   \n",
       "5  Summers  177.18812  free        Phoenix-Mesa-Scottsdale, AZ    PUT   \n",
       "6  Summers  380.42077  free        Phoenix-Mesa-Scottsdale, AZ    PUT   \n",
       "7  Summers  440.26730  free        Phoenix-Mesa-Scottsdale, AZ    PUT   \n",
       "8  Summers  241.39710  free        Phoenix-Mesa-Scottsdale, AZ    PUT   \n",
       "9  Summers  160.15628  free        Phoenix-Mesa-Scottsdale, AZ    PUT   \n",
       "\n",
       "        page  registration  sessionId                         video  status  \\\n",
       "0       Home  1.540920e+12         38                           NaN     200   \n",
       "1       Home  1.540340e+12        139                           NaN     200   \n",
       "2  NextVideo  1.540340e+12        139                  You Gotta Be     200   \n",
       "3    Upgrade  1.540340e+12        139                           NaN     200   \n",
       "4  NextVideo  1.540340e+12        139                       Flat 55     200   \n",
       "5  NextVideo  1.540340e+12        139  Quem Quiser Encontrar O Amor     200   \n",
       "6  NextVideo  1.540340e+12        139                     Eriatarka     200   \n",
       "7  NextVideo  1.540340e+12        139               Becoming Insane     200   \n",
       "8  NextVideo  1.540340e+12        139               Congratulations     200   \n",
       "9  NextVideo  1.540340e+12        139                    Once again     200   \n",
       "\n",
       "             ts  userId  \n",
       "0  1.541110e+12    39.0  \n",
       "1  1.541110e+12     8.0  \n",
       "2  1.541110e+12     8.0  \n",
       "3  1.541110e+12     8.0  \n",
       "4  1.541110e+12     8.0  \n",
       "5  1.541110e+12     8.0  \n",
       "6  1.541110e+12     8.0  \n",
       "7  1.541110e+12     8.0  \n",
       "8  1.541110e+12     8.0  \n",
       "9  1.541110e+12     8.0  "
      ]
     },
     "execution_count": 76,
     "metadata": {},
     "output_type": "execute_result"
    }
   ],
   "source": [
    "# Write your code here\n",
    "youtube_events_data_new = pd.DataFrame()\n",
    "\n",
    "for file in all_csv_paths[0:]:\n",
    "    df = pd.read_csv(file)\n",
    "    youtube_events_data_new = youtube_events_data_new.append(df)\n",
    "\n",
    "youtube_events_data_new.head(10)"
   ]
  },
  {
   "cell_type": "code",
   "execution_count": 79,
   "metadata": {},
   "outputs": [
    {
     "data": {
      "text/plain": [
       "8056"
      ]
     },
     "execution_count": 79,
     "metadata": {},
     "output_type": "execute_result"
    }
   ],
   "source": [
    "# check the number of rows in your new csv file\n",
    "youtube_events_data_new.to_csv(\"youtube_events_data_new.csv\")\n",
    "len(youtube_events_data_new)"
   ]
  },
  {
   "cell_type": "markdown",
   "metadata": {},
   "source": [
    "# Part II. Apache Cassandra coding portion of the project. "
   ]
  },
  {
   "cell_type": "markdown",
   "metadata": {},
   "source": [
    "## The new CSV file titled `youtube_events_data_new.csv`, The event_datafile_new.csv contains the following columns: \n",
    "\n",
    "- youtuber \n",
    "- video\n",
    "- length\n",
    "- sessionId\n",
    "- ItemInSession\n",
    "- firstName \n",
    "- lastName\n",
    "- userId\n",
    "\n",
    "\n",
    ".\n",
    ".\n",
    ".\n",
    "\n",
    "\n",
    "The image below is a screenshot of what the denormalized data should appear like in the <font color=red>**youtube_events_data_new.csv**</font> after the code above is run:<br>\n",
    "\n",
    "<img src=\"images/1.PNG\"> "
   ]
  },
  {
   "cell_type": "code",
   "execution_count": 81,
   "metadata": {},
   "outputs": [
    {
     "data": {
      "text/html": [
       "<div>\n",
       "<style scoped>\n",
       "    .dataframe tbody tr th:only-of-type {\n",
       "        vertical-align: middle;\n",
       "    }\n",
       "\n",
       "    .dataframe tbody tr th {\n",
       "        vertical-align: top;\n",
       "    }\n",
       "\n",
       "    .dataframe thead th {\n",
       "        text-align: right;\n",
       "    }\n",
       "</style>\n",
       "<table border=\"1\" class=\"dataframe\">\n",
       "  <thead>\n",
       "    <tr style=\"text-align: right;\">\n",
       "      <th></th>\n",
       "      <th>youtuber</th>\n",
       "      <th>video</th>\n",
       "      <th>length</th>\n",
       "      <th>sessionId</th>\n",
       "      <th>itemInSession</th>\n",
       "      <th>firstName</th>\n",
       "      <th>lastName</th>\n",
       "      <th>userId</th>\n",
       "    </tr>\n",
       "  </thead>\n",
       "  <tbody>\n",
       "    <tr>\n",
       "      <th>0</th>\n",
       "      <td>NaN</td>\n",
       "      <td>NaN</td>\n",
       "      <td>NaN</td>\n",
       "      <td>38</td>\n",
       "      <td>0</td>\n",
       "      <td>Walter</td>\n",
       "      <td>Frye</td>\n",
       "      <td>39.0</td>\n",
       "    </tr>\n",
       "    <tr>\n",
       "      <th>1</th>\n",
       "      <td>NaN</td>\n",
       "      <td>NaN</td>\n",
       "      <td>NaN</td>\n",
       "      <td>139</td>\n",
       "      <td>0</td>\n",
       "      <td>Kaylee</td>\n",
       "      <td>Summers</td>\n",
       "      <td>8.0</td>\n",
       "    </tr>\n",
       "    <tr>\n",
       "      <th>2</th>\n",
       "      <td>Des'ree</td>\n",
       "      <td>You Gotta Be</td>\n",
       "      <td>246.30812</td>\n",
       "      <td>139</td>\n",
       "      <td>1</td>\n",
       "      <td>Kaylee</td>\n",
       "      <td>Summers</td>\n",
       "      <td>8.0</td>\n",
       "    </tr>\n",
       "    <tr>\n",
       "      <th>3</th>\n",
       "      <td>NaN</td>\n",
       "      <td>NaN</td>\n",
       "      <td>NaN</td>\n",
       "      <td>139</td>\n",
       "      <td>2</td>\n",
       "      <td>Kaylee</td>\n",
       "      <td>Summers</td>\n",
       "      <td>8.0</td>\n",
       "    </tr>\n",
       "    <tr>\n",
       "      <th>4</th>\n",
       "      <td>Mr Oizo</td>\n",
       "      <td>Flat 55</td>\n",
       "      <td>144.03873</td>\n",
       "      <td>139</td>\n",
       "      <td>3</td>\n",
       "      <td>Kaylee</td>\n",
       "      <td>Summers</td>\n",
       "      <td>8.0</td>\n",
       "    </tr>\n",
       "  </tbody>\n",
       "</table>\n",
       "</div>"
      ],
      "text/plain": [
       "  youtuber         video     length  sessionId  itemInSession firstName  \\\n",
       "0      NaN           NaN        NaN         38              0    Walter   \n",
       "1      NaN           NaN        NaN        139              0    Kaylee   \n",
       "2  Des'ree  You Gotta Be  246.30812        139              1    Kaylee   \n",
       "3      NaN           NaN        NaN        139              2    Kaylee   \n",
       "4  Mr Oizo       Flat 55  144.03873        139              3    Kaylee   \n",
       "\n",
       "  lastName  userId  \n",
       "0     Frye    39.0  \n",
       "1  Summers     8.0  \n",
       "2  Summers     8.0  \n",
       "3  Summers     8.0  \n",
       "4  Summers     8.0  "
      ]
     },
     "execution_count": 81,
     "metadata": {},
     "output_type": "execute_result"
    }
   ],
   "source": [
    "cols = ['youtuber', 'video', 'length', 'sessionId', 'itemInSession', 'firstName', 'lastName', 'userId']\n",
    "event_data = youtube_events_data_new[cols]\n",
    "event_data.head()"
   ]
  },
  {
   "cell_type": "code",
   "execution_count": 83,
   "metadata": {
    "scrolled": true
   },
   "outputs": [
    {
     "name": "stderr",
     "output_type": "stream",
     "text": [
      "C:\\Users\\Nauman\\Anaconda3\\lib\\site-packages\\ipykernel_launcher.py:1: SettingWithCopyWarning: \n",
      "A value is trying to be set on a copy of a slice from a DataFrame\n",
      "\n",
      "See the caveats in the documentation: http://pandas.pydata.org/pandas-docs/stable/user_guide/indexing.html#returning-a-view-versus-a-copy\n",
      "  \"\"\"Entry point for launching an IPython kernel.\n"
     ]
    },
    {
     "data": {
      "text/html": [
       "<div>\n",
       "<style scoped>\n",
       "    .dataframe tbody tr th:only-of-type {\n",
       "        vertical-align: middle;\n",
       "    }\n",
       "\n",
       "    .dataframe tbody tr th {\n",
       "        vertical-align: top;\n",
       "    }\n",
       "\n",
       "    .dataframe thead th {\n",
       "        text-align: right;\n",
       "    }\n",
       "</style>\n",
       "<table border=\"1\" class=\"dataframe\">\n",
       "  <thead>\n",
       "    <tr style=\"text-align: right;\">\n",
       "      <th></th>\n",
       "      <th>youtuber</th>\n",
       "      <th>video</th>\n",
       "      <th>length</th>\n",
       "      <th>sessionId</th>\n",
       "      <th>itemInSession</th>\n",
       "      <th>firstName</th>\n",
       "      <th>lastName</th>\n",
       "      <th>userId</th>\n",
       "    </tr>\n",
       "  </thead>\n",
       "  <tbody>\n",
       "    <tr>\n",
       "      <th>2</th>\n",
       "      <td>Des'ree</td>\n",
       "      <td>You Gotta Be</td>\n",
       "      <td>246.30812</td>\n",
       "      <td>139</td>\n",
       "      <td>1</td>\n",
       "      <td>Kaylee</td>\n",
       "      <td>Summers</td>\n",
       "      <td>8.0</td>\n",
       "    </tr>\n",
       "    <tr>\n",
       "      <th>4</th>\n",
       "      <td>Mr Oizo</td>\n",
       "      <td>Flat 55</td>\n",
       "      <td>144.03873</td>\n",
       "      <td>139</td>\n",
       "      <td>3</td>\n",
       "      <td>Kaylee</td>\n",
       "      <td>Summers</td>\n",
       "      <td>8.0</td>\n",
       "    </tr>\n",
       "    <tr>\n",
       "      <th>5</th>\n",
       "      <td>Tamba Trio</td>\n",
       "      <td>Quem Quiser Encontrar O Amor</td>\n",
       "      <td>177.18812</td>\n",
       "      <td>139</td>\n",
       "      <td>4</td>\n",
       "      <td>Kaylee</td>\n",
       "      <td>Summers</td>\n",
       "      <td>8.0</td>\n",
       "    </tr>\n",
       "    <tr>\n",
       "      <th>6</th>\n",
       "      <td>The Mars Volta</td>\n",
       "      <td>Eriatarka</td>\n",
       "      <td>380.42077</td>\n",
       "      <td>139</td>\n",
       "      <td>5</td>\n",
       "      <td>Kaylee</td>\n",
       "      <td>Summers</td>\n",
       "      <td>8.0</td>\n",
       "    </tr>\n",
       "    <tr>\n",
       "      <th>7</th>\n",
       "      <td>Infected Mushroom</td>\n",
       "      <td>Becoming Insane</td>\n",
       "      <td>440.26730</td>\n",
       "      <td>139</td>\n",
       "      <td>6</td>\n",
       "      <td>Kaylee</td>\n",
       "      <td>Summers</td>\n",
       "      <td>8.0</td>\n",
       "    </tr>\n",
       "  </tbody>\n",
       "</table>\n",
       "</div>"
      ],
      "text/plain": [
       "            youtuber                         video     length  sessionId  \\\n",
       "2            Des'ree                  You Gotta Be  246.30812        139   \n",
       "4            Mr Oizo                       Flat 55  144.03873        139   \n",
       "5         Tamba Trio  Quem Quiser Encontrar O Amor  177.18812        139   \n",
       "6     The Mars Volta                     Eriatarka  380.42077        139   \n",
       "7  Infected Mushroom               Becoming Insane  440.26730        139   \n",
       "\n",
       "   itemInSession firstName lastName  userId  \n",
       "2              1    Kaylee  Summers     8.0  \n",
       "4              3    Kaylee  Summers     8.0  \n",
       "5              4    Kaylee  Summers     8.0  \n",
       "6              5    Kaylee  Summers     8.0  \n",
       "7              6    Kaylee  Summers     8.0  "
      ]
     },
     "execution_count": 83,
     "metadata": {},
     "output_type": "execute_result"
    }
   ],
   "source": [
    "event_data.dropna(axis=0, inplace=True)\n",
    "event_data.head()"
   ]
  },
  {
   "cell_type": "code",
   "execution_count": 86,
   "metadata": {},
   "outputs": [
    {
     "name": "stdout",
     "output_type": "stream",
     "text": [
      "(6820, 8)\n"
     ]
    }
   ],
   "source": [
    "print(event_data.shape)\n",
    "event_data.to_csv(\"event_data_file.csv\")"
   ]
  },
  {
   "cell_type": "code",
   "execution_count": 3,
   "metadata": {},
   "outputs": [
    {
     "data": {
      "text/html": [
       "<div>\n",
       "<style scoped>\n",
       "    .dataframe tbody tr th:only-of-type {\n",
       "        vertical-align: middle;\n",
       "    }\n",
       "\n",
       "    .dataframe tbody tr th {\n",
       "        vertical-align: top;\n",
       "    }\n",
       "\n",
       "    .dataframe thead th {\n",
       "        text-align: right;\n",
       "    }\n",
       "</style>\n",
       "<table border=\"1\" class=\"dataframe\">\n",
       "  <thead>\n",
       "    <tr style=\"text-align: right;\">\n",
       "      <th></th>\n",
       "      <th>youtuber</th>\n",
       "      <th>video</th>\n",
       "      <th>length</th>\n",
       "      <th>sessionId</th>\n",
       "      <th>itemInSession</th>\n",
       "      <th>firstName</th>\n",
       "      <th>lastName</th>\n",
       "      <th>userId</th>\n",
       "    </tr>\n",
       "  </thead>\n",
       "  <tbody>\n",
       "    <tr>\n",
       "      <th>2</th>\n",
       "      <td>Des'ree</td>\n",
       "      <td>You Gotta Be</td>\n",
       "      <td>246.30812</td>\n",
       "      <td>139</td>\n",
       "      <td>1</td>\n",
       "      <td>Kaylee</td>\n",
       "      <td>Summers</td>\n",
       "      <td>8.0</td>\n",
       "    </tr>\n",
       "    <tr>\n",
       "      <th>4</th>\n",
       "      <td>Mr Oizo</td>\n",
       "      <td>Flat 55</td>\n",
       "      <td>144.03873</td>\n",
       "      <td>139</td>\n",
       "      <td>3</td>\n",
       "      <td>Kaylee</td>\n",
       "      <td>Summers</td>\n",
       "      <td>8.0</td>\n",
       "    </tr>\n",
       "    <tr>\n",
       "      <th>5</th>\n",
       "      <td>Tamba Trio</td>\n",
       "      <td>Quem Quiser Encontrar O Amor</td>\n",
       "      <td>177.18812</td>\n",
       "      <td>139</td>\n",
       "      <td>4</td>\n",
       "      <td>Kaylee</td>\n",
       "      <td>Summers</td>\n",
       "      <td>8.0</td>\n",
       "    </tr>\n",
       "    <tr>\n",
       "      <th>6</th>\n",
       "      <td>The Mars Volta</td>\n",
       "      <td>Eriatarka</td>\n",
       "      <td>380.42077</td>\n",
       "      <td>139</td>\n",
       "      <td>5</td>\n",
       "      <td>Kaylee</td>\n",
       "      <td>Summers</td>\n",
       "      <td>8.0</td>\n",
       "    </tr>\n",
       "    <tr>\n",
       "      <th>7</th>\n",
       "      <td>Infected Mushroom</td>\n",
       "      <td>Becoming Insane</td>\n",
       "      <td>440.26730</td>\n",
       "      <td>139</td>\n",
       "      <td>6</td>\n",
       "      <td>Kaylee</td>\n",
       "      <td>Summers</td>\n",
       "      <td>8.0</td>\n",
       "    </tr>\n",
       "  </tbody>\n",
       "</table>\n",
       "</div>"
      ],
      "text/plain": [
       "            youtuber                         video     length  sessionId  \\\n",
       "2            Des'ree                  You Gotta Be  246.30812        139   \n",
       "4            Mr Oizo                       Flat 55  144.03873        139   \n",
       "5         Tamba Trio  Quem Quiser Encontrar O Amor  177.18812        139   \n",
       "6     The Mars Volta                     Eriatarka  380.42077        139   \n",
       "7  Infected Mushroom               Becoming Insane  440.26730        139   \n",
       "\n",
       "   itemInSession firstName lastName  userId  \n",
       "2              1    Kaylee  Summers     8.0  \n",
       "4              3    Kaylee  Summers     8.0  \n",
       "5              4    Kaylee  Summers     8.0  \n",
       "6              5    Kaylee  Summers     8.0  \n",
       "7              6    Kaylee  Summers     8.0  "
      ]
     },
     "execution_count": 3,
     "metadata": {},
     "output_type": "execute_result"
    }
   ],
   "source": [
    "event_data = pd.read_csv(\"event_data_file.csv\", index_col=0)\n",
    "event_data.head()"
   ]
  },
  {
   "cell_type": "markdown",
   "metadata": {},
   "source": [
    "#### Creating a Cluster"
   ]
  },
  {
   "cell_type": "code",
   "execution_count": 5,
   "metadata": {},
   "outputs": [],
   "source": [
    "# Create a Cassandra Cluster\n",
    "from cassandra.cluster import Cluster\n",
    "try:\n",
    "    cluster = Cluster(['127.0.0.1'])\n",
    "    session = cluster.connect()\n",
    "except Exception as e:\n",
    "    print(e)\n",
    "    "
   ]
  },
  {
   "cell_type": "markdown",
   "metadata": {},
   "source": [
    "#### Create Keyspace `youtubedb`"
   ]
  },
  {
   "cell_type": "code",
   "execution_count": 6,
   "metadata": {},
   "outputs": [],
   "source": [
    "try:\n",
    "    session.execute(\"\"\"\n",
    "    CREATE KEYSPACE IF NOT EXISTS youtubedb \n",
    "    WITH REPLICATION = \n",
    "    { 'class' : 'SimpleStrategy', 'replication_factor' : 1 }\n",
    "    \"\"\")\n",
    "\n",
    "except Exception as e:\n",
    "    print(e)"
   ]
  },
  {
   "cell_type": "markdown",
   "metadata": {},
   "source": [
    "#### Set Keyspace `youtubedb`"
   ]
  },
  {
   "cell_type": "code",
   "execution_count": 7,
   "metadata": {},
   "outputs": [],
   "source": [
    "try:\n",
    "    session.set_keyspace('youtubedb')\n",
    "except Exception as e:\n",
    "    print(e)"
   ]
  },
  {
   "cell_type": "markdown",
   "metadata": {},
   "source": [
    "## Create queries to ask the following three questions of the data\n",
    "\n",
    "1. Select the youtuber, video title and video's length in the YouTube app history that was heard during  sessionId = 338, and itemInSession  = 4\n",
    "\n",
    "\n",
    "2. Select only the following: name of youtuber, video (sorted by itemInSession) and user (first and last name) for userid = 10, sessionid = 182\n",
    "    \n",
    "\n",
    "3. Select every user name (first and last) in my YouTube app history who watched the video 'All Hands Against His Own'"
   ]
  },
  {
   "cell_type": "markdown",
   "metadata": {},
   "source": []
  },
  {
   "cell_type": "code",
   "execution_count": 11,
   "metadata": {},
   "outputs": [
    {
     "data": {
      "text/plain": [
       "<cassandra.cluster.ResultSet at 0x2661b38c748>"
      ]
     },
     "execution_count": 11,
     "metadata": {},
     "output_type": "execute_result"
    }
   ],
   "source": [
    "##Q1 Making table\n",
    "q1 = \"CREATE TABLE IF NOT EXISTS table_test \\\n",
    "    ( youtuber text, video_title text, video_length float, sessionId int, itemInSession int, \\\n",
    "    PRIMARY KEY (sessionId, itemInSession) ) ;\"\n",
    "session.execute(q1)"
   ]
  },
  {
   "cell_type": "markdown",
   "metadata": {},
   "source": [
    "**QUERY 1**\n",
    "1. Select the youtuber, video title and video's length in the YouTube app history that was heard during sessionId = 338, and itemInSession = 4"
   ]
  },
  {
   "cell_type": "code",
   "execution_count": 12,
   "metadata": {},
   "outputs": [],
   "source": [
    "##Q1 inserting data\n",
    "qi1 = \"INSERT INTO table_test (youtuber, video_title, video_length, sessionId, itemInSession) VALUES (%s, %s, %s, %s, %s)\" \n",
    "for ind, row in event_data.iterrows():\n",
    "    try:\n",
    "        session.execute(qi1,(row['youtuber'], row['video'], float(row['length']), int(row['sessionId']), int(row['itemInSession']) ))\n",
    "    except Exception as e:\n",
    "        print(e)\n",
    "        "
   ]
  },
  {
   "cell_type": "code",
   "execution_count": 13,
   "metadata": {},
   "outputs": [
    {
     "name": "stdout",
     "output_type": "stream",
     "text": [
      "Row(youtuber='Faithless', video_title='Music Matters (Mark Knight Dub)', video_length=495.30731201171875)\n"
     ]
    }
   ],
   "source": [
    "##Q1 querying for results\n",
    "res_q1 = \"Select youtuber, video_title, video_length FROM table_test WHERE sessionId=338 AND itemInSession=4;\"\n",
    "rows = session.execute(res_q1)\n",
    "\n",
    "for row in rows:\n",
    "    print(row)"
   ]
  },
  {
   "cell_type": "markdown",
   "metadata": {},
   "source": [
    "**QUERY 2**\n",
    "2. Select only the following: name of youtuber, video (sorted by itemInSession) and user (first and last name) for userid = 10, sessionid = 182"
   ]
  },
  {
   "cell_type": "code",
   "execution_count": 116,
   "metadata": {},
   "outputs": [
    {
     "data": {
      "text/plain": [
       "<cassandra.cluster.ResultSet at 0x26e8687e6a0>"
      ]
     },
     "execution_count": 116,
     "metadata": {},
     "output_type": "execute_result"
    }
   ],
   "source": [
    "##Q2 Making table\n",
    "q2 = \"CREATE TABLE IF NOT EXISTS table2 \\\n",
    "    ( youtuber text, video_title text, firstName text, lastName text, userId int, sessionId int, itemInSession int, \\\n",
    "    PRIMARY KEY ((userId, sessionId), itemInSession )) ;\"\n",
    "session.execute(q2)"
   ]
  },
  {
   "cell_type": "code",
   "execution_count": 117,
   "metadata": {},
   "outputs": [],
   "source": [
    "##Q2 inserting data\n",
    "qi2 = \"INSERT INTO table2 (youtuber, video_title, firstName, lastName, userId, sessionId, itemInSession) VALUES (%s, %s, %s, %s, %s, %s, %s)\" \n",
    "for ind, row in event_data.iterrows():\n",
    "    try:\n",
    "        session.execute(qi2,(row['youtuber'], row['video'], row['firstName'], row['lastName'], int(row['userId']), int(row['sessionId']), int(row['itemInSession']) ))\n",
    "    except Exception as e:\n",
    "        print(e)\n",
    "        "
   ]
  },
  {
   "cell_type": "code",
   "execution_count": 118,
   "metadata": {},
   "outputs": [
    {
     "name": "stdout",
     "output_type": "stream",
     "text": [
      "Row(youtuber='Down To The Bone', video_title=\"Keep On Keepin' On\", firstname='Sylvie', lastname='Cruz', iteminsession=0)\n",
      "Row(youtuber='Three Drives', video_title='Greece 2000', firstname='Sylvie', lastname='Cruz', iteminsession=1)\n",
      "Row(youtuber='Sebastien Tellier', video_title='Kilometer', firstname='Sylvie', lastname='Cruz', iteminsession=2)\n",
      "Row(youtuber='Lonnie Gordon', video_title='Catch You Baby (Steve Pitron & Max Sanna Radio Edit)', firstname='Sylvie', lastname='Cruz', iteminsession=3)\n"
     ]
    }
   ],
   "source": [
    "##Q2 querying for results\n",
    "res_q2 = '''Select youtuber, video_title, firstName ,lastName, itemInSession FROM table2\n",
    "    WHERE userId=10 AND sessionId=182 ORDER BY itemInSession ; '''\n",
    "rows = session.execute(res_q2)\n",
    "\n",
    "for row in rows:\n",
    "    print(row)"
   ]
  },
  {
   "cell_type": "markdown",
   "metadata": {},
   "source": [
    "**QUERY 3**\n",
    "3. Select every user name (first and last) in my YouTube app history who watched the video 'All Hands Against His Own'"
   ]
  },
  {
   "cell_type": "code",
   "execution_count": 131,
   "metadata": {},
   "outputs": [
    {
     "data": {
      "text/plain": [
       "<cassandra.cluster.ResultSet at 0x26e8792c630>"
      ]
     },
     "execution_count": 131,
     "metadata": {},
     "output_type": "execute_result"
    }
   ],
   "source": [
    "##Q3 Making table\n",
    "q3 = \"CREATE TABLE IF NOT EXISTS table3 ( firstName text, lastName text, video_title text, \\\n",
    "    PRIMARY KEY (video_title, firstName, lastName ) ) ;\"\n",
    "\n",
    "session.execute(q3)"
   ]
  },
  {
   "cell_type": "code",
   "execution_count": 132,
   "metadata": {},
   "outputs": [],
   "source": [
    "##Q3 inserting data\n",
    "qi3 = \"INSERT INTO table3 (firstName, lastName,video_title) VALUES (%s, %s, %s)\" \n",
    "for ind, row in event_data.iterrows():\n",
    "    try:\n",
    "        session.execute(qi3,(row['firstName'], row['lastName'], row['video'] ))\n",
    "    except Exception as e:\n",
    "        print(e)\n",
    "        "
   ]
  },
  {
   "cell_type": "code",
   "execution_count": 133,
   "metadata": {},
   "outputs": [
    {
     "name": "stdout",
     "output_type": "stream",
     "text": [
      "Row(firstname='Jacqueline', lastname='Lynch')\n",
      "Row(firstname='Sara', lastname='Johnson')\n",
      "Row(firstname='Tegan', lastname='Levine')\n"
     ]
    }
   ],
   "source": [
    "##Q3 querying for results\n",
    "res_q3 = \"Select firstName, lastName FROM table3 WHERE video_title = 'All Hands Against His Own' ;\"\n",
    "rows = session.execute(res_q3)\n",
    "\n",
    "for row in rows:\n",
    "    print(row)"
   ]
  },
  {
   "cell_type": "markdown",
   "metadata": {},
   "source": [
    "### Drop the tables before closing out the sessions"
   ]
  },
  {
   "cell_type": "code",
   "execution_count": 136,
   "metadata": {},
   "outputs": [
    {
     "data": {
      "text/plain": [
       "<cassandra.cluster.ResultSet at 0x26e8b43c208>"
      ]
     },
     "execution_count": 136,
     "metadata": {},
     "output_type": "execute_result"
    }
   ],
   "source": [
    "q1 = \"drop table table1\"\n",
    "q2 = \"drop table table2\"\n",
    "q3 = \"drop table table3\"\n",
    "\n",
    "session.execute(q1)\n",
    "\n",
    "session.execute(q2)\n",
    "\n",
    "session.execute(q3)"
   ]
  },
  {
   "cell_type": "markdown",
   "metadata": {},
   "source": [
    "### Close the session and cluster connection¶"
   ]
  },
  {
   "cell_type": "code",
   "execution_count": 137,
   "metadata": {},
   "outputs": [],
   "source": [
    "session.shutdown()"
   ]
  },
  {
   "cell_type": "code",
   "execution_count": 138,
   "metadata": {},
   "outputs": [],
   "source": [
    "cluster.shutdown()"
   ]
  },
  {
   "cell_type": "code",
   "execution_count": null,
   "metadata": {},
   "outputs": [],
   "source": []
  }
 ],
 "metadata": {
  "kernelspec": {
   "display_name": "Python 3",
   "language": "python",
   "name": "python3"
  },
  "language_info": {
   "codemirror_mode": {
    "name": "ipython",
    "version": 3
   },
   "file_extension": ".py",
   "mimetype": "text/x-python",
   "name": "python",
   "nbconvert_exporter": "python",
   "pygments_lexer": "ipython3",
   "version": "3.7.3"
  }
 },
 "nbformat": 4,
 "nbformat_minor": 2
}
